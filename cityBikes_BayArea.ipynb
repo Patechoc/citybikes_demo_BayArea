{
 "cells": [
  {
   "cell_type": "markdown",
   "metadata": {},
   "source": [
    "# Data Analysis of City Bikes in the Bay Area\n",
    "\n",
    "* http://www.bayareabikeshare.com\n",
    "* https://www.fordgobike.com/system-data"
   ]
  },
  {
   "cell_type": "markdown",
   "metadata": {},
   "source": [
    "<table class=\"tg\">\n",
    "  <tr>\n",
    "    <th class=\"tg-yw4l\"><img src=\"./images/prediction_bikeSupply_SanFranciscoCaltrain.png\"></th>\n",
    "    <th class=\"tg-yw4l\"><img src=\"./images/prediction_bikeSupply_SanFranciscoCaltrain_2015-07-08.png\"></th>\n",
    "  </tr>\n",
    "</table>"
   ]
  },
  {
   "cell_type": "code",
   "execution_count": 1,
   "metadata": {
    "collapsed": true
   },
   "outputs": [],
   "source": [
    "import os\n",
    "import pandas as pd\n",
    "import numpy as np\n",
    "from datetime import datetime, date\n",
    "import pytz\n",
    "from pytz import timezone\n",
    "import dill as pickle\n",
    "\n",
    "import fetchData as fd\n",
    "import exploratoryAnalysis as expAn\n",
    "import distanceMatrix"
   ]
  },
  {
   "cell_type": "code",
   "execution_count": 2,
   "metadata": {},
   "outputs": [
    {
     "data": {
      "text/plain": [
       "'3.6.1 |Anaconda 4.4.0 (64-bit)| (default, May 11 2017, 13:09:58) \\n[GCC 4.4.7 20120313 (Red Hat 4.4.7-1)]'"
      ]
     },
     "execution_count": 2,
     "metadata": {},
     "output_type": "execute_result"
    }
   ],
   "source": [
    "import sys\n",
    "sys.version"
   ]
  },
  {
   "cell_type": "code",
   "execution_count": 3,
   "metadata": {
    "collapsed": true
   },
   "outputs": [],
   "source": [
    "stationName = 'San Francisco Caltrain (Townsend at 4th)'  \n",
    "#stationName = 'Market at Sansome' \n",
    "\n",
    "freq_hour = 1  ## sampling frequency to cumulate the nb. of bike trips\n",
    " \n",
    "paths = [r'../data/babs_open_data_year_2']"
   ]
  },
  {
   "cell_type": "markdown",
   "metadata": {},
   "source": [
    "## Get, Read and Clean raw data"
   ]
  },
  {
   "cell_type": "code",
   "execution_count": 4,
   "metadata": {},
   "outputs": [],
   "source": [
    "## Uncomment to download and extract the data\n",
    "!mkdir -p ../data\n",
    "directory = \"../data/\"\n",
    "\n",
    "links = [\"https://s3.amazonaws.com/babs-open-data/babs_open_data_year_1.zip\",\n",
    "         \"https://s3.amazonaws.com/babs-open-data/babs_open_data_year_2.zip\",\n",
    "         \"https://s3.amazonaws.com/babs-open-data/babs_open_data_year_3.zip\"]\n",
    "for url in links:\n",
    "    (filename, path_to_file) = fd.download_file_by_url(url, directory)\n",
    "    fd.unzip_file(filename, path_to_file)"
   ]
  },
  {
   "cell_type": "code",
   "execution_count": 5,
   "metadata": {},
   "outputs": [
    {
     "name": "stdout",
     "output_type": "stream",
     "text": [
      "201508_station_data.csv  201508_trip_data.csv\t  babs_open_data_year_2.zip\r\n",
      "201508_status_data.csv\t 201508_weather_data.csv  README.txt\r\n"
     ]
    }
   ],
   "source": [
    "!ls ../data/babs_open_data_year_2"
   ]
  },
  {
   "cell_type": "code",
   "execution_count": 6,
   "metadata": {},
   "outputs": [
    {
     "name": "stdout",
     "output_type": "stream",
     "text": [
      "2015-09-01 08:26:00+02:00\n",
      "Now in Oslo (Norway):  2017-10-06 16:50:18.886212+02:00\n",
      "Now in San Francisco:  2017-10-06 07:50:18.886386-07:00\n"
     ]
    }
   ],
   "source": [
    "# Making sure we get the time from the right timezone \n",
    "from datetime import datetime, timedelta\n",
    "import pytz\n",
    "#print pytz.all_timezones\n",
    "parse = lambda x: pytz.timezone('US/Pacific').localize(datetime.strptime(x,'%m/%d/%Y %H:%M')) #.astimezone(pytz.timezone('US/Pacific'))\n",
    "print(parse(\"8/31/2015 23:26\").astimezone(pytz.timezone('Europe/Paris')))\n",
    "\n",
    "print(\"Now in Oslo (Norway): \", pytz.timezone('Europe/Oslo').localize(datetime.now()))\n",
    "print(\"Now in San Francisco: \", pytz.timezone('Europe/Oslo').localize(datetime.now()).astimezone(pytz.timezone('America/Los_Angeles')))"
   ]
  },
  {
   "cell_type": "markdown",
   "metadata": {},
   "source": [
    "## Trips data"
   ]
  },
  {
   "cell_type": "code",
   "execution_count": 7,
   "metadata": {},
   "outputs": [],
   "source": [
    "## BikeTrips data (takes a few minutes!!)\n",
    "dataTrips = expAn.read_or_store_object('dataTrips', './pkl', expAn.read_dataTrips_from_csv_files, paths=paths, asUTC=False)\n"
   ]
  },
  {
   "cell_type": "code",
   "execution_count": 8,
   "metadata": {},
   "outputs": [],
   "source": [
    "## SUPPLY & DEMAND: Count how many bikes are arriving/leaving per x hour at a given station\n",
    "cumulEndTrips   = expAn.read_or_store_object('cumulEndTrips', './pkl',\n",
    "                                             expAn.count_bikes_arriving, dataTrips, stationName, freq_hour)\n",
    "cumulStartTrips = expAn.read_or_store_object('cumulStartTrips', './pkl',\n",
    "                                             expAn.count_bikes_leaving, dataTrips, stationName, freq_hour)"
   ]
  },
  {
   "cell_type": "code",
   "execution_count": 9,
   "metadata": {},
   "outputs": [
    {
     "data": {
      "text/plain": [
       "Trip ID                     int64\n",
       "Duration                    int64\n",
       "Start Date         datetime64[ns]\n",
       "Start Station              object\n",
       "Start Terminal              int64\n",
       "End Date           datetime64[ns]\n",
       "End Station                object\n",
       "End Terminal                int64\n",
       "Bike #                      int64\n",
       "Subscriber Type            object\n",
       "Zip Code                   object\n",
       "dtype: object"
      ]
     },
     "execution_count": 9,
     "metadata": {},
     "output_type": "execute_result"
    }
   ],
   "source": [
    "dataTrips.dtypes"
   ]
  },
  {
   "cell_type": "code",
   "execution_count": 10,
   "metadata": {},
   "outputs": [
    {
     "data": {
      "text/html": [
       "<div>\n",
       "<style>\n",
       "    .dataframe thead tr:only-child th {\n",
       "        text-align: right;\n",
       "    }\n",
       "\n",
       "    .dataframe thead th {\n",
       "        text-align: left;\n",
       "    }\n",
       "\n",
       "    .dataframe tbody tr th {\n",
       "        vertical-align: top;\n",
       "    }\n",
       "</style>\n",
       "<table border=\"1\" class=\"dataframe\">\n",
       "  <thead>\n",
       "    <tr style=\"text-align: right;\">\n",
       "      <th></th>\n",
       "      <th>Trip ID</th>\n",
       "      <th>Duration</th>\n",
       "      <th>Start Date</th>\n",
       "      <th>Start Station</th>\n",
       "      <th>Start Terminal</th>\n",
       "      <th>End Date</th>\n",
       "      <th>End Station</th>\n",
       "      <th>End Terminal</th>\n",
       "      <th>Bike #</th>\n",
       "      <th>Subscriber Type</th>\n",
       "      <th>Zip Code</th>\n",
       "    </tr>\n",
       "  </thead>\n",
       "  <tbody>\n",
       "    <tr>\n",
       "      <th>0</th>\n",
       "      <td>913460</td>\n",
       "      <td>765</td>\n",
       "      <td>2015-08-31 23:26:00</td>\n",
       "      <td>Harry Bridges Plaza (Ferry Building)</td>\n",
       "      <td>50</td>\n",
       "      <td>2015-08-31 23:39:00</td>\n",
       "      <td>San Francisco Caltrain (Townsend at 4th)</td>\n",
       "      <td>70</td>\n",
       "      <td>288</td>\n",
       "      <td>Subscriber</td>\n",
       "      <td>2139</td>\n",
       "    </tr>\n",
       "    <tr>\n",
       "      <th>1</th>\n",
       "      <td>913459</td>\n",
       "      <td>1036</td>\n",
       "      <td>2015-08-31 23:11:00</td>\n",
       "      <td>San Antonio Shopping Center</td>\n",
       "      <td>31</td>\n",
       "      <td>2015-08-31 23:28:00</td>\n",
       "      <td>Mountain View City Hall</td>\n",
       "      <td>27</td>\n",
       "      <td>35</td>\n",
       "      <td>Subscriber</td>\n",
       "      <td>95032</td>\n",
       "    </tr>\n",
       "    <tr>\n",
       "      <th>2</th>\n",
       "      <td>913455</td>\n",
       "      <td>307</td>\n",
       "      <td>2015-08-31 23:13:00</td>\n",
       "      <td>Post at Kearny</td>\n",
       "      <td>47</td>\n",
       "      <td>2015-08-31 23:18:00</td>\n",
       "      <td>2nd at South Park</td>\n",
       "      <td>64</td>\n",
       "      <td>468</td>\n",
       "      <td>Subscriber</td>\n",
       "      <td>94107</td>\n",
       "    </tr>\n",
       "    <tr>\n",
       "      <th>3</th>\n",
       "      <td>913454</td>\n",
       "      <td>409</td>\n",
       "      <td>2015-08-31 23:10:00</td>\n",
       "      <td>San Jose City Hall</td>\n",
       "      <td>10</td>\n",
       "      <td>2015-08-31 23:17:00</td>\n",
       "      <td>San Salvador at 1st</td>\n",
       "      <td>8</td>\n",
       "      <td>68</td>\n",
       "      <td>Subscriber</td>\n",
       "      <td>95113</td>\n",
       "    </tr>\n",
       "    <tr>\n",
       "      <th>4</th>\n",
       "      <td>913453</td>\n",
       "      <td>789</td>\n",
       "      <td>2015-08-31 23:09:00</td>\n",
       "      <td>Embarcadero at Folsom</td>\n",
       "      <td>51</td>\n",
       "      <td>2015-08-31 23:22:00</td>\n",
       "      <td>Embarcadero at Sansome</td>\n",
       "      <td>60</td>\n",
       "      <td>487</td>\n",
       "      <td>Customer</td>\n",
       "      <td>9069</td>\n",
       "    </tr>\n",
       "  </tbody>\n",
       "</table>\n",
       "</div>"
      ],
      "text/plain": [
       "   Trip ID  Duration          Start Date  \\\n",
       "0   913460       765 2015-08-31 23:26:00   \n",
       "1   913459      1036 2015-08-31 23:11:00   \n",
       "2   913455       307 2015-08-31 23:13:00   \n",
       "3   913454       409 2015-08-31 23:10:00   \n",
       "4   913453       789 2015-08-31 23:09:00   \n",
       "\n",
       "                          Start Station  Start Terminal            End Date  \\\n",
       "0  Harry Bridges Plaza (Ferry Building)              50 2015-08-31 23:39:00   \n",
       "1           San Antonio Shopping Center              31 2015-08-31 23:28:00   \n",
       "2                        Post at Kearny              47 2015-08-31 23:18:00   \n",
       "3                    San Jose City Hall              10 2015-08-31 23:17:00   \n",
       "4                 Embarcadero at Folsom              51 2015-08-31 23:22:00   \n",
       "\n",
       "                                End Station  End Terminal  Bike #  \\\n",
       "0  San Francisco Caltrain (Townsend at 4th)            70     288   \n",
       "1                   Mountain View City Hall            27      35   \n",
       "2                         2nd at South Park            64     468   \n",
       "3                       San Salvador at 1st             8      68   \n",
       "4                    Embarcadero at Sansome            60     487   \n",
       "\n",
       "  Subscriber Type Zip Code  \n",
       "0      Subscriber     2139  \n",
       "1      Subscriber    95032  \n",
       "2      Subscriber    94107  \n",
       "3      Subscriber    95113  \n",
       "4        Customer     9069  "
      ]
     },
     "execution_count": 10,
     "metadata": {},
     "output_type": "execute_result"
    }
   ],
   "source": [
    "dataTrips.head()"
   ]
  },
  {
   "cell_type": "markdown",
   "metadata": {},
   "source": [
    "## Stations data"
   ]
  },
  {
   "cell_type": "code",
   "execution_count": 11,
   "metadata": {},
   "outputs": [
    {
     "name": "stdout",
     "output_type": "stream",
     "text": [
      "IDs of neighbouring stations to San Francisco Caltrain (Townsend at 4th): [61 69]\n",
      "Names stations nearby San Francisco Caltrain (Townsend at 4th):\n",
      "['2nd at Townsend', 'San Francisco Caltrain 2 (330 Townsend)']\n"
     ]
    }
   ],
   "source": [
    "stationData  = expAn.read_dataStation_from_csv_files(paths)\n",
    "stationID    = expAn.get_stationID(stationName, stationData)\n",
    "stationDockcount = expAn.get_stationDockcount(stationName, stationData)\n",
    "(lat, lon)    = expAn.get_station_coordinates(stationName, stationData)\n",
    "neighboursIDs = expAn.get_neighbouring_stationIDs(stationData, stationName, radius=.65)\n",
    "print(\"IDs of neighbouring stations to {statName}: {IDs}\".format(statName=stationName, IDs=neighboursIDs))\n",
    "print(\"Names stations nearby {statName}:\\n{Names}\".format(statName=stationName,\n",
    "                                                                   Names=expAn.get_stationNames(neighboursIDs, stationData)))"
   ]
  },
  {
   "cell_type": "code",
   "execution_count": 12,
   "metadata": {
    "collapsed": true
   },
   "outputs": [],
   "source": [
    "stationNames = list(stationData[\"name\"].unique()) \n",
    "freq = \"1\"\n",
    "#for stationName in stationNames:\n",
    "#    cumulEndTrips   = expAn.count_bikes_arriving(dataTrips, stationName, freq)\n",
    "cumulEndTrips   = expAn.count_bikes_arriving(dataTrips, stationNames[0], freq)"
   ]
  },
  {
   "cell_type": "markdown",
   "metadata": {},
   "source": [
    "## Weather data"
   ]
  },
  {
   "cell_type": "code",
   "execution_count": 13,
   "metadata": {
    "collapsed": true
   },
   "outputs": [],
   "source": [
    "dateparse = lambda x: pytz.timezone('US/Pacific').localize(datetime.strptime(x,'%m/%d/%Y')).astimezone(timezone('UTC'))"
   ]
  },
  {
   "cell_type": "code",
   "execution_count": 14,
   "metadata": {},
   "outputs": [
    {
     "data": {
      "text/plain": [
       "datetime.datetime(2014, 9, 1, 7, 0, tzinfo=<UTC>)"
      ]
     },
     "execution_count": 14,
     "metadata": {},
     "output_type": "execute_result"
    }
   ],
   "source": [
    "dateparse('9/1/2014')"
   ]
  },
  {
   "cell_type": "code",
   "execution_count": 15,
   "metadata": {
    "collapsed": true
   },
   "outputs": [],
   "source": [
    "df = pd.read_csv('../data/babs_open_data_year_2/201508_weather_data.csv', index_col=0, date_parser=dateparse)"
   ]
  },
  {
   "cell_type": "code",
   "execution_count": 16,
   "metadata": {},
   "outputs": [
    {
     "name": "stdout",
     "output_type": "stream",
     "text": [
      "postal codes available with weather forecast:  [94107 94063 94301 94041 95113]\n",
      "post codes of neighborhood:  [94158, 94103, 94105, 94107]\n"
     ]
    }
   ],
   "source": [
    "weatherData = expAn.read_dataWeather_from_csv_files(paths=paths)\n",
    "print(\"postal codes available with weather forecast: \", weatherData['Zip'].unique())\n",
    "(precipitation_mm, temperature_celcius) = expAn.get_weatherInfos(weatherData, stationData, stationName)\n",
    "weatherInfos = {}\n",
    "weatherInfos['precipitation_mm']    = precipitation_mm\n",
    "weatherInfos['temperature_celcius'] = temperature_celcius"
   ]
  },
  {
   "cell_type": "markdown",
   "metadata": {},
   "source": [
    "## Predictions for a given station:\n",
    "\n",
    "* Build a prediction model for the **supply** and **demand** of bikes which takes into account:\n",
    "    * earlier samples,\n",
    "    * the weather data,\n",
    "    * possibly information about neighbour stations\n"
   ]
  },
  {
   "cell_type": "markdown",
   "metadata": {},
   "source": [
    "### Predict the number of bikes arriving, and compare various algorithms\n",
    "\n",
    "* linear regression\n",
    "* decision tree regressor\n",
    "* Random Forest\n",
    "* Boosted decision tree\n"
   ]
  },
  {
   "cell_type": "code",
   "execution_count": 17,
   "metadata": {
    "collapsed": true
   },
   "outputs": [],
   "source": [
    "inputsDemand = [{'title':'Prediction of bike demand from {stationName}'.format(stationName=stationName),\n",
    "                 'data':cumulStartTrips,\n",
    "                 'freq_hour':freq_hour, 'supply_demand':'demand', 'checkDockAvailable':False,\n",
    "                 'withWeather':True,\n",
    "                 'label':'Linear Regression', 'algo':'LinearRegression',\n",
    "                 'ratioTest':0.3, },\n",
    "#                 {\n",
    "#                  'title':'Prediction of bike demand from {stationName}'.format(stationName=stationName),\n",
    "#                  'data' : cumulStartTrips, \n",
    "#                  'freq_hour':freq_hour, 'supply_demand':'demand', 'checkDockAvailable':False,\n",
    "#                  'withWeather':True,\n",
    "#                  'label':'Random Forest', 'algo':'RandomForestRegressor',\n",
    "#                  'ratioTest':0.3, \n",
    "#                  },\n",
    "                ]\n",
    "\n",
    "                \n",
    "#                 {'name':'Linear Regression (no weather)', 'algo':'LinearRegression', \n",
    "#           'ratioTest':0.3, 'predictFromPast':True, 'withWeather':False, 'checkDockAvailable':True},\n",
    "          \n",
    "#           {'name':'Linear Regression with weather infos ', 'algo':'LinearRegression', \n",
    "#           'ratioTest':0.3, 'predictFromPast':True, 'withWeather':True, 'checkDockAvailable':True},\n",
    "          \n",
    "#           {'name':'Decision Tree', 'algo':'DecisionTreeRegressor',\n",
    "#           'ratioTest':0.3, 'predictFromPast':True, 'withWeather':True, 'checkDockAvailable':True},\n",
    "        \n",
    "          \n",
    "#          {'name':'Boosted Decision Tree', 'algo':'BoostedDecisionTreeRegressor',\n",
    "#           'ratioTest':0.3, 'predictFromPast':True, 'withWeather':True, 'checkDockAvailable':True},\n",
    "          \n",
    "#          {'name':'Gradient Boosting Regressor', 'algo':'GradientBoostingRegressor',\n",
    "#           'ratioTest':0.3, 'predictFromPast':True, 'withWeather':True, 'checkDockAvailable':True}]"
   ]
  },
  {
   "cell_type": "code",
   "execution_count": 18,
   "metadata": {
    "collapsed": true
   },
   "outputs": [],
   "source": [
    "inputsSupply = [{\n",
    "                 'title':'Prediction of bike supply @ {stationName}'.format(stationName=stationName),\n",
    "                 'data' : cumulEndTrips, \n",
    "                 'freq_hour':freq_hour, 'supply_demand':'supply', 'checkDockAvailable':True,\n",
    "                 'withWeather': True,\n",
    "                 'label':'Linear Regression', 'algo':'LinearRegression',\n",
    "                 'ratioTest':0.3,\n",
    "                 },\n",
    "#                 {\n",
    "#                  'title':'Prediction of bike supply @ {stationName}'.format(stationName=stationName),\n",
    "#                  'data' : cumulEndTrips, \n",
    "#                  'freq_hour':freq_hour, 'supply_demand':'supply', 'checkDockAvailable':True,\n",
    "#                  'withWeather': True,\n",
    "#                  'label':'Random Forest', 'algo':'RandomForestRegressor',\n",
    "#                  'ratioTest':0.3, \n",
    "#                  },\n",
    "                ]"
   ]
  },
  {
   "cell_type": "markdown",
   "metadata": {},
   "source": [
    "### Description of the features in this simple autoregressive model"
   ]
  },
  {
   "cell_type": "code",
   "execution_count": 19,
   "metadata": {},
   "outputs": [
    {
     "name": "stdout",
     "output_type": "stream",
     "text": [
      "2013-08-29\n",
      "earliestTime:  2013-09-26 00:00:00\n",
      "[Timestamp('2013-09-25 23:00:00'), Timestamp('2013-09-25 22:00:00'), Timestamp('2013-09-25 21:00:00'), Timestamp('2013-09-25 16:00:00'), Timestamp('2013-09-25 00:00:00'), Timestamp('2013-09-19 00:00:00'), Timestamp('2013-09-12 00:00:00'), Timestamp('2013-08-29 00:00:00')]\n"
     ]
    }
   ],
   "source": [
    "offsetsTrip = [pd.DateOffset(**k) for k in [{'hours': 1*freq_hour},{'hours': 2*freq_hour},\\\n",
    "                                            {'hours': 3*freq_hour}, {'hours': 8*freq_hour},\\\n",
    "                                            {'days': 1}, {'days': 7}, {'days': 14},\\\n",
    "                                            {'days': 28}]]\n",
    "# weatherInfos['precipitation_mm'].index.asof(str(date(2013,8,29)))\n",
    "print(date(2013,8,29))\n",
    "earliestTime =  date(2013,8,29) + offsetsTrip[-1]\n",
    "print(\"earliestTime: \",earliestTime)\n",
    "print([earliestTime-i for i in offsetsTrip])\n"
   ]
  },
  {
   "cell_type": "code",
   "execution_count": 20,
   "metadata": {},
   "outputs": [
    {
     "data": {
      "text/plain": [
       "dict_keys(['precipitation_mm', 'temperature_celcius'])"
      ]
     },
     "execution_count": 20,
     "metadata": {},
     "output_type": "execute_result"
    }
   ],
   "source": [
    "weatherInfos.keys()"
   ]
  },
  {
   "cell_type": "code",
   "execution_count": 21,
   "metadata": {},
   "outputs": [],
   "source": [
    "(X_full, y_full) = expAn.build_modelInputs(inputsSupply[0], weatherInfos)"
   ]
  },
  {
   "cell_type": "code",
   "execution_count": 22,
   "metadata": {},
   "outputs": [],
   "source": [
    "def build_split_train_predict(inputs, weatherInfos={}):\n",
    "    from sklearn import preprocessing\n",
    "    from sklearn.linear_model import LinearRegression\n",
    "    from sklearn.tree import DecisionTreeRegressor\n",
    "    from sklearn.ensemble import RandomForestRegressor, AdaBoostRegressor, GradientBoostingRegressor\n",
    "    outputs = []\n",
    "    for inp in inputs:\n",
    "        ## READ AND COMPLETE INPUTS WITH DEFAULT VALUES IF MISSING\n",
    "        inpDF = inp['data']\n",
    "        output = inp\n",
    "        if 'algo' not in inp.keys():\n",
    "            output['algo'] = 'LinearRegression'\n",
    "        if 'ratioTest' not in inp.keys():\n",
    "            output['ratioTest'] = 0.3\n",
    "        if 'withWeather' not in inp.keys():\n",
    "            output['withWeather'] = True\n",
    "        if 'checkDockAvailable' not in inp.keys():\n",
    "            output['checkDockAvailable'] = True\n",
    "        if 'checkBikeAvailable' not in inp.keys():\n",
    "            output['checkBikeAvailable'] = True\n",
    "        ## build the model\n",
    "        (X_full, y_full) = expAn.build_modelInputs(inp, weatherInfos)\n",
    "\n",
    "        # Split the data into training/testing sets\n",
    "        nTest = int(round(len(X_full)*output['ratioTest']))\n",
    "        X_trainingSet = X_full[:-nTest]\n",
    "        X_testingSet  = X_full[-nTest:]\n",
    "        # Split the targets into training/testing sets\n",
    "        y_train = y_full[:-nTest]\n",
    "        y_test  = y_full[-nTest:]\n",
    "        output['X_full'] = X_full\n",
    "        output['y_full'] = y_full\n",
    "        output['X_trainingSet'] = X_trainingSet\n",
    "        output['X_testingSet'] = X_testingSet\n",
    "        output['y_train'] = y_train\n",
    "        output['y_test'] = y_test\n",
    "        output['dates_train'] = inpDF.index[:-nTest]\n",
    "        output['dates_test'] = inpDF.index[-nTest:]\n",
    "        print(inp['algo'])\n",
    "\n",
    "        ## Normalizing the model coefficients for meaningful comparison\n",
    "        ## Standardization, or mean removal and variance scaling\n",
    "        ## (http://scikit-learn.org/stable/modules/preprocessing.html#preprocessing)\n",
    "        scaler = preprocessing.StandardScaler(copy=True, with_mean=True, with_std=True).fit(X_trainingSet)\n",
    "        X_trainingSet = scaler.transform(X_trainingSet)\n",
    "        X_testingSet = scaler.transform(X_testingSet)\n",
    "        \n",
    "        # Train the model using the training sets\n",
    "        print('\\nLabel: {}'.format(output['label']))\n",
    "        \n",
    "#         algo = {'LinearRegression':LinearRegression(),\n",
    "#                 'DecisionTreeRegressor':DecisionTreeRegressor(),\n",
    "#                 'RandomForestRegressor':RandomForestRegressor(n_estimators=150, min_samples_split=1),\n",
    "#                 'BoostedDecisionTreeRegressor':AdaBoostRegressor(DecisionTreeRegressor(max_depth=4),\n",
    "#                                                                  n_estimators=150).fit(X_trainingSet, y_train),\n",
    "#                 'GradientBoostingRegressor':GradientBoostingRegressor(alpha=0.9, init=None, learning_rate=0.1, loss='ls',\n",
    "#                                                                       max_depth=3, max_features=None,\n",
    "#                                                                       min_samples_leaf=1, min_samples_split=2,\n",
    "#                                                                       n_estimators=100,\n",
    "#                                                                       random_state=None, subsample=1.0, verbose=0)}[inp['algo']]\n",
    "\n",
    "\n",
    "        algo = {'LinearRegression':LinearRegression()}[inp['algo']]        \n",
    "        model = algo.fit(X_trainingSet, y_train)\n",
    "        output['model'] = model\n",
    "        \n",
    "        RSS = sum((y_train - model.predict(X_trainingSet))**2)  ## residual sum of squares (RSS) p.62\n",
    "        TSS = sum((y_train - np.mean(y_train))**2)\n",
    "        \n",
    "        ## The residual standard error (RSE) provides an absolute measure of lack of fit of the model to the data.\n",
    "        RSE = (RSS/(len(y_train)-2))**(0.5) ## residual standard error (RSE) p.69\n",
    "        \n",
    "        ## But since the RSE is measured in the units of Y , it is not always clear what constitutes a good RSE.\n",
    "        ## The R**2 statistic provides an alternative measure of fit. It takes the form of a proportion\n",
    "        ## — the proportion of variance explained — and so it always takes on a value between 0 and 1, and is \n",
    "        ## independent of the scale of Y. (p.69-70)\n",
    "        R2statistic = 1. - RSS/TSS\n",
    "        \n",
    "        # prediction\n",
    "        y_predict = model.predict(X_testingSet) # to compare to the real values: y_test\n",
    "        output['y_predict'] = y_predict\n",
    "\n",
    "        ### Explained variance score: 1 is perfect prediction\n",
    "        #if inp['algo'] != 'RandomForestRegressor':\n",
    "        scoreVarTrain = model.score(X_trainingSet, y_train)\n",
    "        scoreVarTest = model.score(X_testingSet, y_test)\n",
    "        sse = np.mean((y_predict - y_test) ** 2)\n",
    "        print(\"sum of squared errors of prediction (SSE): %.2f\" % sse)\n",
    "        print('Variance score on training set: %.2f' % scoreVarTrain)\n",
    "        print('Variance score on test set: %.2f' % scoreVarTest)\n",
    "        print('RSE: %.2f' % RSE)\n",
    "        print('R^2: %.2f' % R2statistic)\n",
    "        stats = {'scoreVarTrain':scoreVarTrain,\n",
    "                 'scoreVarTest':scoreVarTest, 'sse':sse,\n",
    "                 'RSS':RSS, 'TSS':TSS, 'RSE':RSE,\n",
    "                 'R2statistic':R2statistic}\n",
    "        output['stats'] = stats\n",
    "        outputs.append(output)\n",
    "    return outputs\n"
   ]
  },
  {
   "cell_type": "code",
   "execution_count": 23,
   "metadata": {},
   "outputs": [
    {
     "name": "stdout",
     "output_type": "stream",
     "text": [
      "LinearRegression\n",
      "\n",
      "Label: Linear Regression\n",
      "sum of squared errors of prediction (SSE): 0.52\n",
      "Variance score on training set: 0.65\n",
      "Variance score on test set: 0.68\n",
      "RSE: 0.79\n",
      "R^2: 0.65\n"
     ]
    }
   ],
   "source": [
    "results_supply = build_split_train_predict(inputsSupply, weatherInfos)"
   ]
  },
  {
   "cell_type": "code",
   "execution_count": 24,
   "metadata": {},
   "outputs": [
    {
     "name": "stdout",
     "output_type": "stream",
     "text": [
      "LinearRegression\n",
      "\n",
      "Label: Linear Regression\n",
      "sum of squared errors of prediction (SSE): 5.30\n",
      "Variance score on training set: 0.80\n",
      "Variance score on test set: 0.82\n",
      "RSE: 2.75\n",
      "R^2: 0.80\n"
     ]
    }
   ],
   "source": [
    "results_demand = build_split_train_predict(inputsDemand, weatherInfos)"
   ]
  },
  {
   "cell_type": "markdown",
   "metadata": {},
   "source": [
    "### Plot to compare the combinations of input parameters and AI algo."
   ]
  },
  {
   "cell_type": "code",
   "execution_count": 25,
   "metadata": {},
   "outputs": [
    {
     "data": {
      "text/html": [
       "\n",
       "    <div class=\"bk-root\">\n",
       "        <a href=\"http://bokeh.pydata.org\" target=\"_blank\" class=\"bk-logo bk-logo-small bk-logo-notebook\"></a>\n",
       "        <span id=\"bd2e83f6-59ea-4e0a-b12f-31e41088a33f\">Loading BokehJS ...</span>\n",
       "    </div>"
      ]
     },
     "metadata": {},
     "output_type": "display_data"
    },
    {
     "data": {
      "application/javascript": [
       "\n",
       "(function(global) {\n",
       "  function now() {\n",
       "    return new Date();\n",
       "  }\n",
       "\n",
       "  var force = true;\n",
       "\n",
       "  if (typeof (window._bokeh_onload_callbacks) === \"undefined\" || force === true) {\n",
       "    window._bokeh_onload_callbacks = [];\n",
       "    window._bokeh_is_loading = undefined;\n",
       "  }\n",
       "\n",
       "\n",
       "  \n",
       "  if (typeof (window._bokeh_timeout) === \"undefined\" || force === true) {\n",
       "    window._bokeh_timeout = Date.now() + 5000;\n",
       "    window._bokeh_failed_load = false;\n",
       "  }\n",
       "\n",
       "  var NB_LOAD_WARNING = {'data': {'text/html':\n",
       "     \"<div style='background-color: #fdd'>\\n\"+\n",
       "     \"<p>\\n\"+\n",
       "     \"BokehJS does not appear to have successfully loaded. If loading BokehJS from CDN, this \\n\"+\n",
       "     \"may be due to a slow or bad network connection. Possible fixes:\\n\"+\n",
       "     \"</p>\\n\"+\n",
       "     \"<ul>\\n\"+\n",
       "     \"<li>re-rerun `output_notebook()` to attempt to load from CDN again, or</li>\\n\"+\n",
       "     \"<li>use INLINE resources instead, as so:</li>\\n\"+\n",
       "     \"</ul>\\n\"+\n",
       "     \"<code>\\n\"+\n",
       "     \"from bokeh.resources import INLINE\\n\"+\n",
       "     \"output_notebook(resources=INLINE)\\n\"+\n",
       "     \"</code>\\n\"+\n",
       "     \"</div>\"}};\n",
       "\n",
       "  function display_loaded() {\n",
       "    if (window.Bokeh !== undefined) {\n",
       "      var el = document.getElementById(\"bd2e83f6-59ea-4e0a-b12f-31e41088a33f\");\n",
       "      el.textContent = \"BokehJS \" + Bokeh.version + \" successfully loaded.\";\n",
       "    } else if (Date.now() < window._bokeh_timeout) {\n",
       "      setTimeout(display_loaded, 100)\n",
       "    }\n",
       "  }\n",
       "\n",
       "  function run_callbacks() {\n",
       "    window._bokeh_onload_callbacks.forEach(function(callback) { callback() });\n",
       "    delete window._bokeh_onload_callbacks\n",
       "    console.info(\"Bokeh: all callbacks have finished\");\n",
       "  }\n",
       "\n",
       "  function load_libs(js_urls, callback) {\n",
       "    window._bokeh_onload_callbacks.push(callback);\n",
       "    if (window._bokeh_is_loading > 0) {\n",
       "      console.log(\"Bokeh: BokehJS is being loaded, scheduling callback at\", now());\n",
       "      return null;\n",
       "    }\n",
       "    if (js_urls == null || js_urls.length === 0) {\n",
       "      run_callbacks();\n",
       "      return null;\n",
       "    }\n",
       "    console.log(\"Bokeh: BokehJS not loaded, scheduling load and callback at\", now());\n",
       "    window._bokeh_is_loading = js_urls.length;\n",
       "    for (var i = 0; i < js_urls.length; i++) {\n",
       "      var url = js_urls[i];\n",
       "      var s = document.createElement('script');\n",
       "      s.src = url;\n",
       "      s.async = false;\n",
       "      s.onreadystatechange = s.onload = function() {\n",
       "        window._bokeh_is_loading--;\n",
       "        if (window._bokeh_is_loading === 0) {\n",
       "          console.log(\"Bokeh: all BokehJS libraries loaded\");\n",
       "          run_callbacks()\n",
       "        }\n",
       "      };\n",
       "      s.onerror = function() {\n",
       "        console.warn(\"failed to load library \" + url);\n",
       "      };\n",
       "      console.log(\"Bokeh: injecting script tag for BokehJS library: \", url);\n",
       "      document.getElementsByTagName(\"head\")[0].appendChild(s);\n",
       "    }\n",
       "  };var element = document.getElementById(\"bd2e83f6-59ea-4e0a-b12f-31e41088a33f\");\n",
       "  if (element == null) {\n",
       "    console.log(\"Bokeh: ERROR: autoload.js configured with elementid 'bd2e83f6-59ea-4e0a-b12f-31e41088a33f' but no matching script tag was found. \")\n",
       "    return false;\n",
       "  }\n",
       "\n",
       "  var js_urls = [\"https://cdn.pydata.org/bokeh/release/bokeh-0.12.5.min.js\", \"https://cdn.pydata.org/bokeh/release/bokeh-widgets-0.12.5.min.js\"];\n",
       "\n",
       "  var inline_js = [\n",
       "    function(Bokeh) {\n",
       "      Bokeh.set_log_level(\"info\");\n",
       "    },\n",
       "    \n",
       "    function(Bokeh) {\n",
       "      \n",
       "    },\n",
       "    \n",
       "    function(Bokeh) {\n",
       "      \n",
       "      document.getElementById(\"bd2e83f6-59ea-4e0a-b12f-31e41088a33f\").textContent = \"BokehJS is loading...\";\n",
       "    },\n",
       "    function(Bokeh) {\n",
       "      console.log(\"Bokeh: injecting CSS: https://cdn.pydata.org/bokeh/release/bokeh-0.12.5.min.css\");\n",
       "      Bokeh.embed.inject_css(\"https://cdn.pydata.org/bokeh/release/bokeh-0.12.5.min.css\");\n",
       "      console.log(\"Bokeh: injecting CSS: https://cdn.pydata.org/bokeh/release/bokeh-widgets-0.12.5.min.css\");\n",
       "      Bokeh.embed.inject_css(\"https://cdn.pydata.org/bokeh/release/bokeh-widgets-0.12.5.min.css\");\n",
       "    }\n",
       "  ];\n",
       "\n",
       "  function run_inline_js() {\n",
       "    \n",
       "    if ((window.Bokeh !== undefined) || (force === true)) {\n",
       "      for (var i = 0; i < inline_js.length; i++) {\n",
       "        inline_js[i](window.Bokeh);\n",
       "      }if (force === true) {\n",
       "        display_loaded();\n",
       "      }} else if (Date.now() < window._bokeh_timeout) {\n",
       "      setTimeout(run_inline_js, 100);\n",
       "    } else if (!window._bokeh_failed_load) {\n",
       "      console.log(\"Bokeh: BokehJS failed to load within specified timeout.\");\n",
       "      window._bokeh_failed_load = true;\n",
       "    } else if (force !== true) {\n",
       "      var cell = $(document.getElementById(\"bd2e83f6-59ea-4e0a-b12f-31e41088a33f\")).parents('.cell').data().cell;\n",
       "      cell.output_area.append_execute_result(NB_LOAD_WARNING)\n",
       "    }\n",
       "\n",
       "  }\n",
       "\n",
       "  if (window._bokeh_is_loading === 0) {\n",
       "    console.log(\"Bokeh: BokehJS loaded, going straight to plotting\");\n",
       "    run_inline_js();\n",
       "  } else {\n",
       "    load_libs(js_urls, function() {\n",
       "      console.log(\"Bokeh: BokehJS plotting callback run at\", now());\n",
       "      run_inline_js();\n",
       "    });\n",
       "  }\n",
       "}(this));"
      ]
     },
     "metadata": {},
     "output_type": "display_data"
    }
   ],
   "source": [
    "from bokeh.io import push_notebook, show, output_notebook, output_file\n",
    "from bokeh.layouts import row\n",
    "from bokeh.plotting import figure\n",
    "from bokeh.models.formatters import DatetimeTickFormatter\n",
    "output_notebook()"
   ]
  },
  {
   "cell_type": "code",
   "execution_count": 29,
   "metadata": {
    "collapsed": true
   },
   "outputs": [],
   "source": [
    "def plot_prediction(outputs, title=\"\", weatherInfos={}):\n",
    "    timeUTC = outputs[0]['dates_test'].tolist()\n",
    "    timePST = [pytz.timezone('UTC').localize(x).astimezone(timezone('US/Pacific')) for x in timeUTC]\n",
    "    actual_data = outputs[0]['y_test']\n",
    "    temper = [weatherInfos['temperature_celcius'][weatherInfos['temperature_celcius'].index.asof(i)] for i in outputs[0]['data'].index]\n",
    "    precip = [weatherInfos['precipitation_mm'][weatherInfos['precipitation_mm'].index.asof(i)] for i in outputs[0]['data'].index]\n",
    "    \n",
    "    p = figure(title=title, #toolbar_location=None,\n",
    "               plot_width=800, plot_height=600, x_axis_type='datetime')\n",
    "    #p.grid.grid_line_color = None\n",
    "    p.background_fill_color = \"#eeeeee\"\n",
    "    for output in outputs:\n",
    "        p.line(timePST, np.array(output['y_predict']),\n",
    "               line_width=2, line_color=\"red\",\n",
    "               legend=output['label'])\n",
    "#     p.line(timePST, temper, line_width=2, legend='Temp. (C)')\n",
    "#     p.line(timePST, precip, line_width=2, legend='Rain (mm)')\n",
    "    p.line(timePST, actual_data, line_width=2, line_color=\"gray\", legend='Actual')\n",
    "    p.xaxis.axis_label = 'Time'\n",
    "    p.xaxis.formatter = DatetimeTickFormatter(days=[\"%a\\n%d %b\"])\n",
    "    p.yaxis.axis_label = 'Bikes'\n",
    "    output_file(\"predictions.html\", title=\"Bay Area citybikes\")\n",
    "    show(p)"
   ]
  },
  {
   "cell_type": "code",
   "execution_count": 30,
   "metadata": {},
   "outputs": [
    {
     "data": {
      "text/html": [
       "\n",
       "\n",
       "    <div class=\"bk-root\">\n",
       "        <div class=\"bk-plotdiv\" id=\"34c70bee-d200-4b72-93ce-a0f7e1f2ddda\"></div>\n",
       "    </div>\n",
       "<script type=\"text/javascript\">\n",
       "  \n",
       "  (function(global) {\n",
       "    function now() {\n",
       "      return new Date();\n",
       "    }\n",
       "  \n",
       "    var force = false;\n",
       "  \n",
       "    if (typeof (window._bokeh_onload_callbacks) === \"undefined\" || force === true) {\n",
       "      window._bokeh_onload_callbacks = [];\n",
       "      window._bokeh_is_loading = undefined;\n",
       "    }\n",
       "  \n",
       "  \n",
       "    \n",
       "    if (typeof (window._bokeh_timeout) === \"undefined\" || force === true) {\n",
       "      window._bokeh_timeout = Date.now() + 0;\n",
       "      window._bokeh_failed_load = false;\n",
       "    }\n",
       "  \n",
       "    var NB_LOAD_WARNING = {'data': {'text/html':\n",
       "       \"<div style='background-color: #fdd'>\\n\"+\n",
       "       \"<p>\\n\"+\n",
       "       \"BokehJS does not appear to have successfully loaded. If loading BokehJS from CDN, this \\n\"+\n",
       "       \"may be due to a slow or bad network connection. Possible fixes:\\n\"+\n",
       "       \"</p>\\n\"+\n",
       "       \"<ul>\\n\"+\n",
       "       \"<li>re-rerun `output_notebook()` to attempt to load from CDN again, or</li>\\n\"+\n",
       "       \"<li>use INLINE resources instead, as so:</li>\\n\"+\n",
       "       \"</ul>\\n\"+\n",
       "       \"<code>\\n\"+\n",
       "       \"from bokeh.resources import INLINE\\n\"+\n",
       "       \"output_notebook(resources=INLINE)\\n\"+\n",
       "       \"</code>\\n\"+\n",
       "       \"</div>\"}};\n",
       "  \n",
       "    function display_loaded() {\n",
       "      if (window.Bokeh !== undefined) {\n",
       "        var el = document.getElementById(\"34c70bee-d200-4b72-93ce-a0f7e1f2ddda\");\n",
       "        el.textContent = \"BokehJS \" + Bokeh.version + \" successfully loaded.\";\n",
       "      } else if (Date.now() < window._bokeh_timeout) {\n",
       "        setTimeout(display_loaded, 100)\n",
       "      }\n",
       "    }\n",
       "  \n",
       "    function run_callbacks() {\n",
       "      window._bokeh_onload_callbacks.forEach(function(callback) { callback() });\n",
       "      delete window._bokeh_onload_callbacks\n",
       "      console.info(\"Bokeh: all callbacks have finished\");\n",
       "    }\n",
       "  \n",
       "    function load_libs(js_urls, callback) {\n",
       "      window._bokeh_onload_callbacks.push(callback);\n",
       "      if (window._bokeh_is_loading > 0) {\n",
       "        console.log(\"Bokeh: BokehJS is being loaded, scheduling callback at\", now());\n",
       "        return null;\n",
       "      }\n",
       "      if (js_urls == null || js_urls.length === 0) {\n",
       "        run_callbacks();\n",
       "        return null;\n",
       "      }\n",
       "      console.log(\"Bokeh: BokehJS not loaded, scheduling load and callback at\", now());\n",
       "      window._bokeh_is_loading = js_urls.length;\n",
       "      for (var i = 0; i < js_urls.length; i++) {\n",
       "        var url = js_urls[i];\n",
       "        var s = document.createElement('script');\n",
       "        s.src = url;\n",
       "        s.async = false;\n",
       "        s.onreadystatechange = s.onload = function() {\n",
       "          window._bokeh_is_loading--;\n",
       "          if (window._bokeh_is_loading === 0) {\n",
       "            console.log(\"Bokeh: all BokehJS libraries loaded\");\n",
       "            run_callbacks()\n",
       "          }\n",
       "        };\n",
       "        s.onerror = function() {\n",
       "          console.warn(\"failed to load library \" + url);\n",
       "        };\n",
       "        console.log(\"Bokeh: injecting script tag for BokehJS library: \", url);\n",
       "        document.getElementsByTagName(\"head\")[0].appendChild(s);\n",
       "      }\n",
       "    };var element = document.getElementById(\"34c70bee-d200-4b72-93ce-a0f7e1f2ddda\");\n",
       "    if (element == null) {\n",
       "      console.log(\"Bokeh: ERROR: autoload.js configured with elementid '34c70bee-d200-4b72-93ce-a0f7e1f2ddda' but no matching script tag was found. \")\n",
       "      return false;\n",
       "    }\n",
       "  \n",
       "    var js_urls = [];\n",
       "  \n",
       "    var inline_js = [\n",
       "      function(Bokeh) {\n",
       "        (function() {\n",
       "          var fn = function() {\n",
       "            var docs_json = {\"1a04e887-f56d-4698-8cb0-4f64291f79a9\":{\"roots\":{\"references\":[{\"attributes\":{\"data_source\":{\"id\":\"b12b47ba-b6c0-4ce8-bd98-19cdd58ba43e\",\"type\":\"ColumnDataSource\"},\"glyph\":{\"id\":\"be0b9616-226e-4e98-b794-7376a67b973e\",\"type\":\"Line\"},\"hover_glyph\":null,\"muted_glyph\":null,\"nonselection_glyph\":{\"id\":\"e4568052-bb9d-4aca-aadf-f7f03b6deac7\",\"type\":\"Line\"},\"selection_glyph\":null},\"id\":\"d414532b-b71b-421a-bd7c-99de014a281f\",\"type\":\"GlyphRenderer\"},{\"attributes\":{\"callback\":null,\"column_names\":[\"x\",\"y\"],\"data\":{\"x\":[1432335600000.0,1432339200000.0,1432342800000.0,1432346400000.0,1432350000000.0,1432353600000.0,1432357200000.0,1432360800000.0,1432364400000.0,1432368000000.0,1432371600000.0,1432375200000.0,1432378800000.0,1432382400000.0,1432386000000.0,1432389600000.0,1432393200000.0,1432396800000.0,1432400400000.0,1432404000000.0,1432407600000.0,1432411200000.0,1432414800000.0,1432418400000.0,1432422000000.0,1432425600000.0,1432429200000.0,1432432800000.0,1432436400000.0,1432440000000.0,1432443600000.0,1432447200000.0,1432450800000.0,1432454400000.0,1432458000000.0,1432461600000.0,1432465200000.0,1432468800000.0,1432472400000.0,1432476000000.0,1432479600000.0,1432483200000.0,1432486800000.0,1432490400000.0,1432494000000.0,1432497600000.0,1432501200000.0,1432504800000.0,1432508400000.0,1432512000000.0,1432515600000.0,1432519200000.0,1432522800000.0,1432526400000.0,1432530000000.0,1432533600000.0,1432537200000.0,1432540800000.0,1432544400000.0,1432548000000.0,1432551600000.0,1432555200000.0,1432558800000.0,1432562400000.0,1432566000000.0,1432569600000.0,1432573200000.0,1432576800000.0,1432580400000.0,1432584000000.0,1432587600000.0,1432591200000.0,1432594800000.0,1432598400000.0,1432602000000.0,1432605600000.0,1432609200000.0,1432612800000.0,1432616400000.0,1432620000000.0,1432623600000.0,1432627200000.0,1432630800000.0,1432634400000.0,1432638000000.0,1432641600000.0,1432645200000.0,1432648800000.0,1432652400000.0,1432656000000.0,1432659600000.0,1432663200000.0,1432666800000.0,1432670400000.0,1432674000000.0,1432677600000.0,1432681200000.0,1432684800000.0,1432688400000.0,1432692000000.0,1432695600000.0,1432699200000.0,1432702800000.0,1432706400000.0,1432710000000.0,1432713600000.0,1432717200000.0,1432720800000.0,1432724400000.0,1432728000000.0,1432731600000.0,1432735200000.0,1432738800000.0,1432742400000.0,1432746000000.0,1432749600000.0,1432753200000.0,1432756800000.0,1432760400000.0,1432764000000.0,1432767600000.0,1432771200000.0,1432774800000.0,1432778400000.0,1432782000000.0,1432785600000.0,1432789200000.0,1432792800000.0,1432796400000.0,1432800000000.0,1432803600000.0,1432807200000.0,1432810800000.0,1432814400000.0,1432818000000.0,1432821600000.0,1432825200000.0,1432828800000.0,1432832400000.0,1432836000000.0,1432839600000.0,1432843200000.0,1432846800000.0,1432850400000.0,1432854000000.0,1432857600000.0,1432861200000.0,1432864800000.0,1432868400000.0,1432872000000.0,1432875600000.0,1432879200000.0,1432882800000.0,1432886400000.0,1432890000000.0,1432893600000.0,1432897200000.0,1432900800000.0,1432904400000.0,1432908000000.0,1432911600000.0,1432915200000.0,1432918800000.0,1432922400000.0,1432926000000.0,1432929600000.0,1432933200000.0,1432936800000.0,1432940400000.0,1432944000000.0,1432947600000.0,1432951200000.0,1432954800000.0,1432958400000.0,1432962000000.0,1432965600000.0,1432969200000.0,1432972800000.0,1432976400000.0,1432980000000.0,1432983600000.0,1432987200000.0,1432990800000.0,1432994400000.0,1432998000000.0,1433001600000.0,1433005200000.0,1433008800000.0,1433012400000.0,1433016000000.0,1433019600000.0,1433023200000.0,1433026800000.0,1433030400000.0,1433034000000.0,1433037600000.0,1433041200000.0,1433044800000.0,1433048400000.0,1433052000000.0,1433055600000.0,1433059200000.0,1433062800000.0,1433066400000.0,1433070000000.0,1433073600000.0,1433077200000.0,1433080800000.0,1433084400000.0,1433088000000.0,1433091600000.0,1433095200000.0,1433098800000.0,1433102400000.0,1433106000000.0,1433109600000.0,1433113200000.0,1433116800000.0,1433120400000.0,1433124000000.0,1433127600000.0,1433131200000.0,1433134800000.0,1433138400000.0,1433142000000.0,1433145600000.0,1433149200000.0,1433152800000.0,1433156400000.0,1433160000000.0,1433163600000.0,1433167200000.0,1433170800000.0,1433174400000.0,1433178000000.0,1433181600000.0,1433185200000.0,1433188800000.0,1433192400000.0,1433196000000.0,1433199600000.0,1433203200000.0,1433206800000.0,1433210400000.0,1433214000000.0,1433217600000.0,1433221200000.0,1433224800000.0,1433228400000.0,1433232000000.0,1433235600000.0,1433239200000.0,1433242800000.0,1433246400000.0,1433250000000.0,1433253600000.0,1433257200000.0,1433260800000.0,1433264400000.0,1433268000000.0,1433271600000.0,1433275200000.0,1433278800000.0,1433282400000.0,1433286000000.0,1433289600000.0,1433293200000.0,1433296800000.0,1433300400000.0,1433304000000.0,1433307600000.0,1433311200000.0,1433314800000.0,1433318400000.0,1433322000000.0,1433325600000.0,1433329200000.0,1433332800000.0,1433336400000.0,1433340000000.0,1433343600000.0,1433347200000.0,1433350800000.0,1433354400000.0,1433358000000.0,1433361600000.0,1433365200000.0,1433368800000.0,1433372400000.0,1433376000000.0,1433379600000.0,1433383200000.0,1433386800000.0,1433390400000.0,1433394000000.0,1433397600000.0,1433401200000.0,1433404800000.0,1433408400000.0,1433412000000.0,1433415600000.0,1433419200000.0,1433422800000.0,1433426400000.0,1433430000000.0,1433433600000.0,1433437200000.0,1433440800000.0,1433444400000.0,1433448000000.0,1433451600000.0,1433455200000.0,1433458800000.0,1433462400000.0,1433466000000.0,1433469600000.0,1433473200000.0,1433476800000.0,1433480400000.0,1433484000000.0,1433487600000.0,1433491200000.0,1433494800000.0,1433498400000.0,1433502000000.0,1433505600000.0,1433509200000.0,1433512800000.0,1433516400000.0,1433520000000.0,1433523600000.0,1433527200000.0,1433530800000.0,1433534400000.0,1433538000000.0,1433541600000.0,1433545200000.0,1433548800000.0,1433552400000.0,1433556000000.0,1433559600000.0,1433563200000.0,1433566800000.0,1433570400000.0,1433574000000.0,1433577600000.0,1433581200000.0,1433584800000.0,1433588400000.0,1433592000000.0,1433595600000.0,1433599200000.0,1433602800000.0,1433606400000.0,1433610000000.0,1433613600000.0,1433617200000.0,1433620800000.0,1433624400000.0,1433628000000.0,1433631600000.0,1433635200000.0,1433638800000.0,1433642400000.0,1433646000000.0,1433649600000.0,1433653200000.0,1433656800000.0,1433660400000.0,1433664000000.0,1433667600000.0,1433671200000.0,1433674800000.0,1433678400000.0,1433682000000.0,1433685600000.0,1433689200000.0,1433692800000.0,1433696400000.0,1433700000000.0,1433703600000.0,1433707200000.0,1433710800000.0,1433714400000.0,1433718000000.0,1433721600000.0,1433725200000.0,1433728800000.0,1433732400000.0,1433736000000.0,1433739600000.0,1433743200000.0,1433746800000.0,1433750400000.0,1433754000000.0,1433757600000.0,1433761200000.0,1433764800000.0,1433768400000.0,1433772000000.0,1433775600000.0,1433779200000.0,1433782800000.0,1433786400000.0,1433790000000.0,1433793600000.0,1433797200000.0,1433800800000.0,1433804400000.0,1433808000000.0,1433811600000.0,1433815200000.0,1433818800000.0,1433822400000.0,1433826000000.0,1433829600000.0,1433833200000.0,1433836800000.0,1433840400000.0,1433844000000.0,1433847600000.0,1433851200000.0,1433854800000.0,1433858400000.0,1433862000000.0,1433865600000.0,1433869200000.0,1433872800000.0,1433876400000.0,1433880000000.0,1433883600000.0,1433887200000.0,1433890800000.0,1433894400000.0,1433898000000.0,1433901600000.0,1433905200000.0,1433908800000.0,1433912400000.0,1433916000000.0,1433919600000.0,1433923200000.0,1433926800000.0,1433930400000.0,1433934000000.0,1433937600000.0,1433941200000.0,1433944800000.0,1433948400000.0,1433952000000.0,1433955600000.0,1433959200000.0,1433962800000.0,1433966400000.0,1433970000000.0,1433973600000.0,1433977200000.0,1433980800000.0,1433984400000.0,1433988000000.0,1433991600000.0,1433995200000.0,1433998800000.0,1434002400000.0,1434006000000.0,1434009600000.0,1434013200000.0,1434016800000.0,1434020400000.0,1434024000000.0,1434027600000.0,1434031200000.0,1434034800000.0,1434038400000.0,1434042000000.0,1434045600000.0,1434049200000.0,1434052800000.0,1434056400000.0,1434060000000.0,1434063600000.0,1434067200000.0,1434070800000.0,1434074400000.0,1434078000000.0,1434081600000.0,1434085200000.0,1434088800000.0,1434092400000.0,1434096000000.0,1434099600000.0,1434103200000.0,1434106800000.0,1434110400000.0,1434114000000.0,1434117600000.0,1434121200000.0,1434124800000.0,1434128400000.0,1434132000000.0,1434135600000.0,1434139200000.0,1434142800000.0,1434146400000.0,1434150000000.0,1434153600000.0,1434157200000.0,1434160800000.0,1434164400000.0,1434168000000.0,1434171600000.0,1434175200000.0,1434178800000.0,1434182400000.0,1434186000000.0,1434189600000.0,1434193200000.0,1434196800000.0,1434200400000.0,1434204000000.0,1434207600000.0,1434211200000.0,1434214800000.0,1434218400000.0,1434222000000.0,1434225600000.0,1434229200000.0,1434232800000.0,1434236400000.0,1434240000000.0,1434243600000.0,1434247200000.0,1434250800000.0,1434254400000.0,1434258000000.0,1434261600000.0,1434265200000.0,1434268800000.0,1434272400000.0,1434276000000.0,1434279600000.0,1434283200000.0,1434286800000.0,1434290400000.0,1434294000000.0,1434297600000.0,1434301200000.0,1434304800000.0,1434308400000.0,1434312000000.0,1434315600000.0,1434319200000.0,1434322800000.0,1434326400000.0,1434330000000.0,1434333600000.0,1434337200000.0,1434340800000.0,1434344400000.0,1434348000000.0,1434351600000.0,1434355200000.0,1434358800000.0,1434362400000.0,1434366000000.0,1434369600000.0,1434373200000.0,1434376800000.0,1434380400000.0,1434384000000.0,1434387600000.0,1434391200000.0,1434394800000.0,1434398400000.0,1434402000000.0,1434405600000.0,1434409200000.0,1434412800000.0,1434416400000.0,1434420000000.0,1434423600000.0,1434427200000.0,1434430800000.0,1434434400000.0,1434438000000.0,1434441600000.0,1434445200000.0,1434448800000.0,1434452400000.0,1434456000000.0,1434459600000.0,1434463200000.0,1434466800000.0,1434470400000.0,1434474000000.0,1434477600000.0,1434481200000.0,1434484800000.0,1434488400000.0,1434492000000.0,1434495600000.0,1434499200000.0,1434502800000.0,1434506400000.0,1434510000000.0,1434513600000.0,1434517200000.0,1434520800000.0,1434524400000.0,1434528000000.0,1434531600000.0,1434535200000.0,1434538800000.0,1434542400000.0,1434546000000.0,1434549600000.0,1434553200000.0,1434556800000.0,1434560400000.0,1434564000000.0,1434567600000.0,1434571200000.0,1434574800000.0,1434578400000.0,1434582000000.0,1434585600000.0,1434589200000.0,1434592800000.0,1434596400000.0,1434600000000.0,1434603600000.0,1434607200000.0,1434610800000.0,1434614400000.0,1434618000000.0,1434621600000.0,1434625200000.0,1434628800000.0,1434632400000.0,1434636000000.0,1434639600000.0,1434643200000.0,1434646800000.0,1434650400000.0,1434654000000.0,1434657600000.0,1434661200000.0,1434664800000.0,1434668400000.0,1434672000000.0,1434675600000.0,1434679200000.0,1434682800000.0,1434686400000.0,1434690000000.0,1434693600000.0,1434697200000.0,1434700800000.0,1434704400000.0,1434708000000.0,1434711600000.0,1434715200000.0,1434718800000.0,1434722400000.0,1434726000000.0,1434729600000.0,1434733200000.0,1434736800000.0,1434740400000.0,1434744000000.0,1434747600000.0,1434751200000.0,1434754800000.0,1434758400000.0,1434762000000.0,1434765600000.0,1434769200000.0,1434772800000.0,1434776400000.0,1434780000000.0,1434783600000.0,1434787200000.0,1434790800000.0,1434794400000.0,1434798000000.0,1434801600000.0,1434805200000.0,1434808800000.0,1434812400000.0,1434816000000.0,1434819600000.0,1434823200000.0,1434826800000.0,1434830400000.0,1434834000000.0,1434837600000.0,1434841200000.0,1434844800000.0,1434848400000.0,1434852000000.0,1434855600000.0,1434859200000.0,1434862800000.0,1434866400000.0,1434870000000.0,1434873600000.0,1434877200000.0,1434880800000.0,1434884400000.0,1434888000000.0,1434891600000.0,1434895200000.0,1434898800000.0,1434902400000.0,1434906000000.0,1434909600000.0,1434913200000.0,1434916800000.0,1434920400000.0,1434924000000.0,1434927600000.0,1434931200000.0,1434934800000.0,1434938400000.0,1434942000000.0,1434945600000.0,1434949200000.0,1434952800000.0,1434956400000.0,1434960000000.0,1434963600000.0,1434967200000.0,1434970800000.0,1434974400000.0,1434978000000.0,1434981600000.0,1434985200000.0,1434988800000.0,1434992400000.0,1434996000000.0,1434999600000.0,1435003200000.0,1435006800000.0,1435010400000.0,1435014000000.0,1435017600000.0,1435021200000.0,1435024800000.0,1435028400000.0,1435032000000.0,1435035600000.0,1435039200000.0,1435042800000.0,1435046400000.0,1435050000000.0,1435053600000.0,1435057200000.0,1435060800000.0,1435064400000.0,1435068000000.0,1435071600000.0,1435075200000.0,1435078800000.0,1435082400000.0,1435086000000.0,1435089600000.0,1435093200000.0,1435096800000.0,1435100400000.0,1435104000000.0,1435107600000.0,1435111200000.0,1435114800000.0,1435118400000.0,1435122000000.0,1435125600000.0,1435129200000.0,1435132800000.0,1435136400000.0,1435140000000.0,1435143600000.0,1435147200000.0,1435150800000.0,1435154400000.0,1435158000000.0,1435161600000.0,1435165200000.0,1435168800000.0,1435172400000.0,1435176000000.0,1435179600000.0,1435183200000.0,1435186800000.0,1435190400000.0,1435194000000.0,1435197600000.0,1435201200000.0,1435204800000.0,1435208400000.0,1435212000000.0,1435215600000.0,1435219200000.0,1435222800000.0,1435226400000.0,1435230000000.0,1435233600000.0,1435237200000.0,1435240800000.0,1435244400000.0,1435248000000.0,1435251600000.0,1435255200000.0,1435258800000.0,1435262400000.0,1435266000000.0,1435269600000.0,1435273200000.0,1435276800000.0,1435280400000.0,1435284000000.0,1435287600000.0,1435291200000.0,1435294800000.0,1435298400000.0,1435302000000.0,1435305600000.0,1435309200000.0,1435312800000.0,1435316400000.0,1435320000000.0,1435323600000.0,1435327200000.0,1435330800000.0,1435334400000.0,1435338000000.0,1435341600000.0,1435345200000.0,1435348800000.0,1435352400000.0,1435356000000.0,1435359600000.0,1435363200000.0,1435366800000.0,1435370400000.0,1435374000000.0,1435377600000.0,1435381200000.0,1435384800000.0,1435388400000.0,1435392000000.0,1435395600000.0,1435399200000.0,1435402800000.0,1435406400000.0,1435410000000.0,1435413600000.0,1435417200000.0,1435420800000.0,1435424400000.0,1435428000000.0,1435431600000.0,1435435200000.0,1435438800000.0,1435442400000.0,1435446000000.0,1435449600000.0,1435453200000.0,1435456800000.0,1435460400000.0,1435464000000.0,1435467600000.0,1435471200000.0,1435474800000.0,1435478400000.0,1435482000000.0,1435485600000.0,1435489200000.0,1435492800000.0,1435496400000.0,1435500000000.0,1435503600000.0,1435507200000.0,1435510800000.0,1435514400000.0,1435518000000.0,1435521600000.0,1435525200000.0,1435528800000.0,1435532400000.0,1435536000000.0,1435539600000.0,1435543200000.0,1435546800000.0,1435550400000.0,1435554000000.0,1435557600000.0,1435561200000.0,1435564800000.0,1435568400000.0,1435572000000.0,1435575600000.0,1435579200000.0,1435582800000.0,1435586400000.0,1435590000000.0,1435593600000.0,1435597200000.0,1435600800000.0,1435604400000.0,1435608000000.0,1435611600000.0,1435615200000.0,1435618800000.0,1435622400000.0,1435626000000.0,1435629600000.0,1435633200000.0,1435636800000.0,1435640400000.0,1435644000000.0,1435647600000.0,1435651200000.0,1435654800000.0,1435658400000.0,1435662000000.0,1435665600000.0,1435669200000.0,1435672800000.0,1435676400000.0,1435680000000.0,1435683600000.0,1435687200000.0,1435690800000.0,1435694400000.0,1435698000000.0,1435701600000.0,1435705200000.0,1435708800000.0,1435712400000.0,1435716000000.0,1435719600000.0,1435723200000.0,1435726800000.0,1435730400000.0,1435734000000.0,1435737600000.0,1435741200000.0,1435744800000.0,1435748400000.0,1435752000000.0,1435755600000.0,1435759200000.0,1435762800000.0,1435766400000.0,1435770000000.0,1435773600000.0,1435777200000.0,1435780800000.0,1435784400000.0,1435788000000.0,1435791600000.0,1435795200000.0,1435798800000.0,1435802400000.0,1435806000000.0,1435809600000.0,1435813200000.0,1435816800000.0,1435820400000.0,1435824000000.0,1435827600000.0,1435831200000.0,1435834800000.0,1435838400000.0,1435842000000.0,1435845600000.0,1435849200000.0,1435852800000.0,1435856400000.0,1435860000000.0,1435863600000.0,1435867200000.0,1435870800000.0,1435874400000.0,1435878000000.0,1435881600000.0,1435885200000.0,1435888800000.0,1435892400000.0,1435896000000.0,1435899600000.0,1435903200000.0,1435906800000.0,1435910400000.0,1435914000000.0,1435917600000.0,1435921200000.0,1435924800000.0,1435928400000.0,1435932000000.0,1435935600000.0,1435939200000.0,1435942800000.0,1435946400000.0,1435950000000.0,1435953600000.0,1435957200000.0,1435960800000.0,1435964400000.0,1435968000000.0,1435971600000.0,1435975200000.0,1435978800000.0,1435982400000.0,1435986000000.0,1435989600000.0,1435993200000.0,1435996800000.0,1436000400000.0,1436004000000.0,1436007600000.0,1436011200000.0,1436014800000.0,1436018400000.0,1436022000000.0,1436025600000.0,1436029200000.0,1436032800000.0,1436036400000.0,1436040000000.0,1436043600000.0,1436047200000.0,1436050800000.0,1436054400000.0,1436058000000.0,1436061600000.0,1436065200000.0,1436068800000.0,1436072400000.0,1436076000000.0,1436079600000.0,1436083200000.0,1436086800000.0,1436090400000.0,1436094000000.0,1436097600000.0,1436101200000.0,1436104800000.0,1436108400000.0,1436112000000.0,1436115600000.0,1436119200000.0,1436122800000.0,1436126400000.0,1436130000000.0,1436133600000.0,1436137200000.0,1436140800000.0,1436144400000.0,1436148000000.0,1436151600000.0,1436155200000.0,1436158800000.0,1436162400000.0,1436166000000.0,1436169600000.0,1436173200000.0,1436176800000.0,1436180400000.0,1436184000000.0,1436187600000.0,1436191200000.0,1436194800000.0,1436198400000.0,1436202000000.0,1436205600000.0,1436209200000.0,1436212800000.0,1436216400000.0,1436220000000.0,1436223600000.0,1436227200000.0,1436230800000.0,1436234400000.0,1436238000000.0,1436241600000.0,1436245200000.0,1436248800000.0,1436252400000.0,1436256000000.0,1436259600000.0,1436263200000.0,1436266800000.0,1436270400000.0,1436274000000.0,1436277600000.0,1436281200000.0,1436284800000.0,1436288400000.0,1436292000000.0,1436295600000.0,1436299200000.0,1436302800000.0,1436306400000.0,1436310000000.0,1436313600000.0,1436317200000.0,1436320800000.0,1436324400000.0,1436328000000.0,1436331600000.0,1436335200000.0,1436338800000.0,1436342400000.0,1436346000000.0,1436349600000.0,1436353200000.0,1436356800000.0,1436360400000.0,1436364000000.0,1436367600000.0,1436371200000.0,1436374800000.0,1436378400000.0,1436382000000.0,1436385600000.0,1436389200000.0,1436392800000.0,1436396400000.0,1436400000000.0,1436403600000.0,1436407200000.0,1436410800000.0,1436414400000.0,1436418000000.0,1436421600000.0,1436425200000.0,1436428800000.0,1436432400000.0,1436436000000.0,1436439600000.0,1436443200000.0,1436446800000.0,1436450400000.0,1436454000000.0,1436457600000.0,1436461200000.0,1436464800000.0,1436468400000.0,1436472000000.0,1436475600000.0,1436479200000.0,1436482800000.0,1436486400000.0,1436490000000.0,1436493600000.0,1436497200000.0,1436500800000.0,1436504400000.0,1436508000000.0,1436511600000.0,1436515200000.0,1436518800000.0,1436522400000.0,1436526000000.0,1436529600000.0,1436533200000.0,1436536800000.0,1436540400000.0,1436544000000.0,1436547600000.0,1436551200000.0,1436554800000.0,1436558400000.0,1436562000000.0,1436565600000.0,1436569200000.0,1436572800000.0,1436576400000.0,1436580000000.0,1436583600000.0,1436587200000.0,1436590800000.0,1436594400000.0,1436598000000.0,1436601600000.0,1436605200000.0,1436608800000.0,1436612400000.0,1436616000000.0,1436619600000.0,1436623200000.0,1436626800000.0,1436630400000.0,1436634000000.0,1436637600000.0,1436641200000.0,1436644800000.0,1436648400000.0,1436652000000.0,1436655600000.0,1436659200000.0,1436662800000.0,1436666400000.0,1436670000000.0,1436673600000.0,1436677200000.0,1436680800000.0,1436684400000.0,1436688000000.0,1436691600000.0,1436695200000.0,1436698800000.0,1436702400000.0,1436706000000.0,1436709600000.0,1436713200000.0,1436716800000.0,1436720400000.0,1436724000000.0,1436727600000.0,1436731200000.0,1436734800000.0,1436738400000.0,1436742000000.0,1436745600000.0,1436749200000.0,1436752800000.0,1436756400000.0,1436760000000.0,1436763600000.0,1436767200000.0,1436770800000.0,1436774400000.0,1436778000000.0,1436781600000.0,1436785200000.0,1436788800000.0,1436792400000.0,1436796000000.0,1436799600000.0,1436803200000.0,1436806800000.0,1436810400000.0,1436814000000.0,1436817600000.0,1436821200000.0,1436824800000.0,1436828400000.0,1436832000000.0,1436835600000.0,1436839200000.0,1436842800000.0,1436846400000.0,1436850000000.0,1436853600000.0,1436857200000.0,1436860800000.0,1436864400000.0,1436868000000.0,1436871600000.0,1436875200000.0,1436878800000.0,1436882400000.0,1436886000000.0,1436889600000.0,1436893200000.0,1436896800000.0,1436900400000.0,1436904000000.0,1436907600000.0,1436911200000.0,1436914800000.0,1436918400000.0,1436922000000.0,1436925600000.0,1436929200000.0,1436932800000.0,1436936400000.0,1436940000000.0,1436943600000.0,1436947200000.0,1436950800000.0,1436954400000.0,1436958000000.0,1436961600000.0,1436965200000.0,1436968800000.0,1436972400000.0,1436976000000.0,1436979600000.0,1436983200000.0,1436986800000.0,1436990400000.0,1436994000000.0,1436997600000.0,1437001200000.0,1437004800000.0,1437008400000.0,1437012000000.0,1437015600000.0,1437019200000.0,1437022800000.0,1437026400000.0,1437030000000.0,1437033600000.0,1437037200000.0,1437040800000.0,1437044400000.0,1437048000000.0,1437051600000.0,1437055200000.0,1437058800000.0,1437062400000.0,1437066000000.0,1437069600000.0,1437073200000.0,1437076800000.0,1437080400000.0,1437084000000.0,1437087600000.0,1437091200000.0,1437094800000.0,1437098400000.0,1437102000000.0,1437105600000.0,1437109200000.0,1437112800000.0,1437116400000.0,1437120000000.0,1437123600000.0,1437127200000.0,1437130800000.0,1437134400000.0,1437138000000.0,1437141600000.0,1437145200000.0,1437148800000.0,1437152400000.0,1437156000000.0,1437159600000.0,1437163200000.0,1437166800000.0,1437170400000.0,1437174000000.0,1437177600000.0,1437181200000.0,1437184800000.0,1437188400000.0,1437192000000.0,1437195600000.0,1437199200000.0,1437202800000.0,1437206400000.0,1437210000000.0,1437213600000.0,1437217200000.0,1437220800000.0,1437224400000.0,1437228000000.0,1437231600000.0,1437235200000.0,1437238800000.0,1437242400000.0,1437246000000.0,1437249600000.0,1437253200000.0,1437256800000.0,1437260400000.0,1437264000000.0,1437267600000.0,1437271200000.0,1437274800000.0,1437278400000.0,1437282000000.0,1437285600000.0,1437289200000.0,1437292800000.0,1437296400000.0,1437300000000.0,1437303600000.0,1437307200000.0,1437310800000.0,1437314400000.0,1437318000000.0,1437321600000.0,1437325200000.0,1437328800000.0,1437332400000.0,1437336000000.0,1437339600000.0,1437343200000.0,1437346800000.0,1437350400000.0,1437354000000.0,1437357600000.0,1437361200000.0,1437364800000.0,1437368400000.0,1437372000000.0,1437375600000.0,1437379200000.0,1437382800000.0,1437386400000.0,1437390000000.0,1437393600000.0,1437397200000.0,1437400800000.0,1437404400000.0,1437408000000.0,1437411600000.0,1437415200000.0,1437418800000.0,1437422400000.0,1437426000000.0,1437429600000.0,1437433200000.0,1437436800000.0,1437440400000.0,1437444000000.0,1437447600000.0,1437451200000.0,1437454800000.0,1437458400000.0,1437462000000.0,1437465600000.0,1437469200000.0,1437472800000.0,1437476400000.0,1437480000000.0,1437483600000.0,1437487200000.0,1437490800000.0,1437494400000.0,1437498000000.0,1437501600000.0,1437505200000.0,1437508800000.0,1437512400000.0,1437516000000.0,1437519600000.0,1437523200000.0,1437526800000.0,1437530400000.0,1437534000000.0,1437537600000.0,1437541200000.0,1437544800000.0,1437548400000.0,1437552000000.0,1437555600000.0,1437559200000.0,1437562800000.0,1437566400000.0,1437570000000.0,1437573600000.0,1437577200000.0,1437580800000.0,1437584400000.0,1437588000000.0,1437591600000.0,1437595200000.0,1437598800000.0,1437602400000.0,1437606000000.0,1437609600000.0,1437613200000.0,1437616800000.0,1437620400000.0,1437624000000.0,1437627600000.0,1437631200000.0,1437634800000.0,1437638400000.0,1437642000000.0,1437645600000.0,1437649200000.0,1437652800000.0,1437656400000.0,1437660000000.0,1437663600000.0,1437667200000.0,1437670800000.0,1437674400000.0,1437678000000.0,1437681600000.0,1437685200000.0,1437688800000.0,1437692400000.0,1437696000000.0,1437699600000.0,1437703200000.0,1437706800000.0,1437710400000.0,1437714000000.0,1437717600000.0,1437721200000.0,1437724800000.0,1437728400000.0,1437732000000.0,1437735600000.0,1437739200000.0,1437742800000.0,1437746400000.0,1437750000000.0,1437753600000.0,1437757200000.0,1437760800000.0,1437764400000.0,1437768000000.0,1437771600000.0,1437775200000.0,1437778800000.0,1437782400000.0,1437786000000.0,1437789600000.0,1437793200000.0,1437796800000.0,1437800400000.0,1437804000000.0,1437807600000.0,1437811200000.0,1437814800000.0,1437818400000.0,1437822000000.0,1437825600000.0,1437829200000.0,1437832800000.0,1437836400000.0,1437840000000.0,1437843600000.0,1437847200000.0,1437850800000.0,1437854400000.0,1437858000000.0,1437861600000.0,1437865200000.0,1437868800000.0,1437872400000.0,1437876000000.0,1437879600000.0,1437883200000.0,1437886800000.0,1437890400000.0,1437894000000.0,1437897600000.0,1437901200000.0,1437904800000.0,1437908400000.0,1437912000000.0,1437915600000.0,1437919200000.0,1437922800000.0,1437926400000.0,1437930000000.0,1437933600000.0,1437937200000.0,1437940800000.0,1437944400000.0,1437948000000.0,1437951600000.0,1437955200000.0,1437958800000.0,1437962400000.0,1437966000000.0,1437969600000.0,1437973200000.0,1437976800000.0,1437980400000.0,1437984000000.0,1437987600000.0,1437991200000.0,1437994800000.0,1437998400000.0,1438002000000.0,1438005600000.0,1438009200000.0,1438012800000.0,1438016400000.0,1438020000000.0,1438023600000.0,1438027200000.0,1438030800000.0,1438034400000.0,1438038000000.0,1438041600000.0,1438045200000.0,1438048800000.0,1438052400000.0,1438056000000.0,1438059600000.0,1438063200000.0,1438066800000.0,1438070400000.0,1438074000000.0,1438077600000.0,1438081200000.0,1438084800000.0,1438088400000.0,1438092000000.0,1438095600000.0,1438099200000.0,1438102800000.0,1438106400000.0,1438110000000.0,1438113600000.0,1438117200000.0,1438120800000.0,1438124400000.0,1438128000000.0,1438131600000.0,1438135200000.0,1438138800000.0,1438142400000.0,1438146000000.0,1438149600000.0,1438153200000.0,1438156800000.0,1438160400000.0,1438164000000.0,1438167600000.0,1438171200000.0,1438174800000.0,1438178400000.0,1438182000000.0,1438185600000.0,1438189200000.0,1438192800000.0,1438196400000.0,1438200000000.0,1438203600000.0,1438207200000.0,1438210800000.0,1438214400000.0,1438218000000.0,1438221600000.0,1438225200000.0,1438228800000.0,1438232400000.0,1438236000000.0,1438239600000.0,1438243200000.0,1438246800000.0,1438250400000.0,1438254000000.0,1438257600000.0,1438261200000.0,1438264800000.0,1438268400000.0,1438272000000.0,1438275600000.0,1438279200000.0,1438282800000.0,1438286400000.0,1438290000000.0,1438293600000.0,1438297200000.0,1438300800000.0,1438304400000.0,1438308000000.0,1438311600000.0,1438315200000.0,1438318800000.0,1438322400000.0,1438326000000.0,1438329600000.0,1438333200000.0,1438336800000.0,1438340400000.0,1438344000000.0,1438347600000.0,1438351200000.0,1438354800000.0,1438358400000.0,1438362000000.0,1438365600000.0,1438369200000.0,1438372800000.0,1438376400000.0,1438380000000.0,1438383600000.0,1438387200000.0,1438390800000.0,1438394400000.0,1438398000000.0,1438401600000.0,1438405200000.0,1438408800000.0,1438412400000.0,1438416000000.0,1438419600000.0,1438423200000.0,1438426800000.0,1438430400000.0,1438434000000.0,1438437600000.0,1438441200000.0,1438444800000.0,1438448400000.0,1438452000000.0,1438455600000.0,1438459200000.0,1438462800000.0,1438466400000.0,1438470000000.0,1438473600000.0,1438477200000.0,1438480800000.0,1438484400000.0,1438488000000.0,1438491600000.0,1438495200000.0,1438498800000.0,1438502400000.0,1438506000000.0,1438509600000.0,1438513200000.0,1438516800000.0,1438520400000.0,1438524000000.0,1438527600000.0,1438531200000.0,1438534800000.0,1438538400000.0,1438542000000.0,1438545600000.0,1438549200000.0,1438552800000.0,1438556400000.0,1438560000000.0,1438563600000.0,1438567200000.0,1438570800000.0,1438574400000.0,1438578000000.0,1438581600000.0,1438585200000.0,1438588800000.0,1438592400000.0,1438596000000.0,1438599600000.0,1438603200000.0,1438606800000.0,1438610400000.0,1438614000000.0,1438617600000.0,1438621200000.0,1438624800000.0,1438628400000.0,1438632000000.0,1438635600000.0,1438639200000.0,1438642800000.0,1438646400000.0,1438650000000.0,1438653600000.0,1438657200000.0,1438660800000.0,1438664400000.0,1438668000000.0,1438671600000.0,1438675200000.0,1438678800000.0,1438682400000.0,1438686000000.0,1438689600000.0,1438693200000.0,1438696800000.0,1438700400000.0,1438704000000.0,1438707600000.0,1438711200000.0,1438714800000.0,1438718400000.0,1438722000000.0,1438725600000.0,1438729200000.0,1438732800000.0,1438736400000.0,1438740000000.0,1438743600000.0,1438747200000.0,1438750800000.0,1438754400000.0,1438758000000.0,1438761600000.0,1438765200000.0,1438768800000.0,1438772400000.0,1438776000000.0,1438779600000.0,1438783200000.0,1438786800000.0,1438790400000.0,1438794000000.0,1438797600000.0,1438801200000.0,1438804800000.0,1438808400000.0,1438812000000.0,1438815600000.0,1438819200000.0,1438822800000.0,1438826400000.0,1438830000000.0,1438833600000.0,1438837200000.0,1438840800000.0,1438844400000.0,1438848000000.0,1438851600000.0,1438855200000.0,1438858800000.0,1438862400000.0,1438866000000.0,1438869600000.0,1438873200000.0,1438876800000.0,1438880400000.0,1438884000000.0,1438887600000.0,1438891200000.0,1438894800000.0,1438898400000.0,1438902000000.0,1438905600000.0,1438909200000.0,1438912800000.0,1438916400000.0,1438920000000.0,1438923600000.0,1438927200000.0,1438930800000.0,1438934400000.0,1438938000000.0,1438941600000.0,1438945200000.0,1438948800000.0,1438952400000.0,1438956000000.0,1438959600000.0,1438963200000.0,1438966800000.0,1438970400000.0,1438974000000.0,1438977600000.0,1438981200000.0,1438984800000.0,1438988400000.0,1438992000000.0,1438995600000.0,1438999200000.0,1439002800000.0,1439006400000.0,1439010000000.0,1439013600000.0,1439017200000.0,1439020800000.0,1439024400000.0,1439028000000.0,1439031600000.0,1439035200000.0,1439038800000.0,1439042400000.0,1439046000000.0,1439049600000.0,1439053200000.0,1439056800000.0,1439060400000.0,1439064000000.0,1439067600000.0,1439071200000.0,1439074800000.0,1439078400000.0,1439082000000.0,1439085600000.0,1439089200000.0,1439092800000.0,1439096400000.0,1439100000000.0,1439103600000.0,1439107200000.0,1439110800000.0,1439114400000.0,1439118000000.0,1439121600000.0,1439125200000.0,1439128800000.0,1439132400000.0,1439136000000.0,1439139600000.0,1439143200000.0,1439146800000.0,1439150400000.0,1439154000000.0,1439157600000.0,1439161200000.0,1439164800000.0,1439168400000.0,1439172000000.0,1439175600000.0,1439179200000.0,1439182800000.0,1439186400000.0,1439190000000.0,1439193600000.0,1439197200000.0,1439200800000.0,1439204400000.0,1439208000000.0,1439211600000.0,1439215200000.0,1439218800000.0,1439222400000.0,1439226000000.0,1439229600000.0,1439233200000.0,1439236800000.0,1439240400000.0,1439244000000.0,1439247600000.0,1439251200000.0,1439254800000.0,1439258400000.0,1439262000000.0,1439265600000.0,1439269200000.0,1439272800000.0,1439276400000.0,1439280000000.0,1439283600000.0,1439287200000.0,1439290800000.0,1439294400000.0,1439298000000.0,1439301600000.0,1439305200000.0,1439308800000.0,1439312400000.0,1439316000000.0,1439319600000.0,1439323200000.0,1439326800000.0,1439330400000.0,1439334000000.0,1439337600000.0,1439341200000.0,1439344800000.0,1439348400000.0,1439352000000.0,1439355600000.0,1439359200000.0,1439362800000.0,1439366400000.0,1439370000000.0,1439373600000.0,1439377200000.0,1439380800000.0,1439384400000.0,1439388000000.0,1439391600000.0,1439395200000.0,1439398800000.0,1439402400000.0,1439406000000.0,1439409600000.0,1439413200000.0,1439416800000.0,1439420400000.0,1439424000000.0,1439427600000.0,1439431200000.0,1439434800000.0,1439438400000.0,1439442000000.0,1439445600000.0,1439449200000.0,1439452800000.0,1439456400000.0,1439460000000.0,1439463600000.0,1439467200000.0,1439470800000.0,1439474400000.0,1439478000000.0,1439481600000.0,1439485200000.0,1439488800000.0,1439492400000.0,1439496000000.0,1439499600000.0,1439503200000.0,1439506800000.0,1439510400000.0,1439514000000.0,1439517600000.0,1439521200000.0,1439524800000.0,1439528400000.0,1439532000000.0,1439535600000.0,1439539200000.0,1439542800000.0,1439546400000.0,1439550000000.0,1439553600000.0,1439557200000.0,1439560800000.0,1439564400000.0,1439568000000.0,1439571600000.0,1439575200000.0,1439578800000.0,1439582400000.0,1439586000000.0,1439589600000.0,1439593200000.0,1439596800000.0,1439600400000.0,1439604000000.0,1439607600000.0,1439611200000.0,1439614800000.0,1439618400000.0,1439622000000.0,1439625600000.0,1439629200000.0,1439632800000.0,1439636400000.0,1439640000000.0,1439643600000.0,1439647200000.0,1439650800000.0,1439654400000.0,1439658000000.0,1439661600000.0,1439665200000.0,1439668800000.0,1439672400000.0,1439676000000.0,1439679600000.0,1439683200000.0,1439686800000.0,1439690400000.0,1439694000000.0,1439697600000.0,1439701200000.0,1439704800000.0,1439708400000.0,1439712000000.0,1439715600000.0,1439719200000.0,1439722800000.0,1439726400000.0,1439730000000.0,1439733600000.0,1439737200000.0,1439740800000.0,1439744400000.0,1439748000000.0,1439751600000.0,1439755200000.0,1439758800000.0,1439762400000.0,1439766000000.0,1439769600000.0,1439773200000.0,1439776800000.0,1439780400000.0,1439784000000.0,1439787600000.0,1439791200000.0,1439794800000.0,1439798400000.0,1439802000000.0,1439805600000.0,1439809200000.0,1439812800000.0,1439816400000.0,1439820000000.0,1439823600000.0,1439827200000.0,1439830800000.0,1439834400000.0,1439838000000.0,1439841600000.0,1439845200000.0,1439848800000.0,1439852400000.0,1439856000000.0,1439859600000.0,1439863200000.0,1439866800000.0,1439870400000.0,1439874000000.0,1439877600000.0,1439881200000.0,1439884800000.0,1439888400000.0,1439892000000.0,1439895600000.0,1439899200000.0,1439902800000.0,1439906400000.0,1439910000000.0,1439913600000.0,1439917200000.0,1439920800000.0,1439924400000.0,1439928000000.0,1439931600000.0,1439935200000.0,1439938800000.0,1439942400000.0,1439946000000.0,1439949600000.0,1439953200000.0,1439956800000.0,1439960400000.0,1439964000000.0,1439967600000.0,1439971200000.0,1439974800000.0,1439978400000.0,1439982000000.0,1439985600000.0,1439989200000.0,1439992800000.0,1439996400000.0,1440000000000.0,1440003600000.0,1440007200000.0,1440010800000.0,1440014400000.0,1440018000000.0,1440021600000.0,1440025200000.0,1440028800000.0,1440032400000.0,1440036000000.0,1440039600000.0,1440043200000.0,1440046800000.0,1440050400000.0,1440054000000.0,1440057600000.0,1440061200000.0,1440064800000.0,1440068400000.0,1440072000000.0,1440075600000.0,1440079200000.0,1440082800000.0,1440086400000.0,1440090000000.0,1440093600000.0,1440097200000.0,1440100800000.0,1440104400000.0,1440108000000.0,1440111600000.0,1440115200000.0,1440118800000.0,1440122400000.0,1440126000000.0,1440129600000.0,1440133200000.0,1440136800000.0,1440140400000.0,1440144000000.0,1440147600000.0,1440151200000.0,1440154800000.0,1440158400000.0,1440162000000.0,1440165600000.0,1440169200000.0,1440172800000.0,1440176400000.0,1440180000000.0,1440183600000.0,1440187200000.0,1440190800000.0,1440194400000.0,1440198000000.0,1440201600000.0,1440205200000.0,1440208800000.0,1440212400000.0,1440216000000.0,1440219600000.0,1440223200000.0,1440226800000.0,1440230400000.0,1440234000000.0,1440237600000.0,1440241200000.0,1440244800000.0,1440248400000.0,1440252000000.0,1440255600000.0,1440259200000.0,1440262800000.0,1440266400000.0,1440270000000.0,1440273600000.0,1440277200000.0,1440280800000.0,1440284400000.0,1440288000000.0,1440291600000.0,1440295200000.0,1440298800000.0,1440302400000.0,1440306000000.0,1440309600000.0,1440313200000.0,1440316800000.0,1440320400000.0,1440324000000.0,1440327600000.0,1440331200000.0,1440334800000.0,1440338400000.0,1440342000000.0,1440345600000.0,1440349200000.0,1440352800000.0,1440356400000.0,1440360000000.0,1440363600000.0,1440367200000.0,1440370800000.0,1440374400000.0,1440378000000.0,1440381600000.0,1440385200000.0,1440388800000.0,1440392400000.0,1440396000000.0,1440399600000.0,1440403200000.0,1440406800000.0,1440410400000.0,1440414000000.0,1440417600000.0,1440421200000.0,1440424800000.0,1440428400000.0,1440432000000.0,1440435600000.0,1440439200000.0,1440442800000.0,1440446400000.0,1440450000000.0,1440453600000.0,1440457200000.0,1440460800000.0,1440464400000.0,1440468000000.0,1440471600000.0,1440475200000.0,1440478800000.0,1440482400000.0,1440486000000.0,1440489600000.0,1440493200000.0,1440496800000.0,1440500400000.0,1440504000000.0,1440507600000.0,1440511200000.0,1440514800000.0,1440518400000.0,1440522000000.0,1440525600000.0,1440529200000.0,1440532800000.0,1440536400000.0,1440540000000.0,1440543600000.0,1440547200000.0,1440550800000.0,1440554400000.0,1440558000000.0,1440561600000.0,1440565200000.0,1440568800000.0,1440572400000.0,1440576000000.0,1440579600000.0,1440583200000.0,1440586800000.0,1440590400000.0,1440594000000.0,1440597600000.0,1440601200000.0,1440604800000.0,1440608400000.0,1440612000000.0,1440615600000.0,1440619200000.0,1440622800000.0,1440626400000.0,1440630000000.0,1440633600000.0,1440637200000.0,1440640800000.0,1440644400000.0,1440648000000.0,1440651600000.0,1440655200000.0,1440658800000.0,1440662400000.0,1440666000000.0,1440669600000.0,1440673200000.0,1440676800000.0,1440680400000.0,1440684000000.0,1440687600000.0,1440691200000.0,1440694800000.0,1440698400000.0,1440702000000.0,1440705600000.0,1440709200000.0,1440712800000.0,1440716400000.0,1440720000000.0,1440723600000.0,1440727200000.0,1440730800000.0,1440734400000.0,1440738000000.0,1440741600000.0,1440745200000.0,1440748800000.0,1440752400000.0,1440756000000.0,1440759600000.0,1440763200000.0,1440766800000.0,1440770400000.0,1440774000000.0,1440777600000.0,1440781200000.0,1440784800000.0,1440788400000.0,1440792000000.0,1440795600000.0,1440799200000.0,1440802800000.0,1440806400000.0,1440810000000.0,1440813600000.0,1440817200000.0,1440820800000.0,1440824400000.0,1440828000000.0,1440831600000.0,1440835200000.0,1440838800000.0,1440842400000.0,1440846000000.0,1440849600000.0,1440853200000.0,1440856800000.0,1440860400000.0,1440864000000.0,1440867600000.0,1440871200000.0,1440874800000.0,1440878400000.0,1440882000000.0,1440885600000.0,1440889200000.0,1440892800000.0,1440896400000.0,1440900000000.0,1440903600000.0,1440907200000.0,1440910800000.0,1440914400000.0,1440918000000.0,1440921600000.0,1440925200000.0,1440928800000.0,1440932400000.0,1440936000000.0,1440939600000.0,1440943200000.0,1440946800000.0,1440950400000.0,1440954000000.0,1440957600000.0,1440961200000.0,1440964800000.0,1440968400000.0,1440972000000.0,1440975600000.0,1440979200000.0,1440982800000.0,1440986400000.0,1440990000000.0,1440993600000.0,1440997200000.0,1441000800000.0,1441004400000.0,1441008000000.0,1441011600000.0,1441015200000.0,1441018800000.0,1441022400000.0,1441026000000.0,1441029600000.0,1441033200000.0,1441036800000.0,1441040400000.0,1441044000000.0],\"y\":[0,0,0,0,0,0,0,0,0,0,0,1,1,0,0,0,1,0,0,0,0,0,0,0,0,0,0,1,0,0,0,0,0,0,0,0,0,1,0,0,0,0,0,0,0,0,0,0,0,0,0,0,0,0,0,0,1,0,0,0,1,0,0,0,1,0,0,0,0,0,0,0,0,0,0,0,0,0,0,2,2,1,2,0,0,1,0,0,0,6,8,0,1,0,0,0,0,0,0,0,0,0,0,2,3,1,1,0,0,0,0,0,0,3,3,2,0,1,1,0,0,0,0,0,0,0,0,2,3,1,1,0,0,0,0,2,1,6,3,5,0,0,0,2,0,0,0,0,0,0,0,1,4,1,1,0,0,0,0,0,1,6,3,0,0,0,0,0,0,0,0,0,0,0,0,0,0,0,0,0,0,0,0,0,0,0,0,0,0,0,0,0,0,0,0,0,0,0,0,0,0,0,0,0,0,0,1,0,0,0,0,0,0,0,0,0,0,0,0,0,0,0,0,3,3,0,1,0,0,0,0,0,0,3,4,2,0,1,0,0,0,0,0,0,0,0,0,0,0,0,0,0,0,0,0,0,0,6,6,1,0,0,0,0,0,0,0,0,0,0,0,2,3,1,0,0,0,1,0,2,0,5,6,1,0,0,0,0,0,0,0,0,0,0,0,1,6,1,0,1,0,0,0,0,0,7,2,1,0,0,1,1,0,0,0,0,0,0,0,1,4,0,0,1,0,0,1,0,0,6,4,0,0,0,0,0,0,0,0,0,0,0,0,0,0,0,0,0,0,0,0,0,0,0,0,0,0,0,0,0,0,0,0,0,0,0,0,0,0,0,0,0,0,0,0,0,0,0,1,0,0,0,0,0,0,0,0,0,0,0,0,2,6,1,2,0,0,0,0,0,0,2,0,0,0,0,0,0,0,0,0,0,0,0,0,0,7,0,1,0,0,0,0,0,0,4,6,1,0,0,0,0,0,0,0,0,0,0,0,1,4,1,0,0,0,0,0,1,0,3,2,3,0,0,2,0,0,0,0,0,0,0,0,1,4,0,2,0,0,0,1,0,0,7,1,3,0,0,0,0,0,0,0,0,0,0,0,2,2,0,0,0,0,1,1,1,0,4,3,1,1,0,1,1,0,0,0,0,0,0,0,0,0,0,0,0,0,0,0,0,0,0,0,0,0,0,0,1,0,0,0,0,0,0,0,0,0,0,0,0,0,0,0,0,1,0,0,1,0,0,0,0,0,0,0,0,0,0,0,3,6,1,1,0,0,0,0,1,0,3,4,1,1,0,1,0,0,0,0,0,0,0,0,1,7,1,0,1,0,0,0,0,0,5,3,1,1,0,0,1,0,0,0,0,0,0,0,2,4,2,1,0,0,0,0,1,0,4,3,1,0,0,0,1,0,0,0,0,0,0,1,1,4,0,2,0,0,0,1,0,0,6,3,0,0,0,0,0,0,0,0,0,0,0,0,0,3,1,1,0,0,0,1,1,0,4,3,0,1,2,0,0,0,0,0,0,0,0,0,0,0,0,0,1,0,1,0,0,0,0,2,0,0,0,0,0,0,0,0,0,0,0,0,0,0,0,0,0,0,0,0,0,0,0,0,0,0,0,0,0,0,0,0,0,0,0,0,2,5,1,1,0,0,1,0,0,0,4,5,0,1,0,0,0,0,0,0,0,0,0,0,4,4,2,1,0,0,0,0,0,2,4,5,1,0,1,0,0,0,0,0,0,0,0,0,2,4,1,1,0,0,0,0,0,1,3,5,2,0,1,0,0,0,0,0,0,0,0,1,2,7,1,1,0,0,2,0,0,1,3,3,0,0,0,0,0,0,0,0,0,0,0,0,3,2,0,1,0,0,0,0,2,1,1,2,1,0,0,0,0,0,0,0,0,0,0,0,0,0,0,0,0,0,0,0,0,0,0,0,2,1,0,0,0,0,0,0,0,0,0,0,0,0,0,0,2,1,0,0,1,0,1,0,0,0,0,0,0,0,0,0,0,0,0,0,3,4,0,0,0,0,0,0,2,0,2,3,1,0,0,0,0,0,0,0,0,0,0,0,3,3,1,0,0,0,0,0,0,0,2,3,1,1,0,2,0,0,0,0,0,0,0,0,2,4,1,2,0,1,0,0,0,0,1,4,1,0,0,0,0,0,0,0,0,0,0,0,1,3,0,1,2,0,0,0,1,0,2,3,0,0,0,0,0,0,0,0,0,0,0,0,0,0,0,1,0,0,0,0,0,0,0,0,0,0,1,0,0,0,0,0,0,0,0,0,0,0,0,0,1,0,0,0,0,1,0,0,0,0,0,0,0,2,0,0,0,0,0,0,0,0,0,0,0,0,0,0,1,0,0,0,0,1,0,0,0,0,0,0,0,0,0,0,2,3,1,1,1,0,1,0,0,1,4,4,0,0,0,0,0,0,0,0,0,0,0,0,1,5,1,1,0,0,0,1,0,0,5,2,2,0,1,0,0,0,0,0,0,0,0,0,2,3,1,1,0,0,0,0,0,0,4,5,1,0,1,0,0,0,0,0,0,0,0,0,1,4,2,2,0,0,0,0,0,0,6,2,2,0,1,0,0,1,0,0,0,0,0,0,1,2,0,1,0,0,0,0,1,1,1,5,1,1,1,0,1,0,0,0,0,0,0,0,1,0,0,0,1,0,0,0,0,2,1,0,0,0,1,0,1,0,0,0,0,0,0,0,0,0,0,0,1,1,0,0,0,0,0,0,0,0,0,0,0,0,0,0,0,0,0,0,2,4,0,1,0,0,0,0,0,0,2,5,1,0,1,0,0,0,0,0,0,0,0,2,2,5,0,2,0,0,0,0,0,0,4,4,1,0,0,0,0,0,0,0,0,0,0,0,2,5,0,2,0,0,0,0,1,0,4,5,1,0,0,0,0,0,0,0,0,0,0,0,2,7,1,1,0,0,0,0,0,0,3,4,1,0,0,0,0,0,0,0,0,0,0,0,1,4,1,1,0,0,0,0,0,0,6,2,1,0,0,0,1,0,0,0,0,0,0,0,0,0,0,0,0,0,0,0,0,1,1,0,0,0,0,0,1,0,0,0,0,0,0,0,0,0,1,0,0,0,0,0,0,1,0,0,0,0,0,0,0,0,0,0,0,0,0,0,3,5,1,1,0,0,0,0,0,1,4,4,1,0,0,0,0,0,0,0,0,0,0,0,4,6,1,2,0,0,0,0,0,0,8,2,1,0,0,0,0,0,0,0,0,0,0,0,2,4,0,1,0,0,0,0,0,1,5,2,1,0,0,0,0,0,0,0,0,0,0,0,2,4,1,1,0,0,0,1,0,0,3,2,1,0,1,0,0,0,0,0,0,0,0,0,3,3,0,1,0,0,0,0,1,0,4,1,2,0,0,0,0,0,0,0,0,0,0,0,0,0,0,0,0,0,0,0,0,1,1,0,0,1,0,0,0,0,0,1,0,0,0,0,0,0,0,0,0,0,0,0,0,0,1,0,0,1,1,0,0,0,0,0,0,0,0,0,6,5,1,1,1,1,0,0,0,0,2,5,2,0,0,0,0,0,0,0,0,0,0,0,4,7,1,1,0,0,0,0,1,0,4,3,4,0,0,0,1,0,0,0,0,0,0,0,2,5,1,2,1,1,1,0,0,0,4,1,0,2,0,2,0,0,0,0,0,0,0,0,1,6,0,2,0,0,1,0,0,0,5,1,1,0,0,0,0,1,0,0,0,0,0,0,2,5,2,1,0,0,0,0,1,1,4,2,0,0,0,0,0,0,0,0,0,0,0,0,0,0,0,0,1,0,0,0,0,0,0,0,0,0,0,0,0,0,0,0,0,0,0,0,0,0,0,1,0,0,0,0,0,0,0,0,0,0,0,0,0,0,0,0,0,0,0,0,2,6,3,0,0,0,0,0,0,1,3,5,1,0,0,0,0,0,0,0,0,0,0,0,2,6,1,2,0,0,0,0,0,0,2,3,0,0,0,0,0,0,0,0,0,0,0,0,2,4,1,1,0,0,0,0,0,1,3,3,0,0,0,0,0,0,0,0,0,0,0,1,2,5,1,2,0,0,0,0,0,0,4,3,0,0,0,0,0,1,0,0,0,0,0,0,3,3,1,1,1,0,0,0,0,0,3,3,1,0,0,0,0,0,0,0,0,0,0,0,0,0,0,0,0,0,0,0,0,0,0,0,0,0,0,0,0,0,0,0,0,0,0,0,0,0,0,0,0,0,0,0,0,0,1,0,0,0,1,0,0,0,0,0,0,0,0,0,3,6,2,1,0,0,0,0,1,0,5,3,1,0,0,0,0,0,0,0,0,0,0,0,1,5,0,1,1,0,0,0,0,0,5,3,4,0,0,0,0,0,0,0,0,0,0,0,2,3,3,3,0,1,0,0,0,0,4,4,2,0,1,0,0,0,0,0,0,0,0,0,1,4,0,2,0,0,1,1,0,0,2,3,2,1,0,0,0,0,0,0,0,0,0,0,1,5,1,3,0,0,0,0,0,0,3,0,0,0,0,0,0,0,0,0,0,0,0,0,0,0,0,0,0,0,0,0,1,0,0,2,0,0,0,0,0,0,0,0,0,0,0,0,0,0,0,0,0,0,0,0,0,0,0,0,0,0,0,0,0,0,0,0,0,0,0,0,4,3,2,2,0,0,0,0,0,0,6,2,3,0,2,0,1,0,0,0,0,0,0,1,2,4,2,2,1,0,0,1,0,0,3,5,2,0,0,0,0,0,0,0,0,0,0,0,0,4,2,3,0,0,0,0,0,0,5,3,3,0,0,0,0,0,0,0,0,0,0,0,3,4,1,2,0,0,0,0,0,1,1,8,1,0,1,0,0,0,0,0,0,0,0,1,2,4,0,2,0,0,0,3,0,1,1,2,1,0,0,0,0,0,1,0,0,0,0,0,0,0,0,0,0,0,0,0,0,0,1,0,0,0,0,0,0,0,0,0,0,0,0,0,0,0,0,0,2,0,0,0,0,0,0,0,0,0,0,0,0,0,0,0,0,0,0,0,4,4,0,4,0,0,0,0,0,1,4,4,1,0,0,0,0,0,0,0,0,0,0,0,3,7,0,0,0,0,0,0,0,0,7,6,1,1,0,0,0,0,0,0,0,0,0,0,2,8,0,1,1,0,1,0,0,1,4,5,2,0,0,0,0,0,0,0,0,0,0,0,1,5,2,2,0,0,0,0,0,0,6,1,3,1,0,1,0,1,0,0,0,0,0,0,1,5,1,1,0,0,0,0,0,1,2,1,2,0,0,0,0,0,0,0,0,0,0,0,0,0,1,0,0,1,0,0,0,0,0,0,0,0,0,0,0,0,0,0,0,0,0,0,0,0,0,0,0,0,0,0,0,0,0,2,0,0,0,0,0,0,0,0,0,0,0,0,4,4,0,1,0,0,0,0,0,0,4,2,3]}},\"id\":\"b12b47ba-b6c0-4ce8-bd98-19cdd58ba43e\",\"type\":\"ColumnDataSource\"},{\"attributes\":{\"plot\":{\"id\":\"a2e84121-fce8-4c81-8137-be7b8fc4fb27\",\"subtype\":\"Figure\",\"type\":\"Plot\"},\"ticker\":{\"id\":\"509823f6-9f5b-4cd4-8102-a73df1600fcb\",\"type\":\"DatetimeTicker\"}},\"id\":\"45a09e63-4aa6-4320-947d-dfc89de26d68\",\"type\":\"Grid\"},{\"attributes\":{\"callback\":null,\"column_names\":[\"x\",\"y\"],\"data\":{\"x\":[1432335600000.0,1432339200000.0,1432342800000.0,1432346400000.0,1432350000000.0,1432353600000.0,1432357200000.0,1432360800000.0,1432364400000.0,1432368000000.0,1432371600000.0,1432375200000.0,1432378800000.0,1432382400000.0,1432386000000.0,1432389600000.0,1432393200000.0,1432396800000.0,1432400400000.0,1432404000000.0,1432407600000.0,1432411200000.0,1432414800000.0,1432418400000.0,1432422000000.0,1432425600000.0,1432429200000.0,1432432800000.0,1432436400000.0,1432440000000.0,1432443600000.0,1432447200000.0,1432450800000.0,1432454400000.0,1432458000000.0,1432461600000.0,1432465200000.0,1432468800000.0,1432472400000.0,1432476000000.0,1432479600000.0,1432483200000.0,1432486800000.0,1432490400000.0,1432494000000.0,1432497600000.0,1432501200000.0,1432504800000.0,1432508400000.0,1432512000000.0,1432515600000.0,1432519200000.0,1432522800000.0,1432526400000.0,1432530000000.0,1432533600000.0,1432537200000.0,1432540800000.0,1432544400000.0,1432548000000.0,1432551600000.0,1432555200000.0,1432558800000.0,1432562400000.0,1432566000000.0,1432569600000.0,1432573200000.0,1432576800000.0,1432580400000.0,1432584000000.0,1432587600000.0,1432591200000.0,1432594800000.0,1432598400000.0,1432602000000.0,1432605600000.0,1432609200000.0,1432612800000.0,1432616400000.0,1432620000000.0,1432623600000.0,1432627200000.0,1432630800000.0,1432634400000.0,1432638000000.0,1432641600000.0,1432645200000.0,1432648800000.0,1432652400000.0,1432656000000.0,1432659600000.0,1432663200000.0,1432666800000.0,1432670400000.0,1432674000000.0,1432677600000.0,1432681200000.0,1432684800000.0,1432688400000.0,1432692000000.0,1432695600000.0,1432699200000.0,1432702800000.0,1432706400000.0,1432710000000.0,1432713600000.0,1432717200000.0,1432720800000.0,1432724400000.0,1432728000000.0,1432731600000.0,1432735200000.0,1432738800000.0,1432742400000.0,1432746000000.0,1432749600000.0,1432753200000.0,1432756800000.0,1432760400000.0,1432764000000.0,1432767600000.0,1432771200000.0,1432774800000.0,1432778400000.0,1432782000000.0,1432785600000.0,1432789200000.0,1432792800000.0,1432796400000.0,1432800000000.0,1432803600000.0,1432807200000.0,1432810800000.0,1432814400000.0,1432818000000.0,1432821600000.0,1432825200000.0,1432828800000.0,1432832400000.0,1432836000000.0,1432839600000.0,1432843200000.0,1432846800000.0,1432850400000.0,1432854000000.0,1432857600000.0,1432861200000.0,1432864800000.0,1432868400000.0,1432872000000.0,1432875600000.0,1432879200000.0,1432882800000.0,1432886400000.0,1432890000000.0,1432893600000.0,1432897200000.0,1432900800000.0,1432904400000.0,1432908000000.0,1432911600000.0,1432915200000.0,1432918800000.0,1432922400000.0,1432926000000.0,1432929600000.0,1432933200000.0,1432936800000.0,1432940400000.0,1432944000000.0,1432947600000.0,1432951200000.0,1432954800000.0,1432958400000.0,1432962000000.0,1432965600000.0,1432969200000.0,1432972800000.0,1432976400000.0,1432980000000.0,1432983600000.0,1432987200000.0,1432990800000.0,1432994400000.0,1432998000000.0,1433001600000.0,1433005200000.0,1433008800000.0,1433012400000.0,1433016000000.0,1433019600000.0,1433023200000.0,1433026800000.0,1433030400000.0,1433034000000.0,1433037600000.0,1433041200000.0,1433044800000.0,1433048400000.0,1433052000000.0,1433055600000.0,1433059200000.0,1433062800000.0,1433066400000.0,1433070000000.0,1433073600000.0,1433077200000.0,1433080800000.0,1433084400000.0,1433088000000.0,1433091600000.0,1433095200000.0,1433098800000.0,1433102400000.0,1433106000000.0,1433109600000.0,1433113200000.0,1433116800000.0,1433120400000.0,1433124000000.0,1433127600000.0,1433131200000.0,1433134800000.0,1433138400000.0,1433142000000.0,1433145600000.0,1433149200000.0,1433152800000.0,1433156400000.0,1433160000000.0,1433163600000.0,1433167200000.0,1433170800000.0,1433174400000.0,1433178000000.0,1433181600000.0,1433185200000.0,1433188800000.0,1433192400000.0,1433196000000.0,1433199600000.0,1433203200000.0,1433206800000.0,1433210400000.0,1433214000000.0,1433217600000.0,1433221200000.0,1433224800000.0,1433228400000.0,1433232000000.0,1433235600000.0,1433239200000.0,1433242800000.0,1433246400000.0,1433250000000.0,1433253600000.0,1433257200000.0,1433260800000.0,1433264400000.0,1433268000000.0,1433271600000.0,1433275200000.0,1433278800000.0,1433282400000.0,1433286000000.0,1433289600000.0,1433293200000.0,1433296800000.0,1433300400000.0,1433304000000.0,1433307600000.0,1433311200000.0,1433314800000.0,1433318400000.0,1433322000000.0,1433325600000.0,1433329200000.0,1433332800000.0,1433336400000.0,1433340000000.0,1433343600000.0,1433347200000.0,1433350800000.0,1433354400000.0,1433358000000.0,1433361600000.0,1433365200000.0,1433368800000.0,1433372400000.0,1433376000000.0,1433379600000.0,1433383200000.0,1433386800000.0,1433390400000.0,1433394000000.0,1433397600000.0,1433401200000.0,1433404800000.0,1433408400000.0,1433412000000.0,1433415600000.0,1433419200000.0,1433422800000.0,1433426400000.0,1433430000000.0,1433433600000.0,1433437200000.0,1433440800000.0,1433444400000.0,1433448000000.0,1433451600000.0,1433455200000.0,1433458800000.0,1433462400000.0,1433466000000.0,1433469600000.0,1433473200000.0,1433476800000.0,1433480400000.0,1433484000000.0,1433487600000.0,1433491200000.0,1433494800000.0,1433498400000.0,1433502000000.0,1433505600000.0,1433509200000.0,1433512800000.0,1433516400000.0,1433520000000.0,1433523600000.0,1433527200000.0,1433530800000.0,1433534400000.0,1433538000000.0,1433541600000.0,1433545200000.0,1433548800000.0,1433552400000.0,1433556000000.0,1433559600000.0,1433563200000.0,1433566800000.0,1433570400000.0,1433574000000.0,1433577600000.0,1433581200000.0,1433584800000.0,1433588400000.0,1433592000000.0,1433595600000.0,1433599200000.0,1433602800000.0,1433606400000.0,1433610000000.0,1433613600000.0,1433617200000.0,1433620800000.0,1433624400000.0,1433628000000.0,1433631600000.0,1433635200000.0,1433638800000.0,1433642400000.0,1433646000000.0,1433649600000.0,1433653200000.0,1433656800000.0,1433660400000.0,1433664000000.0,1433667600000.0,1433671200000.0,1433674800000.0,1433678400000.0,1433682000000.0,1433685600000.0,1433689200000.0,1433692800000.0,1433696400000.0,1433700000000.0,1433703600000.0,1433707200000.0,1433710800000.0,1433714400000.0,1433718000000.0,1433721600000.0,1433725200000.0,1433728800000.0,1433732400000.0,1433736000000.0,1433739600000.0,1433743200000.0,1433746800000.0,1433750400000.0,1433754000000.0,1433757600000.0,1433761200000.0,1433764800000.0,1433768400000.0,1433772000000.0,1433775600000.0,1433779200000.0,1433782800000.0,1433786400000.0,1433790000000.0,1433793600000.0,1433797200000.0,1433800800000.0,1433804400000.0,1433808000000.0,1433811600000.0,1433815200000.0,1433818800000.0,1433822400000.0,1433826000000.0,1433829600000.0,1433833200000.0,1433836800000.0,1433840400000.0,1433844000000.0,1433847600000.0,1433851200000.0,1433854800000.0,1433858400000.0,1433862000000.0,1433865600000.0,1433869200000.0,1433872800000.0,1433876400000.0,1433880000000.0,1433883600000.0,1433887200000.0,1433890800000.0,1433894400000.0,1433898000000.0,1433901600000.0,1433905200000.0,1433908800000.0,1433912400000.0,1433916000000.0,1433919600000.0,1433923200000.0,1433926800000.0,1433930400000.0,1433934000000.0,1433937600000.0,1433941200000.0,1433944800000.0,1433948400000.0,1433952000000.0,1433955600000.0,1433959200000.0,1433962800000.0,1433966400000.0,1433970000000.0,1433973600000.0,1433977200000.0,1433980800000.0,1433984400000.0,1433988000000.0,1433991600000.0,1433995200000.0,1433998800000.0,1434002400000.0,1434006000000.0,1434009600000.0,1434013200000.0,1434016800000.0,1434020400000.0,1434024000000.0,1434027600000.0,1434031200000.0,1434034800000.0,1434038400000.0,1434042000000.0,1434045600000.0,1434049200000.0,1434052800000.0,1434056400000.0,1434060000000.0,1434063600000.0,1434067200000.0,1434070800000.0,1434074400000.0,1434078000000.0,1434081600000.0,1434085200000.0,1434088800000.0,1434092400000.0,1434096000000.0,1434099600000.0,1434103200000.0,1434106800000.0,1434110400000.0,1434114000000.0,1434117600000.0,1434121200000.0,1434124800000.0,1434128400000.0,1434132000000.0,1434135600000.0,1434139200000.0,1434142800000.0,1434146400000.0,1434150000000.0,1434153600000.0,1434157200000.0,1434160800000.0,1434164400000.0,1434168000000.0,1434171600000.0,1434175200000.0,1434178800000.0,1434182400000.0,1434186000000.0,1434189600000.0,1434193200000.0,1434196800000.0,1434200400000.0,1434204000000.0,1434207600000.0,1434211200000.0,1434214800000.0,1434218400000.0,1434222000000.0,1434225600000.0,1434229200000.0,1434232800000.0,1434236400000.0,1434240000000.0,1434243600000.0,1434247200000.0,1434250800000.0,1434254400000.0,1434258000000.0,1434261600000.0,1434265200000.0,1434268800000.0,1434272400000.0,1434276000000.0,1434279600000.0,1434283200000.0,1434286800000.0,1434290400000.0,1434294000000.0,1434297600000.0,1434301200000.0,1434304800000.0,1434308400000.0,1434312000000.0,1434315600000.0,1434319200000.0,1434322800000.0,1434326400000.0,1434330000000.0,1434333600000.0,1434337200000.0,1434340800000.0,1434344400000.0,1434348000000.0,1434351600000.0,1434355200000.0,1434358800000.0,1434362400000.0,1434366000000.0,1434369600000.0,1434373200000.0,1434376800000.0,1434380400000.0,1434384000000.0,1434387600000.0,1434391200000.0,1434394800000.0,1434398400000.0,1434402000000.0,1434405600000.0,1434409200000.0,1434412800000.0,1434416400000.0,1434420000000.0,1434423600000.0,1434427200000.0,1434430800000.0,1434434400000.0,1434438000000.0,1434441600000.0,1434445200000.0,1434448800000.0,1434452400000.0,1434456000000.0,1434459600000.0,1434463200000.0,1434466800000.0,1434470400000.0,1434474000000.0,1434477600000.0,1434481200000.0,1434484800000.0,1434488400000.0,1434492000000.0,1434495600000.0,1434499200000.0,1434502800000.0,1434506400000.0,1434510000000.0,1434513600000.0,1434517200000.0,1434520800000.0,1434524400000.0,1434528000000.0,1434531600000.0,1434535200000.0,1434538800000.0,1434542400000.0,1434546000000.0,1434549600000.0,1434553200000.0,1434556800000.0,1434560400000.0,1434564000000.0,1434567600000.0,1434571200000.0,1434574800000.0,1434578400000.0,1434582000000.0,1434585600000.0,1434589200000.0,1434592800000.0,1434596400000.0,1434600000000.0,1434603600000.0,1434607200000.0,1434610800000.0,1434614400000.0,1434618000000.0,1434621600000.0,1434625200000.0,1434628800000.0,1434632400000.0,1434636000000.0,1434639600000.0,1434643200000.0,1434646800000.0,1434650400000.0,1434654000000.0,1434657600000.0,1434661200000.0,1434664800000.0,1434668400000.0,1434672000000.0,1434675600000.0,1434679200000.0,1434682800000.0,1434686400000.0,1434690000000.0,1434693600000.0,1434697200000.0,1434700800000.0,1434704400000.0,1434708000000.0,1434711600000.0,1434715200000.0,1434718800000.0,1434722400000.0,1434726000000.0,1434729600000.0,1434733200000.0,1434736800000.0,1434740400000.0,1434744000000.0,1434747600000.0,1434751200000.0,1434754800000.0,1434758400000.0,1434762000000.0,1434765600000.0,1434769200000.0,1434772800000.0,1434776400000.0,1434780000000.0,1434783600000.0,1434787200000.0,1434790800000.0,1434794400000.0,1434798000000.0,1434801600000.0,1434805200000.0,1434808800000.0,1434812400000.0,1434816000000.0,1434819600000.0,1434823200000.0,1434826800000.0,1434830400000.0,1434834000000.0,1434837600000.0,1434841200000.0,1434844800000.0,1434848400000.0,1434852000000.0,1434855600000.0,1434859200000.0,1434862800000.0,1434866400000.0,1434870000000.0,1434873600000.0,1434877200000.0,1434880800000.0,1434884400000.0,1434888000000.0,1434891600000.0,1434895200000.0,1434898800000.0,1434902400000.0,1434906000000.0,1434909600000.0,1434913200000.0,1434916800000.0,1434920400000.0,1434924000000.0,1434927600000.0,1434931200000.0,1434934800000.0,1434938400000.0,1434942000000.0,1434945600000.0,1434949200000.0,1434952800000.0,1434956400000.0,1434960000000.0,1434963600000.0,1434967200000.0,1434970800000.0,1434974400000.0,1434978000000.0,1434981600000.0,1434985200000.0,1434988800000.0,1434992400000.0,1434996000000.0,1434999600000.0,1435003200000.0,1435006800000.0,1435010400000.0,1435014000000.0,1435017600000.0,1435021200000.0,1435024800000.0,1435028400000.0,1435032000000.0,1435035600000.0,1435039200000.0,1435042800000.0,1435046400000.0,1435050000000.0,1435053600000.0,1435057200000.0,1435060800000.0,1435064400000.0,1435068000000.0,1435071600000.0,1435075200000.0,1435078800000.0,1435082400000.0,1435086000000.0,1435089600000.0,1435093200000.0,1435096800000.0,1435100400000.0,1435104000000.0,1435107600000.0,1435111200000.0,1435114800000.0,1435118400000.0,1435122000000.0,1435125600000.0,1435129200000.0,1435132800000.0,1435136400000.0,1435140000000.0,1435143600000.0,1435147200000.0,1435150800000.0,1435154400000.0,1435158000000.0,1435161600000.0,1435165200000.0,1435168800000.0,1435172400000.0,1435176000000.0,1435179600000.0,1435183200000.0,1435186800000.0,1435190400000.0,1435194000000.0,1435197600000.0,1435201200000.0,1435204800000.0,1435208400000.0,1435212000000.0,1435215600000.0,1435219200000.0,1435222800000.0,1435226400000.0,1435230000000.0,1435233600000.0,1435237200000.0,1435240800000.0,1435244400000.0,1435248000000.0,1435251600000.0,1435255200000.0,1435258800000.0,1435262400000.0,1435266000000.0,1435269600000.0,1435273200000.0,1435276800000.0,1435280400000.0,1435284000000.0,1435287600000.0,1435291200000.0,1435294800000.0,1435298400000.0,1435302000000.0,1435305600000.0,1435309200000.0,1435312800000.0,1435316400000.0,1435320000000.0,1435323600000.0,1435327200000.0,1435330800000.0,1435334400000.0,1435338000000.0,1435341600000.0,1435345200000.0,1435348800000.0,1435352400000.0,1435356000000.0,1435359600000.0,1435363200000.0,1435366800000.0,1435370400000.0,1435374000000.0,1435377600000.0,1435381200000.0,1435384800000.0,1435388400000.0,1435392000000.0,1435395600000.0,1435399200000.0,1435402800000.0,1435406400000.0,1435410000000.0,1435413600000.0,1435417200000.0,1435420800000.0,1435424400000.0,1435428000000.0,1435431600000.0,1435435200000.0,1435438800000.0,1435442400000.0,1435446000000.0,1435449600000.0,1435453200000.0,1435456800000.0,1435460400000.0,1435464000000.0,1435467600000.0,1435471200000.0,1435474800000.0,1435478400000.0,1435482000000.0,1435485600000.0,1435489200000.0,1435492800000.0,1435496400000.0,1435500000000.0,1435503600000.0,1435507200000.0,1435510800000.0,1435514400000.0,1435518000000.0,1435521600000.0,1435525200000.0,1435528800000.0,1435532400000.0,1435536000000.0,1435539600000.0,1435543200000.0,1435546800000.0,1435550400000.0,1435554000000.0,1435557600000.0,1435561200000.0,1435564800000.0,1435568400000.0,1435572000000.0,1435575600000.0,1435579200000.0,1435582800000.0,1435586400000.0,1435590000000.0,1435593600000.0,1435597200000.0,1435600800000.0,1435604400000.0,1435608000000.0,1435611600000.0,1435615200000.0,1435618800000.0,1435622400000.0,1435626000000.0,1435629600000.0,1435633200000.0,1435636800000.0,1435640400000.0,1435644000000.0,1435647600000.0,1435651200000.0,1435654800000.0,1435658400000.0,1435662000000.0,1435665600000.0,1435669200000.0,1435672800000.0,1435676400000.0,1435680000000.0,1435683600000.0,1435687200000.0,1435690800000.0,1435694400000.0,1435698000000.0,1435701600000.0,1435705200000.0,1435708800000.0,1435712400000.0,1435716000000.0,1435719600000.0,1435723200000.0,1435726800000.0,1435730400000.0,1435734000000.0,1435737600000.0,1435741200000.0,1435744800000.0,1435748400000.0,1435752000000.0,1435755600000.0,1435759200000.0,1435762800000.0,1435766400000.0,1435770000000.0,1435773600000.0,1435777200000.0,1435780800000.0,1435784400000.0,1435788000000.0,1435791600000.0,1435795200000.0,1435798800000.0,1435802400000.0,1435806000000.0,1435809600000.0,1435813200000.0,1435816800000.0,1435820400000.0,1435824000000.0,1435827600000.0,1435831200000.0,1435834800000.0,1435838400000.0,1435842000000.0,1435845600000.0,1435849200000.0,1435852800000.0,1435856400000.0,1435860000000.0,1435863600000.0,1435867200000.0,1435870800000.0,1435874400000.0,1435878000000.0,1435881600000.0,1435885200000.0,1435888800000.0,1435892400000.0,1435896000000.0,1435899600000.0,1435903200000.0,1435906800000.0,1435910400000.0,1435914000000.0,1435917600000.0,1435921200000.0,1435924800000.0,1435928400000.0,1435932000000.0,1435935600000.0,1435939200000.0,1435942800000.0,1435946400000.0,1435950000000.0,1435953600000.0,1435957200000.0,1435960800000.0,1435964400000.0,1435968000000.0,1435971600000.0,1435975200000.0,1435978800000.0,1435982400000.0,1435986000000.0,1435989600000.0,1435993200000.0,1435996800000.0,1436000400000.0,1436004000000.0,1436007600000.0,1436011200000.0,1436014800000.0,1436018400000.0,1436022000000.0,1436025600000.0,1436029200000.0,1436032800000.0,1436036400000.0,1436040000000.0,1436043600000.0,1436047200000.0,1436050800000.0,1436054400000.0,1436058000000.0,1436061600000.0,1436065200000.0,1436068800000.0,1436072400000.0,1436076000000.0,1436079600000.0,1436083200000.0,1436086800000.0,1436090400000.0,1436094000000.0,1436097600000.0,1436101200000.0,1436104800000.0,1436108400000.0,1436112000000.0,1436115600000.0,1436119200000.0,1436122800000.0,1436126400000.0,1436130000000.0,1436133600000.0,1436137200000.0,1436140800000.0,1436144400000.0,1436148000000.0,1436151600000.0,1436155200000.0,1436158800000.0,1436162400000.0,1436166000000.0,1436169600000.0,1436173200000.0,1436176800000.0,1436180400000.0,1436184000000.0,1436187600000.0,1436191200000.0,1436194800000.0,1436198400000.0,1436202000000.0,1436205600000.0,1436209200000.0,1436212800000.0,1436216400000.0,1436220000000.0,1436223600000.0,1436227200000.0,1436230800000.0,1436234400000.0,1436238000000.0,1436241600000.0,1436245200000.0,1436248800000.0,1436252400000.0,1436256000000.0,1436259600000.0,1436263200000.0,1436266800000.0,1436270400000.0,1436274000000.0,1436277600000.0,1436281200000.0,1436284800000.0,1436288400000.0,1436292000000.0,1436295600000.0,1436299200000.0,1436302800000.0,1436306400000.0,1436310000000.0,1436313600000.0,1436317200000.0,1436320800000.0,1436324400000.0,1436328000000.0,1436331600000.0,1436335200000.0,1436338800000.0,1436342400000.0,1436346000000.0,1436349600000.0,1436353200000.0,1436356800000.0,1436360400000.0,1436364000000.0,1436367600000.0,1436371200000.0,1436374800000.0,1436378400000.0,1436382000000.0,1436385600000.0,1436389200000.0,1436392800000.0,1436396400000.0,1436400000000.0,1436403600000.0,1436407200000.0,1436410800000.0,1436414400000.0,1436418000000.0,1436421600000.0,1436425200000.0,1436428800000.0,1436432400000.0,1436436000000.0,1436439600000.0,1436443200000.0,1436446800000.0,1436450400000.0,1436454000000.0,1436457600000.0,1436461200000.0,1436464800000.0,1436468400000.0,1436472000000.0,1436475600000.0,1436479200000.0,1436482800000.0,1436486400000.0,1436490000000.0,1436493600000.0,1436497200000.0,1436500800000.0,1436504400000.0,1436508000000.0,1436511600000.0,1436515200000.0,1436518800000.0,1436522400000.0,1436526000000.0,1436529600000.0,1436533200000.0,1436536800000.0,1436540400000.0,1436544000000.0,1436547600000.0,1436551200000.0,1436554800000.0,1436558400000.0,1436562000000.0,1436565600000.0,1436569200000.0,1436572800000.0,1436576400000.0,1436580000000.0,1436583600000.0,1436587200000.0,1436590800000.0,1436594400000.0,1436598000000.0,1436601600000.0,1436605200000.0,1436608800000.0,1436612400000.0,1436616000000.0,1436619600000.0,1436623200000.0,1436626800000.0,1436630400000.0,1436634000000.0,1436637600000.0,1436641200000.0,1436644800000.0,1436648400000.0,1436652000000.0,1436655600000.0,1436659200000.0,1436662800000.0,1436666400000.0,1436670000000.0,1436673600000.0,1436677200000.0,1436680800000.0,1436684400000.0,1436688000000.0,1436691600000.0,1436695200000.0,1436698800000.0,1436702400000.0,1436706000000.0,1436709600000.0,1436713200000.0,1436716800000.0,1436720400000.0,1436724000000.0,1436727600000.0,1436731200000.0,1436734800000.0,1436738400000.0,1436742000000.0,1436745600000.0,1436749200000.0,1436752800000.0,1436756400000.0,1436760000000.0,1436763600000.0,1436767200000.0,1436770800000.0,1436774400000.0,1436778000000.0,1436781600000.0,1436785200000.0,1436788800000.0,1436792400000.0,1436796000000.0,1436799600000.0,1436803200000.0,1436806800000.0,1436810400000.0,1436814000000.0,1436817600000.0,1436821200000.0,1436824800000.0,1436828400000.0,1436832000000.0,1436835600000.0,1436839200000.0,1436842800000.0,1436846400000.0,1436850000000.0,1436853600000.0,1436857200000.0,1436860800000.0,1436864400000.0,1436868000000.0,1436871600000.0,1436875200000.0,1436878800000.0,1436882400000.0,1436886000000.0,1436889600000.0,1436893200000.0,1436896800000.0,1436900400000.0,1436904000000.0,1436907600000.0,1436911200000.0,1436914800000.0,1436918400000.0,1436922000000.0,1436925600000.0,1436929200000.0,1436932800000.0,1436936400000.0,1436940000000.0,1436943600000.0,1436947200000.0,1436950800000.0,1436954400000.0,1436958000000.0,1436961600000.0,1436965200000.0,1436968800000.0,1436972400000.0,1436976000000.0,1436979600000.0,1436983200000.0,1436986800000.0,1436990400000.0,1436994000000.0,1436997600000.0,1437001200000.0,1437004800000.0,1437008400000.0,1437012000000.0,1437015600000.0,1437019200000.0,1437022800000.0,1437026400000.0,1437030000000.0,1437033600000.0,1437037200000.0,1437040800000.0,1437044400000.0,1437048000000.0,1437051600000.0,1437055200000.0,1437058800000.0,1437062400000.0,1437066000000.0,1437069600000.0,1437073200000.0,1437076800000.0,1437080400000.0,1437084000000.0,1437087600000.0,1437091200000.0,1437094800000.0,1437098400000.0,1437102000000.0,1437105600000.0,1437109200000.0,1437112800000.0,1437116400000.0,1437120000000.0,1437123600000.0,1437127200000.0,1437130800000.0,1437134400000.0,1437138000000.0,1437141600000.0,1437145200000.0,1437148800000.0,1437152400000.0,1437156000000.0,1437159600000.0,1437163200000.0,1437166800000.0,1437170400000.0,1437174000000.0,1437177600000.0,1437181200000.0,1437184800000.0,1437188400000.0,1437192000000.0,1437195600000.0,1437199200000.0,1437202800000.0,1437206400000.0,1437210000000.0,1437213600000.0,1437217200000.0,1437220800000.0,1437224400000.0,1437228000000.0,1437231600000.0,1437235200000.0,1437238800000.0,1437242400000.0,1437246000000.0,1437249600000.0,1437253200000.0,1437256800000.0,1437260400000.0,1437264000000.0,1437267600000.0,1437271200000.0,1437274800000.0,1437278400000.0,1437282000000.0,1437285600000.0,1437289200000.0,1437292800000.0,1437296400000.0,1437300000000.0,1437303600000.0,1437307200000.0,1437310800000.0,1437314400000.0,1437318000000.0,1437321600000.0,1437325200000.0,1437328800000.0,1437332400000.0,1437336000000.0,1437339600000.0,1437343200000.0,1437346800000.0,1437350400000.0,1437354000000.0,1437357600000.0,1437361200000.0,1437364800000.0,1437368400000.0,1437372000000.0,1437375600000.0,1437379200000.0,1437382800000.0,1437386400000.0,1437390000000.0,1437393600000.0,1437397200000.0,1437400800000.0,1437404400000.0,1437408000000.0,1437411600000.0,1437415200000.0,1437418800000.0,1437422400000.0,1437426000000.0,1437429600000.0,1437433200000.0,1437436800000.0,1437440400000.0,1437444000000.0,1437447600000.0,1437451200000.0,1437454800000.0,1437458400000.0,1437462000000.0,1437465600000.0,1437469200000.0,1437472800000.0,1437476400000.0,1437480000000.0,1437483600000.0,1437487200000.0,1437490800000.0,1437494400000.0,1437498000000.0,1437501600000.0,1437505200000.0,1437508800000.0,1437512400000.0,1437516000000.0,1437519600000.0,1437523200000.0,1437526800000.0,1437530400000.0,1437534000000.0,1437537600000.0,1437541200000.0,1437544800000.0,1437548400000.0,1437552000000.0,1437555600000.0,1437559200000.0,1437562800000.0,1437566400000.0,1437570000000.0,1437573600000.0,1437577200000.0,1437580800000.0,1437584400000.0,1437588000000.0,1437591600000.0,1437595200000.0,1437598800000.0,1437602400000.0,1437606000000.0,1437609600000.0,1437613200000.0,1437616800000.0,1437620400000.0,1437624000000.0,1437627600000.0,1437631200000.0,1437634800000.0,1437638400000.0,1437642000000.0,1437645600000.0,1437649200000.0,1437652800000.0,1437656400000.0,1437660000000.0,1437663600000.0,1437667200000.0,1437670800000.0,1437674400000.0,1437678000000.0,1437681600000.0,1437685200000.0,1437688800000.0,1437692400000.0,1437696000000.0,1437699600000.0,1437703200000.0,1437706800000.0,1437710400000.0,1437714000000.0,1437717600000.0,1437721200000.0,1437724800000.0,1437728400000.0,1437732000000.0,1437735600000.0,1437739200000.0,1437742800000.0,1437746400000.0,1437750000000.0,1437753600000.0,1437757200000.0,1437760800000.0,1437764400000.0,1437768000000.0,1437771600000.0,1437775200000.0,1437778800000.0,1437782400000.0,1437786000000.0,1437789600000.0,1437793200000.0,1437796800000.0,1437800400000.0,1437804000000.0,1437807600000.0,1437811200000.0,1437814800000.0,1437818400000.0,1437822000000.0,1437825600000.0,1437829200000.0,1437832800000.0,1437836400000.0,1437840000000.0,1437843600000.0,1437847200000.0,1437850800000.0,1437854400000.0,1437858000000.0,1437861600000.0,1437865200000.0,1437868800000.0,1437872400000.0,1437876000000.0,1437879600000.0,1437883200000.0,1437886800000.0,1437890400000.0,1437894000000.0,1437897600000.0,1437901200000.0,1437904800000.0,1437908400000.0,1437912000000.0,1437915600000.0,1437919200000.0,1437922800000.0,1437926400000.0,1437930000000.0,1437933600000.0,1437937200000.0,1437940800000.0,1437944400000.0,1437948000000.0,1437951600000.0,1437955200000.0,1437958800000.0,1437962400000.0,1437966000000.0,1437969600000.0,1437973200000.0,1437976800000.0,1437980400000.0,1437984000000.0,1437987600000.0,1437991200000.0,1437994800000.0,1437998400000.0,1438002000000.0,1438005600000.0,1438009200000.0,1438012800000.0,1438016400000.0,1438020000000.0,1438023600000.0,1438027200000.0,1438030800000.0,1438034400000.0,1438038000000.0,1438041600000.0,1438045200000.0,1438048800000.0,1438052400000.0,1438056000000.0,1438059600000.0,1438063200000.0,1438066800000.0,1438070400000.0,1438074000000.0,1438077600000.0,1438081200000.0,1438084800000.0,1438088400000.0,1438092000000.0,1438095600000.0,1438099200000.0,1438102800000.0,1438106400000.0,1438110000000.0,1438113600000.0,1438117200000.0,1438120800000.0,1438124400000.0,1438128000000.0,1438131600000.0,1438135200000.0,1438138800000.0,1438142400000.0,1438146000000.0,1438149600000.0,1438153200000.0,1438156800000.0,1438160400000.0,1438164000000.0,1438167600000.0,1438171200000.0,1438174800000.0,1438178400000.0,1438182000000.0,1438185600000.0,1438189200000.0,1438192800000.0,1438196400000.0,1438200000000.0,1438203600000.0,1438207200000.0,1438210800000.0,1438214400000.0,1438218000000.0,1438221600000.0,1438225200000.0,1438228800000.0,1438232400000.0,1438236000000.0,1438239600000.0,1438243200000.0,1438246800000.0,1438250400000.0,1438254000000.0,1438257600000.0,1438261200000.0,1438264800000.0,1438268400000.0,1438272000000.0,1438275600000.0,1438279200000.0,1438282800000.0,1438286400000.0,1438290000000.0,1438293600000.0,1438297200000.0,1438300800000.0,1438304400000.0,1438308000000.0,1438311600000.0,1438315200000.0,1438318800000.0,1438322400000.0,1438326000000.0,1438329600000.0,1438333200000.0,1438336800000.0,1438340400000.0,1438344000000.0,1438347600000.0,1438351200000.0,1438354800000.0,1438358400000.0,1438362000000.0,1438365600000.0,1438369200000.0,1438372800000.0,1438376400000.0,1438380000000.0,1438383600000.0,1438387200000.0,1438390800000.0,1438394400000.0,1438398000000.0,1438401600000.0,1438405200000.0,1438408800000.0,1438412400000.0,1438416000000.0,1438419600000.0,1438423200000.0,1438426800000.0,1438430400000.0,1438434000000.0,1438437600000.0,1438441200000.0,1438444800000.0,1438448400000.0,1438452000000.0,1438455600000.0,1438459200000.0,1438462800000.0,1438466400000.0,1438470000000.0,1438473600000.0,1438477200000.0,1438480800000.0,1438484400000.0,1438488000000.0,1438491600000.0,1438495200000.0,1438498800000.0,1438502400000.0,1438506000000.0,1438509600000.0,1438513200000.0,1438516800000.0,1438520400000.0,1438524000000.0,1438527600000.0,1438531200000.0,1438534800000.0,1438538400000.0,1438542000000.0,1438545600000.0,1438549200000.0,1438552800000.0,1438556400000.0,1438560000000.0,1438563600000.0,1438567200000.0,1438570800000.0,1438574400000.0,1438578000000.0,1438581600000.0,1438585200000.0,1438588800000.0,1438592400000.0,1438596000000.0,1438599600000.0,1438603200000.0,1438606800000.0,1438610400000.0,1438614000000.0,1438617600000.0,1438621200000.0,1438624800000.0,1438628400000.0,1438632000000.0,1438635600000.0,1438639200000.0,1438642800000.0,1438646400000.0,1438650000000.0,1438653600000.0,1438657200000.0,1438660800000.0,1438664400000.0,1438668000000.0,1438671600000.0,1438675200000.0,1438678800000.0,1438682400000.0,1438686000000.0,1438689600000.0,1438693200000.0,1438696800000.0,1438700400000.0,1438704000000.0,1438707600000.0,1438711200000.0,1438714800000.0,1438718400000.0,1438722000000.0,1438725600000.0,1438729200000.0,1438732800000.0,1438736400000.0,1438740000000.0,1438743600000.0,1438747200000.0,1438750800000.0,1438754400000.0,1438758000000.0,1438761600000.0,1438765200000.0,1438768800000.0,1438772400000.0,1438776000000.0,1438779600000.0,1438783200000.0,1438786800000.0,1438790400000.0,1438794000000.0,1438797600000.0,1438801200000.0,1438804800000.0,1438808400000.0,1438812000000.0,1438815600000.0,1438819200000.0,1438822800000.0,1438826400000.0,1438830000000.0,1438833600000.0,1438837200000.0,1438840800000.0,1438844400000.0,1438848000000.0,1438851600000.0,1438855200000.0,1438858800000.0,1438862400000.0,1438866000000.0,1438869600000.0,1438873200000.0,1438876800000.0,1438880400000.0,1438884000000.0,1438887600000.0,1438891200000.0,1438894800000.0,1438898400000.0,1438902000000.0,1438905600000.0,1438909200000.0,1438912800000.0,1438916400000.0,1438920000000.0,1438923600000.0,1438927200000.0,1438930800000.0,1438934400000.0,1438938000000.0,1438941600000.0,1438945200000.0,1438948800000.0,1438952400000.0,1438956000000.0,1438959600000.0,1438963200000.0,1438966800000.0,1438970400000.0,1438974000000.0,1438977600000.0,1438981200000.0,1438984800000.0,1438988400000.0,1438992000000.0,1438995600000.0,1438999200000.0,1439002800000.0,1439006400000.0,1439010000000.0,1439013600000.0,1439017200000.0,1439020800000.0,1439024400000.0,1439028000000.0,1439031600000.0,1439035200000.0,1439038800000.0,1439042400000.0,1439046000000.0,1439049600000.0,1439053200000.0,1439056800000.0,1439060400000.0,1439064000000.0,1439067600000.0,1439071200000.0,1439074800000.0,1439078400000.0,1439082000000.0,1439085600000.0,1439089200000.0,1439092800000.0,1439096400000.0,1439100000000.0,1439103600000.0,1439107200000.0,1439110800000.0,1439114400000.0,1439118000000.0,1439121600000.0,1439125200000.0,1439128800000.0,1439132400000.0,1439136000000.0,1439139600000.0,1439143200000.0,1439146800000.0,1439150400000.0,1439154000000.0,1439157600000.0,1439161200000.0,1439164800000.0,1439168400000.0,1439172000000.0,1439175600000.0,1439179200000.0,1439182800000.0,1439186400000.0,1439190000000.0,1439193600000.0,1439197200000.0,1439200800000.0,1439204400000.0,1439208000000.0,1439211600000.0,1439215200000.0,1439218800000.0,1439222400000.0,1439226000000.0,1439229600000.0,1439233200000.0,1439236800000.0,1439240400000.0,1439244000000.0,1439247600000.0,1439251200000.0,1439254800000.0,1439258400000.0,1439262000000.0,1439265600000.0,1439269200000.0,1439272800000.0,1439276400000.0,1439280000000.0,1439283600000.0,1439287200000.0,1439290800000.0,1439294400000.0,1439298000000.0,1439301600000.0,1439305200000.0,1439308800000.0,1439312400000.0,1439316000000.0,1439319600000.0,1439323200000.0,1439326800000.0,1439330400000.0,1439334000000.0,1439337600000.0,1439341200000.0,1439344800000.0,1439348400000.0,1439352000000.0,1439355600000.0,1439359200000.0,1439362800000.0,1439366400000.0,1439370000000.0,1439373600000.0,1439377200000.0,1439380800000.0,1439384400000.0,1439388000000.0,1439391600000.0,1439395200000.0,1439398800000.0,1439402400000.0,1439406000000.0,1439409600000.0,1439413200000.0,1439416800000.0,1439420400000.0,1439424000000.0,1439427600000.0,1439431200000.0,1439434800000.0,1439438400000.0,1439442000000.0,1439445600000.0,1439449200000.0,1439452800000.0,1439456400000.0,1439460000000.0,1439463600000.0,1439467200000.0,1439470800000.0,1439474400000.0,1439478000000.0,1439481600000.0,1439485200000.0,1439488800000.0,1439492400000.0,1439496000000.0,1439499600000.0,1439503200000.0,1439506800000.0,1439510400000.0,1439514000000.0,1439517600000.0,1439521200000.0,1439524800000.0,1439528400000.0,1439532000000.0,1439535600000.0,1439539200000.0,1439542800000.0,1439546400000.0,1439550000000.0,1439553600000.0,1439557200000.0,1439560800000.0,1439564400000.0,1439568000000.0,1439571600000.0,1439575200000.0,1439578800000.0,1439582400000.0,1439586000000.0,1439589600000.0,1439593200000.0,1439596800000.0,1439600400000.0,1439604000000.0,1439607600000.0,1439611200000.0,1439614800000.0,1439618400000.0,1439622000000.0,1439625600000.0,1439629200000.0,1439632800000.0,1439636400000.0,1439640000000.0,1439643600000.0,1439647200000.0,1439650800000.0,1439654400000.0,1439658000000.0,1439661600000.0,1439665200000.0,1439668800000.0,1439672400000.0,1439676000000.0,1439679600000.0,1439683200000.0,1439686800000.0,1439690400000.0,1439694000000.0,1439697600000.0,1439701200000.0,1439704800000.0,1439708400000.0,1439712000000.0,1439715600000.0,1439719200000.0,1439722800000.0,1439726400000.0,1439730000000.0,1439733600000.0,1439737200000.0,1439740800000.0,1439744400000.0,1439748000000.0,1439751600000.0,1439755200000.0,1439758800000.0,1439762400000.0,1439766000000.0,1439769600000.0,1439773200000.0,1439776800000.0,1439780400000.0,1439784000000.0,1439787600000.0,1439791200000.0,1439794800000.0,1439798400000.0,1439802000000.0,1439805600000.0,1439809200000.0,1439812800000.0,1439816400000.0,1439820000000.0,1439823600000.0,1439827200000.0,1439830800000.0,1439834400000.0,1439838000000.0,1439841600000.0,1439845200000.0,1439848800000.0,1439852400000.0,1439856000000.0,1439859600000.0,1439863200000.0,1439866800000.0,1439870400000.0,1439874000000.0,1439877600000.0,1439881200000.0,1439884800000.0,1439888400000.0,1439892000000.0,1439895600000.0,1439899200000.0,1439902800000.0,1439906400000.0,1439910000000.0,1439913600000.0,1439917200000.0,1439920800000.0,1439924400000.0,1439928000000.0,1439931600000.0,1439935200000.0,1439938800000.0,1439942400000.0,1439946000000.0,1439949600000.0,1439953200000.0,1439956800000.0,1439960400000.0,1439964000000.0,1439967600000.0,1439971200000.0,1439974800000.0,1439978400000.0,1439982000000.0,1439985600000.0,1439989200000.0,1439992800000.0,1439996400000.0,1440000000000.0,1440003600000.0,1440007200000.0,1440010800000.0,1440014400000.0,1440018000000.0,1440021600000.0,1440025200000.0,1440028800000.0,1440032400000.0,1440036000000.0,1440039600000.0,1440043200000.0,1440046800000.0,1440050400000.0,1440054000000.0,1440057600000.0,1440061200000.0,1440064800000.0,1440068400000.0,1440072000000.0,1440075600000.0,1440079200000.0,1440082800000.0,1440086400000.0,1440090000000.0,1440093600000.0,1440097200000.0,1440100800000.0,1440104400000.0,1440108000000.0,1440111600000.0,1440115200000.0,1440118800000.0,1440122400000.0,1440126000000.0,1440129600000.0,1440133200000.0,1440136800000.0,1440140400000.0,1440144000000.0,1440147600000.0,1440151200000.0,1440154800000.0,1440158400000.0,1440162000000.0,1440165600000.0,1440169200000.0,1440172800000.0,1440176400000.0,1440180000000.0,1440183600000.0,1440187200000.0,1440190800000.0,1440194400000.0,1440198000000.0,1440201600000.0,1440205200000.0,1440208800000.0,1440212400000.0,1440216000000.0,1440219600000.0,1440223200000.0,1440226800000.0,1440230400000.0,1440234000000.0,1440237600000.0,1440241200000.0,1440244800000.0,1440248400000.0,1440252000000.0,1440255600000.0,1440259200000.0,1440262800000.0,1440266400000.0,1440270000000.0,1440273600000.0,1440277200000.0,1440280800000.0,1440284400000.0,1440288000000.0,1440291600000.0,1440295200000.0,1440298800000.0,1440302400000.0,1440306000000.0,1440309600000.0,1440313200000.0,1440316800000.0,1440320400000.0,1440324000000.0,1440327600000.0,1440331200000.0,1440334800000.0,1440338400000.0,1440342000000.0,1440345600000.0,1440349200000.0,1440352800000.0,1440356400000.0,1440360000000.0,1440363600000.0,1440367200000.0,1440370800000.0,1440374400000.0,1440378000000.0,1440381600000.0,1440385200000.0,1440388800000.0,1440392400000.0,1440396000000.0,1440399600000.0,1440403200000.0,1440406800000.0,1440410400000.0,1440414000000.0,1440417600000.0,1440421200000.0,1440424800000.0,1440428400000.0,1440432000000.0,1440435600000.0,1440439200000.0,1440442800000.0,1440446400000.0,1440450000000.0,1440453600000.0,1440457200000.0,1440460800000.0,1440464400000.0,1440468000000.0,1440471600000.0,1440475200000.0,1440478800000.0,1440482400000.0,1440486000000.0,1440489600000.0,1440493200000.0,1440496800000.0,1440500400000.0,1440504000000.0,1440507600000.0,1440511200000.0,1440514800000.0,1440518400000.0,1440522000000.0,1440525600000.0,1440529200000.0,1440532800000.0,1440536400000.0,1440540000000.0,1440543600000.0,1440547200000.0,1440550800000.0,1440554400000.0,1440558000000.0,1440561600000.0,1440565200000.0,1440568800000.0,1440572400000.0,1440576000000.0,1440579600000.0,1440583200000.0,1440586800000.0,1440590400000.0,1440594000000.0,1440597600000.0,1440601200000.0,1440604800000.0,1440608400000.0,1440612000000.0,1440615600000.0,1440619200000.0,1440622800000.0,1440626400000.0,1440630000000.0,1440633600000.0,1440637200000.0,1440640800000.0,1440644400000.0,1440648000000.0,1440651600000.0,1440655200000.0,1440658800000.0,1440662400000.0,1440666000000.0,1440669600000.0,1440673200000.0,1440676800000.0,1440680400000.0,1440684000000.0,1440687600000.0,1440691200000.0,1440694800000.0,1440698400000.0,1440702000000.0,1440705600000.0,1440709200000.0,1440712800000.0,1440716400000.0,1440720000000.0,1440723600000.0,1440727200000.0,1440730800000.0,1440734400000.0,1440738000000.0,1440741600000.0,1440745200000.0,1440748800000.0,1440752400000.0,1440756000000.0,1440759600000.0,1440763200000.0,1440766800000.0,1440770400000.0,1440774000000.0,1440777600000.0,1440781200000.0,1440784800000.0,1440788400000.0,1440792000000.0,1440795600000.0,1440799200000.0,1440802800000.0,1440806400000.0,1440810000000.0,1440813600000.0,1440817200000.0,1440820800000.0,1440824400000.0,1440828000000.0,1440831600000.0,1440835200000.0,1440838800000.0,1440842400000.0,1440846000000.0,1440849600000.0,1440853200000.0,1440856800000.0,1440860400000.0,1440864000000.0,1440867600000.0,1440871200000.0,1440874800000.0,1440878400000.0,1440882000000.0,1440885600000.0,1440889200000.0,1440892800000.0,1440896400000.0,1440900000000.0,1440903600000.0,1440907200000.0,1440910800000.0,1440914400000.0,1440918000000.0,1440921600000.0,1440925200000.0,1440928800000.0,1440932400000.0,1440936000000.0,1440939600000.0,1440943200000.0,1440946800000.0,1440950400000.0,1440954000000.0,1440957600000.0,1440961200000.0,1440964800000.0,1440968400000.0,1440972000000.0,1440975600000.0,1440979200000.0,1440982800000.0,1440986400000.0,1440990000000.0,1440993600000.0,1440997200000.0,1441000800000.0,1441004400000.0,1441008000000.0,1441011600000.0,1441015200000.0,1441018800000.0,1441022400000.0,1441026000000.0,1441029600000.0,1441033200000.0,1441036800000.0,1441040400000.0,1441044000000.0],\"y\":{\"__ndarray__\":\"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\",\"dtype\":\"float64\",\"shape\":[2420]}}},\"id\":\"7939255b-de50-4fcc-88d4-a29bd94072f8\",\"type\":\"ColumnDataSource\"},{\"attributes\":{\"line_color\":{\"value\":\"gray\"},\"line_width\":{\"value\":2},\"x\":{\"field\":\"x\"},\"y\":{\"field\":\"y\"}},\"id\":\"be0b9616-226e-4e98-b794-7376a67b973e\",\"type\":\"Line\"},{\"attributes\":{\"num_minor_ticks\":5},\"id\":\"509823f6-9f5b-4cd4-8102-a73df1600fcb\",\"type\":\"DatetimeTicker\"},{\"attributes\":{\"dimension\":1,\"plot\":{\"id\":\"a2e84121-fce8-4c81-8137-be7b8fc4fb27\",\"subtype\":\"Figure\",\"type\":\"Plot\"},\"ticker\":{\"id\":\"ae4adfaa-d530-4683-9d8d-d35982caaca4\",\"type\":\"BasicTicker\"}},\"id\":\"826999c8-6fdc-4e26-add9-c19ff61fe28b\",\"type\":\"Grid\"},{\"attributes\":{\"callback\":null},\"id\":\"ad26dd61-4951-4fa5-b673-e36a491ada02\",\"type\":\"DataRange1d\"},{\"attributes\":{\"days\":[1,2,3,4,5,6,7,8,9,10,11,12,13,14,15,16,17,18,19,20,21,22,23,24,25,26,27,28,29,30,31]},\"id\":\"f8371885-a27b-48f6-b750-3441499cf362\",\"type\":\"DaysTicker\"},{\"attributes\":{\"line_color\":{\"value\":\"red\"},\"line_width\":{\"value\":2},\"x\":{\"field\":\"x\"},\"y\":{\"field\":\"y\"}},\"id\":\"a5ab2dd7-794e-429f-ba9b-a30c7e6ba30c\",\"type\":\"Line\"},{\"attributes\":{\"overlay\":{\"id\":\"7c28bfa1-7c2b-40e5-aab7-eccecdaadd2f\",\"type\":\"BoxAnnotation\"},\"plot\":{\"id\":\"a2e84121-fce8-4c81-8137-be7b8fc4fb27\",\"subtype\":\"Figure\",\"type\":\"Plot\"}},\"id\":\"f797e603-e899-486c-9134-5857234a67ab\",\"type\":\"BoxZoomTool\"},{\"attributes\":{\"callback\":null},\"id\":\"7babfa8f-fb5d-48cb-b593-1f8f89d8d192\",\"type\":\"DataRange1d\"},{\"attributes\":{\"days\":[1,4,7,10,13,16,19,22,25,28]},\"id\":\"1c15411b-d919-4a53-b5a5-f5c70e3e05e9\",\"type\":\"DaysTicker\"},{\"attributes\":{\"plot\":null,\"text\":\"cityBikes/Prediction of bike supply @ San Francisco Caltrain (Townsend at 4th)\"},\"id\":\"9736a2f3-2a62-4ca5-a819-63a2146c177c\",\"type\":\"Title\"},{\"attributes\":{\"line_alpha\":{\"value\":0.1},\"line_color\":{\"value\":\"#1f77b4\"},\"line_width\":{\"value\":2},\"x\":{\"field\":\"x\"},\"y\":{\"field\":\"y\"}},\"id\":\"e4568052-bb9d-4aca-aadf-f7f03b6deac7\",\"type\":\"Line\"},{\"attributes\":{\"days\":[1,15]},\"id\":\"f84f6612-d6b1-4d35-9e7b-9decb193e319\",\"type\":\"DaysTicker\"},{\"attributes\":{},\"id\":\"ca1b3f9f-b449-4599-a479-cc404a8401d5\",\"type\":\"ToolEvents\"},{\"attributes\":{\"months\":[0,1,2,3,4,5,6,7,8,9,10,11]},\"id\":\"6f1d03e8-74df-4cc0-bc0e-d4719c7ba2e6\",\"type\":\"MonthsTicker\"},{\"attributes\":{\"plot\":{\"id\":\"a2e84121-fce8-4c81-8137-be7b8fc4fb27\",\"subtype\":\"Figure\",\"type\":\"Plot\"}},\"id\":\"33b2ef75-67cb-48ae-9676-b1107f63d45a\",\"type\":\"HelpTool\"},{\"attributes\":{\"months\":[0,2,4,6,8,10]},\"id\":\"8a72ccf7-e3a3-40fd-aacf-28235ce4f998\",\"type\":\"MonthsTicker\"},{\"attributes\":{\"base\":60,\"mantissas\":[1,2,5,10,15,20,30],\"max_interval\":1800000.0,\"min_interval\":1000.0,\"num_minor_ticks\":0},\"id\":\"0f330564-7919-4fb8-b72e-553ae727482e\",\"type\":\"AdaptiveTicker\"},{\"attributes\":{\"days\":[\"%a\\n%d %b\"]},\"id\":\"5c62c13f-f34b-4d16-babc-6cf34f44696c\",\"type\":\"DatetimeTickFormatter\"},{\"attributes\":{\"plot\":{\"id\":\"a2e84121-fce8-4c81-8137-be7b8fc4fb27\",\"subtype\":\"Figure\",\"type\":\"Plot\"}},\"id\":\"725bfcb6-f8f6-4839-a349-5fdab794d83d\",\"type\":\"SaveTool\"},{\"attributes\":{\"label\":{\"value\":\"Actual\"},\"renderers\":[{\"id\":\"d414532b-b71b-421a-bd7c-99de014a281f\",\"type\":\"GlyphRenderer\"}]},\"id\":\"214ddb6c-ca33-4aaa-b45f-bce9b903aee2\",\"type\":\"LegendItem\"},{\"attributes\":{\"months\":[0,4,8]},\"id\":\"f5c60e5b-bdcb-401e-8da8-dc9d407fd57a\",\"type\":\"MonthsTicker\"},{\"attributes\":{\"months\":[0,6]},\"id\":\"83b4413b-07e7-4e2b-9044-2cdd3a76b000\",\"type\":\"MonthsTicker\"},{\"attributes\":{\"axis_label\":\"Bikes\",\"formatter\":{\"id\":\"53524fb7-94b3-4e3d-abcb-1338c80ed45b\",\"type\":\"BasicTickFormatter\"},\"plot\":{\"id\":\"a2e84121-fce8-4c81-8137-be7b8fc4fb27\",\"subtype\":\"Figure\",\"type\":\"Plot\"},\"ticker\":{\"id\":\"ae4adfaa-d530-4683-9d8d-d35982caaca4\",\"type\":\"BasicTicker\"}},\"id\":\"39c32787-317c-4efc-b78d-351c6f39287d\",\"type\":\"LinearAxis\"},{\"attributes\":{\"line_alpha\":{\"value\":0.1},\"line_color\":{\"value\":\"#1f77b4\"},\"line_width\":{\"value\":2},\"x\":{\"field\":\"x\"},\"y\":{\"field\":\"y\"}},\"id\":\"70211cb6-7aa4-4e60-aab1-90b5d47b3ca1\",\"type\":\"Line\"},{\"attributes\":{\"background_fill_color\":{\"value\":\"#eeeeee\"},\"below\":[{\"id\":\"6255c415-0746-44ac-8964-6e28b80c7561\",\"type\":\"DatetimeAxis\"}],\"left\":[{\"id\":\"39c32787-317c-4efc-b78d-351c6f39287d\",\"type\":\"LinearAxis\"}],\"plot_width\":800,\"renderers\":[{\"id\":\"6255c415-0746-44ac-8964-6e28b80c7561\",\"type\":\"DatetimeAxis\"},{\"id\":\"45a09e63-4aa6-4320-947d-dfc89de26d68\",\"type\":\"Grid\"},{\"id\":\"39c32787-317c-4efc-b78d-351c6f39287d\",\"type\":\"LinearAxis\"},{\"id\":\"826999c8-6fdc-4e26-add9-c19ff61fe28b\",\"type\":\"Grid\"},{\"id\":\"7c28bfa1-7c2b-40e5-aab7-eccecdaadd2f\",\"type\":\"BoxAnnotation\"},{\"id\":\"10ba8ff8-c5bd-4110-b87b-a3d2acb8e4ee\",\"type\":\"Legend\"},{\"id\":\"f1cabc14-2110-428c-8424-587c90ee5242\",\"type\":\"GlyphRenderer\"},{\"id\":\"d414532b-b71b-421a-bd7c-99de014a281f\",\"type\":\"GlyphRenderer\"}],\"title\":{\"id\":\"9736a2f3-2a62-4ca5-a819-63a2146c177c\",\"type\":\"Title\"},\"tool_events\":{\"id\":\"ca1b3f9f-b449-4599-a479-cc404a8401d5\",\"type\":\"ToolEvents\"},\"toolbar\":{\"id\":\"97c617a6-de03-42c8-b4ec-79bf533ac9fe\",\"type\":\"Toolbar\"},\"x_range\":{\"id\":\"ad26dd61-4951-4fa5-b673-e36a491ada02\",\"type\":\"DataRange1d\"},\"y_range\":{\"id\":\"7babfa8f-fb5d-48cb-b593-1f8f89d8d192\",\"type\":\"DataRange1d\"}},\"id\":\"a2e84121-fce8-4c81-8137-be7b8fc4fb27\",\"subtype\":\"Figure\",\"type\":\"Plot\"},{\"attributes\":{\"base\":24,\"mantissas\":[1,2,4,6,8,12],\"max_interval\":43200000.0,\"min_interval\":3600000.0,\"num_minor_ticks\":0},\"id\":\"c90fda6f-b482-46ed-a37c-2abd7d92abee\",\"type\":\"AdaptiveTicker\"},{\"attributes\":{\"days\":[1,8,15,22]},\"id\":\"f6fe2d9a-9afd-4cb4-873c-545587e0d381\",\"type\":\"DaysTicker\"},{\"attributes\":{},\"id\":\"53524fb7-94b3-4e3d-abcb-1338c80ed45b\",\"type\":\"BasicTickFormatter\"},{\"attributes\":{\"axis_label\":\"Time\",\"formatter\":{\"id\":\"5c62c13f-f34b-4d16-babc-6cf34f44696c\",\"type\":\"DatetimeTickFormatter\"},\"plot\":{\"id\":\"a2e84121-fce8-4c81-8137-be7b8fc4fb27\",\"subtype\":\"Figure\",\"type\":\"Plot\"},\"ticker\":{\"id\":\"509823f6-9f5b-4cd4-8102-a73df1600fcb\",\"type\":\"DatetimeTicker\"}},\"id\":\"6255c415-0746-44ac-8964-6e28b80c7561\",\"type\":\"DatetimeAxis\"},{\"attributes\":{\"plot\":{\"id\":\"a2e84121-fce8-4c81-8137-be7b8fc4fb27\",\"subtype\":\"Figure\",\"type\":\"Plot\"}},\"id\":\"5779bd1c-e467-49af-a8ed-1f6792a06e09\",\"type\":\"WheelZoomTool\"},{\"attributes\":{\"active_drag\":\"auto\",\"active_scroll\":\"auto\",\"active_tap\":\"auto\",\"tools\":[{\"id\":\"fc5c293b-4417-4640-b9bf-08cf81bf54a0\",\"type\":\"PanTool\"},{\"id\":\"5779bd1c-e467-49af-a8ed-1f6792a06e09\",\"type\":\"WheelZoomTool\"},{\"id\":\"f797e603-e899-486c-9134-5857234a67ab\",\"type\":\"BoxZoomTool\"},{\"id\":\"725bfcb6-f8f6-4839-a349-5fdab794d83d\",\"type\":\"SaveTool\"},{\"id\":\"f4f10da1-516a-455d-9c74-87e93e0f72db\",\"type\":\"ResetTool\"},{\"id\":\"33b2ef75-67cb-48ae-9676-b1107f63d45a\",\"type\":\"HelpTool\"}]},\"id\":\"97c617a6-de03-42c8-b4ec-79bf533ac9fe\",\"type\":\"Toolbar\"},{\"attributes\":{\"label\":{\"value\":\"Linear Regression\"},\"renderers\":[{\"id\":\"f1cabc14-2110-428c-8424-587c90ee5242\",\"type\":\"GlyphRenderer\"}]},\"id\":\"a0395fc6-00a8-4487-bb1c-4aea03159ac3\",\"type\":\"LegendItem\"},{\"attributes\":{\"data_source\":{\"id\":\"7939255b-de50-4fcc-88d4-a29bd94072f8\",\"type\":\"ColumnDataSource\"},\"glyph\":{\"id\":\"a5ab2dd7-794e-429f-ba9b-a30c7e6ba30c\",\"type\":\"Line\"},\"hover_glyph\":null,\"muted_glyph\":null,\"nonselection_glyph\":{\"id\":\"70211cb6-7aa4-4e60-aab1-90b5d47b3ca1\",\"type\":\"Line\"},\"selection_glyph\":null},\"id\":\"f1cabc14-2110-428c-8424-587c90ee5242\",\"type\":\"GlyphRenderer\"},{\"attributes\":{\"plot\":{\"id\":\"a2e84121-fce8-4c81-8137-be7b8fc4fb27\",\"subtype\":\"Figure\",\"type\":\"Plot\"}},\"id\":\"f4f10da1-516a-455d-9c74-87e93e0f72db\",\"type\":\"ResetTool\"},{\"attributes\":{},\"id\":\"790f2188-54ba-449f-9562-6b650f1b67dd\",\"type\":\"YearsTicker\"},{\"attributes\":{\"plot\":{\"id\":\"a2e84121-fce8-4c81-8137-be7b8fc4fb27\",\"subtype\":\"Figure\",\"type\":\"Plot\"}},\"id\":\"fc5c293b-4417-4640-b9bf-08cf81bf54a0\",\"type\":\"PanTool\"},{\"attributes\":{\"items\":[{\"id\":\"a0395fc6-00a8-4487-bb1c-4aea03159ac3\",\"type\":\"LegendItem\"},{\"id\":\"214ddb6c-ca33-4aaa-b45f-bce9b903aee2\",\"type\":\"LegendItem\"}],\"plot\":{\"id\":\"a2e84121-fce8-4c81-8137-be7b8fc4fb27\",\"subtype\":\"Figure\",\"type\":\"Plot\"}},\"id\":\"10ba8ff8-c5bd-4110-b87b-a3d2acb8e4ee\",\"type\":\"Legend\"},{\"attributes\":{\"max_interval\":500.0,\"num_minor_ticks\":0},\"id\":\"4b4ac512-0915-42a0-ab46-ec273ea7c129\",\"type\":\"AdaptiveTicker\"},{\"attributes\":{\"bottom_units\":\"screen\",\"fill_alpha\":{\"value\":0.5},\"fill_color\":{\"value\":\"lightgrey\"},\"left_units\":\"screen\",\"level\":\"overlay\",\"line_alpha\":{\"value\":1.0},\"line_color\":{\"value\":\"black\"},\"line_dash\":[4,4],\"line_width\":{\"value\":2},\"plot\":null,\"render_mode\":\"css\",\"right_units\":\"screen\",\"top_units\":\"screen\"},\"id\":\"7c28bfa1-7c2b-40e5-aab7-eccecdaadd2f\",\"type\":\"BoxAnnotation\"},{\"attributes\":{},\"id\":\"ae4adfaa-d530-4683-9d8d-d35982caaca4\",\"type\":\"BasicTicker\"}],\"root_ids\":[\"a2e84121-fce8-4c81-8137-be7b8fc4fb27\"]},\"title\":\"Bokeh Application\",\"version\":\"0.12.5\"}};\n",
       "            var render_items = [{\"docid\":\"1a04e887-f56d-4698-8cb0-4f64291f79a9\",\"elementid\":\"34c70bee-d200-4b72-93ce-a0f7e1f2ddda\",\"modelid\":\"a2e84121-fce8-4c81-8137-be7b8fc4fb27\"}];\n",
       "            \n",
       "            Bokeh.embed.embed_items(docs_json, render_items);\n",
       "          };\n",
       "          if (document.readyState != \"loading\") fn();\n",
       "          else document.addEventListener(\"DOMContentLoaded\", fn);\n",
       "        })();\n",
       "      },\n",
       "      function(Bokeh) {\n",
       "      }\n",
       "    ];\n",
       "  \n",
       "    function run_inline_js() {\n",
       "      \n",
       "      if ((window.Bokeh !== undefined) || (force === true)) {\n",
       "        for (var i = 0; i < inline_js.length; i++) {\n",
       "          inline_js[i](window.Bokeh);\n",
       "        }if (force === true) {\n",
       "          display_loaded();\n",
       "        }} else if (Date.now() < window._bokeh_timeout) {\n",
       "        setTimeout(run_inline_js, 100);\n",
       "      } else if (!window._bokeh_failed_load) {\n",
       "        console.log(\"Bokeh: BokehJS failed to load within specified timeout.\");\n",
       "        window._bokeh_failed_load = true;\n",
       "      } else if (force !== true) {\n",
       "        var cell = $(document.getElementById(\"34c70bee-d200-4b72-93ce-a0f7e1f2ddda\")).parents('.cell').data().cell;\n",
       "        cell.output_area.append_execute_result(NB_LOAD_WARNING)\n",
       "      }\n",
       "  \n",
       "    }\n",
       "  \n",
       "    if (window._bokeh_is_loading === 0) {\n",
       "      console.log(\"Bokeh: BokehJS loaded, going straight to plotting\");\n",
       "      run_inline_js();\n",
       "    } else {\n",
       "      load_libs(js_urls, function() {\n",
       "        console.log(\"Bokeh: BokehJS plotting callback run at\", now());\n",
       "        run_inline_js();\n",
       "      });\n",
       "    }\n",
       "  }(this));\n",
       "</script>"
      ]
     },
     "metadata": {},
     "output_type": "display_data"
    }
   ],
   "source": [
    "plot_prediction(results_supply,\n",
    "                title='cityBikes/Prediction of bike supply @ {stationName}'.format(stationName=stationName),\n",
    "                weatherInfos=weatherInfos)"
   ]
  },
  {
   "cell_type": "code",
   "execution_count": null,
   "metadata": {
    "collapsed": true
   },
   "outputs": [],
   "source": []
  }
 ],
 "metadata": {
  "kernelspec": {
   "display_name": "Python 3",
   "language": "python",
   "name": "python3"
  },
  "language_info": {
   "codemirror_mode": {
    "name": "ipython",
    "version": 3
   },
   "file_extension": ".py",
   "mimetype": "text/x-python",
   "name": "python",
   "nbconvert_exporter": "python",
   "pygments_lexer": "ipython3",
   "version": "3.6.1"
  }
 },
 "nbformat": 4,
 "nbformat_minor": 2
}
