{
 "cells": [
  {
   "cell_type": "markdown",
   "metadata": {},
   "source": [
    "# Data Analysis of City Bikes in the Bay Area\n",
    "\n",
    "* http://www.bayareabikeshare.com\n",
    "* https://www.fordgobike.com/system-data"
   ]
  },
  {
   "cell_type": "code",
   "execution_count": 1,
   "metadata": {},
   "outputs": [],
   "source": [
    "import os\n",
    "import pandas as pd\n",
    "import numpy as np\n",
    "from datetime import datetime, date\n",
    "import pytz\n",
    "from pytz import timezone\n",
    "import dill as pickle\n",
    "\n",
    "\n",
    "\n",
    "## homemade\n",
    "import fetchData as fd\n",
    "import exploratoryAnalysis as expAn\n",
    "import distanceMatrix"
   ]
  },
  {
   "cell_type": "code",
   "execution_count": 2,
   "metadata": {},
   "outputs": [
    {
     "data": {
      "text/plain": [
       "'3.6.1 |Anaconda 4.4.0 (64-bit)| (default, May 11 2017, 13:09:58) \\n[GCC 4.4.7 20120313 (Red Hat 4.4.7-1)]'"
      ]
     },
     "execution_count": 2,
     "metadata": {},
     "output_type": "execute_result"
    }
   ],
   "source": [
    "import sys\n",
    "sys.version"
   ]
  },
  {
   "cell_type": "code",
   "execution_count": 3,
   "metadata": {
    "collapsed": true
   },
   "outputs": [],
   "source": [
    "stationName = 'San Francisco Caltrain (Townsend at 4th)'  \n",
    "#stationName = 'Market at Sansome' \n",
    "\n",
    "freq_hour = 1  ## sampling frequency to cumulate the nb. of bike trips\n",
    " \n",
    "paths = [r'../data/babs_open_data_year_2']"
   ]
  },
  {
   "cell_type": "markdown",
   "metadata": {},
   "source": [
    "## Get, Read and Clean raw data"
   ]
  },
  {
   "cell_type": "code",
   "execution_count": 9,
   "metadata": {
    "collapsed": true
   },
   "outputs": [],
   "source": [
    "!mkdir -p ../data\n",
    "directory = \"../data/\"\n",
    "\n",
    "links = [\"https://s3.amazonaws.com/babs-open-data/babs_open_data_year_1.zip\",\n",
    "         \"https://s3.amazonaws.com/babs-open-data/babs_open_data_year_2.zip\",\n",
    "         \"https://s3.amazonaws.com/babs-open-data/babs_open_data_year_3.zip\"]\n",
    "for url in links:\n",
    "    (filename, path_to_file) = fd.download_file_by_url(url, directory)\n",
    "    fd.unzip_file(filename, path_to_file)"
   ]
  },
  {
   "cell_type": "code",
   "execution_count": 10,
   "metadata": {},
   "outputs": [
    {
     "name": "stdout",
     "output_type": "stream",
     "text": [
      "201508_station_data.csv  201508_trip_data.csv\t  babs_open_data_year_2.zip\r\n",
      "201508_status_data.csv\t 201508_weather_data.csv  README.txt\r\n"
     ]
    }
   ],
   "source": [
    "!ls ../data/babs_open_data_year_2"
   ]
  },
  {
   "cell_type": "code",
   "execution_count": 11,
   "metadata": {},
   "outputs": [
    {
     "name": "stdout",
     "output_type": "stream",
     "text": [
      "2015-09-01 08:26:00+02:00\n",
      "Now in Oslo (Norway):  2017-10-05 11:20:24.244094+02:00\n",
      "Now in San Francisco:  2017-10-05 02:20:24.244266-07:00\n"
     ]
    }
   ],
   "source": [
    "# Making sure we get the time from the right timezone \n",
    "from datetime import datetime, timedelta\n",
    "import pytz\n",
    "#print pytz.all_timezones\n",
    "parse = lambda x: pytz.timezone('US/Pacific').localize(datetime.strptime(x,'%m/%d/%Y %H:%M')) #.astimezone(pytz.timezone('US/Pacific'))\n",
    "print(parse(\"8/31/2015 23:26\").astimezone(pytz.timezone('Europe/Paris')))\n",
    "\n",
    "print(\"Now in Oslo (Norway): \", pytz.timezone('Europe/Oslo').localize(datetime.now()))\n",
    "print(\"Now in San Francisco: \", pytz.timezone('Europe/Oslo').localize(datetime.now()).astimezone(pytz.timezone('America/Los_Angeles')))"
   ]
  },
  {
   "cell_type": "markdown",
   "metadata": {},
   "source": [
    "## Trips data"
   ]
  },
  {
   "cell_type": "code",
   "execution_count": 4,
   "metadata": {
    "collapsed": true
   },
   "outputs": [],
   "source": [
    "def myFunc(x,y,z):\n",
    "    return x+y+z\n",
    "\n",
    "test = expAn.read_or_store_object('test', './pkl', myFunc, 4,3,2)"
   ]
  },
  {
   "cell_type": "code",
   "execution_count": 6,
   "metadata": {},
   "outputs": [
    {
     "data": {
      "text/plain": [
       "9"
      ]
     },
     "execution_count": 6,
     "metadata": {},
     "output_type": "execute_result"
    }
   ],
   "source": [
    "test"
   ]
  },
  {
   "cell_type": "code",
   "execution_count": 5,
   "metadata": {},
   "outputs": [],
   "source": [
    "## BikeTrips data (takes a few minutes!!)\n",
    "dataTrips = expAn.read_or_store_object('dataTrips', './pkl', expAn.read_dataTrips_from_csv_files, paths=paths, asUTC=False)\n"
   ]
  },
  {
   "cell_type": "code",
   "execution_count": 20,
   "metadata": {},
   "outputs": [
    {
     "ename": "NameError",
     "evalue": "name 'file' is not defined",
     "output_type": "error",
     "traceback": [
      "\u001b[0;31m---------------------------------------------------------------------------\u001b[0m",
      "\u001b[0;31mNameError\u001b[0m                                 Traceback (most recent call last)",
      "\u001b[0;32m<ipython-input-20-8984416c0bc5>\u001b[0m in \u001b[0;36m<module>\u001b[0;34m()\u001b[0m\n\u001b[1;32m      7\u001b[0m \u001b[0;32melse\u001b[0m\u001b[0;34m:\u001b[0m\u001b[0;34m\u001b[0m\u001b[0m\n\u001b[1;32m      8\u001b[0m     \u001b[0mdataTrips\u001b[0m \u001b[0;34m=\u001b[0m \u001b[0mexpAn\u001b[0m\u001b[0;34m.\u001b[0m\u001b[0mread_dataTrips_from_csv_files\u001b[0m\u001b[0;34m(\u001b[0m\u001b[0mpaths\u001b[0m\u001b[0;34m=\u001b[0m\u001b[0mpaths\u001b[0m\u001b[0;34m,\u001b[0m \u001b[0masUTC\u001b[0m\u001b[0;34m=\u001b[0m\u001b[0;32mFalse\u001b[0m\u001b[0;34m)\u001b[0m\u001b[0;34m\u001b[0m\u001b[0m\n\u001b[0;32m----> 9\u001b[0;31m     \u001b[0mpickle\u001b[0m\u001b[0;34m.\u001b[0m\u001b[0mdump\u001b[0m\u001b[0;34m(\u001b[0m\u001b[0mdataTrips\u001b[0m\u001b[0;34m,\u001b[0m \u001b[0mfile\u001b[0m\u001b[0;34m)\u001b[0m\u001b[0;34m\u001b[0m\u001b[0m\n\u001b[0m\u001b[1;32m     10\u001b[0m \u001b[0;34m\u001b[0m\u001b[0m\n\u001b[1;32m     11\u001b[0m \u001b[0;31m## SUPPLY & DEMAND: Count how many bikes are arriving/leaving per x hour at a given station\u001b[0m\u001b[0;34m\u001b[0m\u001b[0;34m\u001b[0m\u001b[0m\n",
      "\u001b[0;31mNameError\u001b[0m: name 'file' is not defined"
     ]
    }
   ],
   "source": [
    "## SUPPLY & DEMAND: Count how many bikes are arriving/leaving per x hour at a given station\n",
    "cumulEndTrips   = expAn.count_bikes_arriving(dataTrips, stationName, freq_hour)\n",
    "cumulStartTrips = expAn.count_bikes_leaving(dataTrips, stationName, freq_hour)"
   ]
  },
  {
   "cell_type": "code",
   "execution_count": 8,
   "metadata": {},
   "outputs": [
    {
     "data": {
      "text/plain": [
       "Trip ID                     int64\n",
       "Duration                    int64\n",
       "Start Date         datetime64[ns]\n",
       "Start Station              object\n",
       "Start Terminal              int64\n",
       "End Date           datetime64[ns]\n",
       "End Station                object\n",
       "End Terminal                int64\n",
       "Bike #                      int64\n",
       "Subscriber Type            object\n",
       "Zip Code                   object\n",
       "dtype: object"
      ]
     },
     "execution_count": 8,
     "metadata": {},
     "output_type": "execute_result"
    }
   ],
   "source": [
    "dataTrips.dtypes"
   ]
  },
  {
   "cell_type": "code",
   "execution_count": 9,
   "metadata": {},
   "outputs": [
    {
     "data": {
      "text/html": [
       "<div>\n",
       "<style>\n",
       "    .dataframe thead tr:only-child th {\n",
       "        text-align: right;\n",
       "    }\n",
       "\n",
       "    .dataframe thead th {\n",
       "        text-align: left;\n",
       "    }\n",
       "\n",
       "    .dataframe tbody tr th {\n",
       "        vertical-align: top;\n",
       "    }\n",
       "</style>\n",
       "<table border=\"1\" class=\"dataframe\">\n",
       "  <thead>\n",
       "    <tr style=\"text-align: right;\">\n",
       "      <th></th>\n",
       "      <th>Trip ID</th>\n",
       "      <th>Duration</th>\n",
       "      <th>Start Date</th>\n",
       "      <th>Start Station</th>\n",
       "      <th>Start Terminal</th>\n",
       "      <th>End Date</th>\n",
       "      <th>End Station</th>\n",
       "      <th>End Terminal</th>\n",
       "      <th>Bike #</th>\n",
       "      <th>Subscriber Type</th>\n",
       "      <th>Zip Code</th>\n",
       "    </tr>\n",
       "  </thead>\n",
       "  <tbody>\n",
       "    <tr>\n",
       "      <th>0</th>\n",
       "      <td>913460</td>\n",
       "      <td>765</td>\n",
       "      <td>2015-08-31 23:26:00</td>\n",
       "      <td>Harry Bridges Plaza (Ferry Building)</td>\n",
       "      <td>50</td>\n",
       "      <td>2015-08-31 23:39:00</td>\n",
       "      <td>San Francisco Caltrain (Townsend at 4th)</td>\n",
       "      <td>70</td>\n",
       "      <td>288</td>\n",
       "      <td>Subscriber</td>\n",
       "      <td>2139</td>\n",
       "    </tr>\n",
       "    <tr>\n",
       "      <th>1</th>\n",
       "      <td>913459</td>\n",
       "      <td>1036</td>\n",
       "      <td>2015-08-31 23:11:00</td>\n",
       "      <td>San Antonio Shopping Center</td>\n",
       "      <td>31</td>\n",
       "      <td>2015-08-31 23:28:00</td>\n",
       "      <td>Mountain View City Hall</td>\n",
       "      <td>27</td>\n",
       "      <td>35</td>\n",
       "      <td>Subscriber</td>\n",
       "      <td>95032</td>\n",
       "    </tr>\n",
       "    <tr>\n",
       "      <th>2</th>\n",
       "      <td>913455</td>\n",
       "      <td>307</td>\n",
       "      <td>2015-08-31 23:13:00</td>\n",
       "      <td>Post at Kearny</td>\n",
       "      <td>47</td>\n",
       "      <td>2015-08-31 23:18:00</td>\n",
       "      <td>2nd at South Park</td>\n",
       "      <td>64</td>\n",
       "      <td>468</td>\n",
       "      <td>Subscriber</td>\n",
       "      <td>94107</td>\n",
       "    </tr>\n",
       "    <tr>\n",
       "      <th>3</th>\n",
       "      <td>913454</td>\n",
       "      <td>409</td>\n",
       "      <td>2015-08-31 23:10:00</td>\n",
       "      <td>San Jose City Hall</td>\n",
       "      <td>10</td>\n",
       "      <td>2015-08-31 23:17:00</td>\n",
       "      <td>San Salvador at 1st</td>\n",
       "      <td>8</td>\n",
       "      <td>68</td>\n",
       "      <td>Subscriber</td>\n",
       "      <td>95113</td>\n",
       "    </tr>\n",
       "    <tr>\n",
       "      <th>4</th>\n",
       "      <td>913453</td>\n",
       "      <td>789</td>\n",
       "      <td>2015-08-31 23:09:00</td>\n",
       "      <td>Embarcadero at Folsom</td>\n",
       "      <td>51</td>\n",
       "      <td>2015-08-31 23:22:00</td>\n",
       "      <td>Embarcadero at Sansome</td>\n",
       "      <td>60</td>\n",
       "      <td>487</td>\n",
       "      <td>Customer</td>\n",
       "      <td>9069</td>\n",
       "    </tr>\n",
       "  </tbody>\n",
       "</table>\n",
       "</div>"
      ],
      "text/plain": [
       "   Trip ID  Duration          Start Date  \\\n",
       "0   913460       765 2015-08-31 23:26:00   \n",
       "1   913459      1036 2015-08-31 23:11:00   \n",
       "2   913455       307 2015-08-31 23:13:00   \n",
       "3   913454       409 2015-08-31 23:10:00   \n",
       "4   913453       789 2015-08-31 23:09:00   \n",
       "\n",
       "                          Start Station  Start Terminal            End Date  \\\n",
       "0  Harry Bridges Plaza (Ferry Building)              50 2015-08-31 23:39:00   \n",
       "1           San Antonio Shopping Center              31 2015-08-31 23:28:00   \n",
       "2                        Post at Kearny              47 2015-08-31 23:18:00   \n",
       "3                    San Jose City Hall              10 2015-08-31 23:17:00   \n",
       "4                 Embarcadero at Folsom              51 2015-08-31 23:22:00   \n",
       "\n",
       "                                End Station  End Terminal  Bike #  \\\n",
       "0  San Francisco Caltrain (Townsend at 4th)            70     288   \n",
       "1                   Mountain View City Hall            27      35   \n",
       "2                         2nd at South Park            64     468   \n",
       "3                       San Salvador at 1st             8      68   \n",
       "4                    Embarcadero at Sansome            60     487   \n",
       "\n",
       "  Subscriber Type Zip Code  \n",
       "0      Subscriber     2139  \n",
       "1      Subscriber    95032  \n",
       "2      Subscriber    94107  \n",
       "3      Subscriber    95113  \n",
       "4        Customer     9069  "
      ]
     },
     "execution_count": 9,
     "metadata": {},
     "output_type": "execute_result"
    }
   ],
   "source": [
    "dataTrips.head()"
   ]
  },
  {
   "cell_type": "markdown",
   "metadata": {},
   "source": [
    "## Stations data"
   ]
  },
  {
   "cell_type": "code",
   "execution_count": 10,
   "metadata": {},
   "outputs": [
    {
     "data": {
      "text/plain": [
       "'3.6.1 |Anaconda 4.4.0 (64-bit)| (default, May 11 2017, 13:09:58) \\n[GCC 4.4.7 20120313 (Red Hat 4.4.7-1)]'"
      ]
     },
     "execution_count": 10,
     "metadata": {},
     "output_type": "execute_result"
    }
   ],
   "source": [
    "import sys\n",
    "sys.version"
   ]
  },
  {
   "cell_type": "code",
   "execution_count": 11,
   "metadata": {
    "collapsed": true
   },
   "outputs": [],
   "source": [
    "stationData  = expAn.read_dataStation_from_csv_files(paths)\n",
    "stationID    = expAn.get_stationID(stationName, stationData)\n",
    "stationDockcount = expAn.get_stationDockcount(stationName, stationData)\n",
    "(lat, lon)    = expAn.get_station_coordinates(stationName, stationData)\n",
    "neighboursIDs = expAn.get_neighbouring_stationIDs(stationData, stationName, radius=.65)\n",
    "#print \"IDs of neighbouring stations to {statName}: {IDs}\".format(statName=stationName, IDs=neighboursIDs)\n",
    "#print \"Names stations nearby {statName}:\\n{Names}\".format(statName=stationName,\n",
    "#                                                                   Names=expAn.get_stationNames(neighboursIDs, stationData))"
   ]
  },
  {
   "cell_type": "code",
   "execution_count": 12,
   "metadata": {
    "collapsed": true
   },
   "outputs": [],
   "source": [
    "stationNames = list(stationData[\"name\"].unique()) \n",
    "freq = \"1\"\n",
    "#for stationName in stationNames:\n",
    "#    cumulEndTrips   = expAn.count_bikes_arriving(dataTrips, stationName, freq)\n",
    "cumulEndTrips   = expAn.count_bikes_arriving(dataTrips, stationNames[0], freq)"
   ]
  },
  {
   "cell_type": "markdown",
   "metadata": {},
   "source": [
    "## Weather data"
   ]
  },
  {
   "cell_type": "code",
   "execution_count": 18,
   "metadata": {
    "collapsed": true
   },
   "outputs": [],
   "source": [
    "dateparse = lambda x: pytz.timezone('US/Pacific').localize(datetime.strptime(x,'%m/%d/%Y')).astimezone(timezone('UTC'))"
   ]
  },
  {
   "cell_type": "code",
   "execution_count": 19,
   "metadata": {},
   "outputs": [
    {
     "data": {
      "text/plain": [
       "datetime.datetime(2014, 9, 1, 7, 0, tzinfo=<UTC>)"
      ]
     },
     "execution_count": 19,
     "metadata": {},
     "output_type": "execute_result"
    }
   ],
   "source": [
    "dateparse('9/1/2014')"
   ]
  },
  {
   "cell_type": "code",
   "execution_count": 20,
   "metadata": {
    "collapsed": true
   },
   "outputs": [],
   "source": [
    "df = pd.read_csv('../data/babs_open_data_year_2/201508_weather_data.csv', index_col=0, date_parser=dateparse)"
   ]
  },
  {
   "cell_type": "code",
   "execution_count": 22,
   "metadata": {},
   "outputs": [
    {
     "name": "stdout",
     "output_type": "stream",
     "text": [
      "postal codes available with weather forecast:  [94107 94063 94301 94041 95113]\n"
     ]
    },
    {
     "ename": "ModuleNotFoundError",
     "evalue": "No module named 'pyzipcode'",
     "output_type": "error",
     "traceback": [
      "\u001b[0;31m---------------------------------------------------------------------------\u001b[0m",
      "\u001b[0;31mModuleNotFoundError\u001b[0m                       Traceback (most recent call last)",
      "\u001b[0;32m<ipython-input-22-78a8f2f548e3>\u001b[0m in \u001b[0;36m<module>\u001b[0;34m()\u001b[0m\n\u001b[1;32m      1\u001b[0m \u001b[0mweatherData\u001b[0m \u001b[0;34m=\u001b[0m \u001b[0mexpAn\u001b[0m\u001b[0;34m.\u001b[0m\u001b[0mread_dataWeather_from_csv_files\u001b[0m\u001b[0;34m(\u001b[0m\u001b[0mpaths\u001b[0m\u001b[0;34m=\u001b[0m\u001b[0mpaths\u001b[0m\u001b[0;34m)\u001b[0m\u001b[0;34m\u001b[0m\u001b[0m\n\u001b[1;32m      2\u001b[0m \u001b[0mprint\u001b[0m\u001b[0;34m(\u001b[0m\u001b[0;34m\"postal codes available with weather forecast: \"\u001b[0m\u001b[0;34m,\u001b[0m \u001b[0mweatherData\u001b[0m\u001b[0;34m[\u001b[0m\u001b[0;34m'Zip'\u001b[0m\u001b[0;34m]\u001b[0m\u001b[0;34m.\u001b[0m\u001b[0munique\u001b[0m\u001b[0;34m(\u001b[0m\u001b[0;34m)\u001b[0m\u001b[0;34m)\u001b[0m\u001b[0;34m\u001b[0m\u001b[0m\n\u001b[0;32m----> 3\u001b[0;31m \u001b[0;34m(\u001b[0m\u001b[0mprecipitation_mm\u001b[0m\u001b[0;34m,\u001b[0m \u001b[0mtemperature_celcius\u001b[0m\u001b[0;34m)\u001b[0m \u001b[0;34m=\u001b[0m \u001b[0mexpAn\u001b[0m\u001b[0;34m.\u001b[0m\u001b[0mget_weatherInfos\u001b[0m\u001b[0;34m(\u001b[0m\u001b[0mweatherData\u001b[0m\u001b[0;34m,\u001b[0m \u001b[0mstationData\u001b[0m\u001b[0;34m,\u001b[0m \u001b[0mstationName\u001b[0m\u001b[0;34m)\u001b[0m\u001b[0;34m\u001b[0m\u001b[0m\n\u001b[0m\u001b[1;32m      4\u001b[0m \u001b[0mweatherInfos\u001b[0m \u001b[0;34m=\u001b[0m \u001b[0;34m{\u001b[0m\u001b[0;34m}\u001b[0m\u001b[0;34m\u001b[0m\u001b[0m\n\u001b[1;32m      5\u001b[0m \u001b[0mweatherInfos\u001b[0m\u001b[0;34m[\u001b[0m\u001b[0;34m'precipitation_mm'\u001b[0m\u001b[0;34m]\u001b[0m    \u001b[0;34m=\u001b[0m \u001b[0mprecipitation_mm\u001b[0m\u001b[0;34m\u001b[0m\u001b[0m\n",
      "\u001b[0;32m/home/patechoc/Documents/CODE-DEV/citybikes_demo_BayArea/exploratoryAnalysis.py\u001b[0m in \u001b[0;36mget_weatherInfos\u001b[0;34m(weatherData, stationData, stationName)\u001b[0m\n\u001b[1;32m    205\u001b[0m     \u001b[0;31m## find weather available at the station zipcode, if not available in data, find weather at the closest zipcode(s) nearby\u001b[0m\u001b[0;34m\u001b[0m\u001b[0;34m\u001b[0m\u001b[0m\n\u001b[1;32m    206\u001b[0m     \u001b[0;32mfrom\u001b[0m \u001b[0mgeopy\u001b[0m\u001b[0;34m.\u001b[0m\u001b[0mgeocoders\u001b[0m \u001b[0;32mimport\u001b[0m \u001b[0mNominatim\u001b[0m\u001b[0;34m\u001b[0m\u001b[0m\n\u001b[0;32m--> 207\u001b[0;31m     \u001b[0;32mfrom\u001b[0m \u001b[0mpyzipcode\u001b[0m \u001b[0;32mimport\u001b[0m \u001b[0mZipCodeDatabase\u001b[0m\u001b[0;34m\u001b[0m\u001b[0m\n\u001b[0m\u001b[1;32m    208\u001b[0m     \u001b[0mgeolocator\u001b[0m \u001b[0;34m=\u001b[0m \u001b[0mNominatim\u001b[0m\u001b[0;34m(\u001b[0m\u001b[0;34m)\u001b[0m\u001b[0;34m\u001b[0m\u001b[0m\n\u001b[1;32m    209\u001b[0m     \u001b[0;34m(\u001b[0m\u001b[0mlat\u001b[0m\u001b[0;34m,\u001b[0m \u001b[0mlon\u001b[0m\u001b[0;34m)\u001b[0m \u001b[0;34m=\u001b[0m \u001b[0mget_station_coordinates\u001b[0m\u001b[0;34m(\u001b[0m\u001b[0mstationName\u001b[0m\u001b[0;34m,\u001b[0m \u001b[0mstationData\u001b[0m\u001b[0;34m)\u001b[0m\u001b[0;34m\u001b[0m\u001b[0m\n",
      "\u001b[0;31mModuleNotFoundError\u001b[0m: No module named 'pyzipcode'"
     ]
    }
   ],
   "source": [
    "weatherData = expAn.read_dataWeather_from_csv_files(paths=paths)\n",
    "print(\"postal codes available with weather forecast: \", weatherData['Zip'].unique())\n",
    "(precipitation_mm, temperature_celcius) = expAn.get_weatherInfos(weatherData, stationData, stationName)\n",
    "weatherInfos = {}\n",
    "weatherInfos['precipitation_mm']    = precipitation_mm\n",
    "weatherInfos['temperature_celcius'] = temperature_celcius"
   ]
  },
  {
   "cell_type": "code",
   "execution_count": 34,
   "metadata": {},
   "outputs": [
    {
     "ename": "ImportError",
     "evalue": "cannot import name ZipCodeDatabase",
     "output_type": "error",
     "traceback": [
      "\u001b[0;31m---------------------------------------------------------------------------\u001b[0m",
      "\u001b[0;31mImportError\u001b[0m                               Traceback (most recent call last)",
      "\u001b[0;32m<ipython-input-34-30adcccb8e61>\u001b[0m in \u001b[0;36m<module>\u001b[0;34m()\u001b[0m\n\u001b[0;32m----> 1\u001b[0;31m \u001b[0;32mfrom\u001b[0m \u001b[0mpyzipcode\u001b[0m \u001b[0;32mimport\u001b[0m \u001b[0mZipCodeDatabase\u001b[0m\u001b[0;34m\u001b[0m\u001b[0m\n\u001b[0m",
      "\u001b[0;31mImportError\u001b[0m: cannot import name ZipCodeDatabase"
     ]
    }
   ],
   "source": [
    "from pyzipcode import ZipCodeDatabase\n"
   ]
  },
  {
   "cell_type": "markdown",
   "metadata": {},
   "source": [
    "## Predictions for a given station:\n",
    "\n",
    "* Build a prediction model for the **supply** and **demand** of bikes which takes into account:\n",
    "    * earlier samples,\n",
    "    * the weather data,\n",
    "    * possibly information about neighbour stations\n"
   ]
  },
  {
   "cell_type": "markdown",
   "metadata": {},
   "source": [
    "### Predict the number of bikes arriving, and compare various algorithms\n",
    "\n",
    "* linear regression\n",
    "* decision tree regressor\n",
    "* Random Forest\n",
    "* Boosted decision tree\n"
   ]
  },
  {
   "cell_type": "code",
   "execution_count": null,
   "metadata": {
    "collapsed": true
   },
   "outputs": [],
   "source": [
    "inputsDemand = [{'title':'Prediction of bike demand from {stationName}'.format(stationName=stationName),\n",
    "                 'data':cumulStartTrips,\n",
    "                 'freq_hour':freq_hour, 'supply_demand':'demand', 'checkDockAvailable':False,\n",
    "                 'withWeather':True,\n",
    "                 'label':'Linear Regression', 'algo':'LinearRegression',\n",
    "                 'ratioTest':0.3, },\n",
    "#                 {\n",
    "#                  'title':'Prediction of bike demand from {stationName}'.format(stationName=stationName),\n",
    "#                  'data' : cumulStartTrips, \n",
    "#                  'freq_hour':freq_hour, 'supply_demand':'demand', 'checkDockAvailable':False,\n",
    "#                  'withWeather':True,\n",
    "#                  'label':'Random Forest', 'algo':'RandomForestRegressor',\n",
    "#                  'ratioTest':0.3, \n",
    "#                  },\n",
    "                ]\n",
    "\n",
    "                \n",
    "#                 {'name':'Linear Regression (no weather)', 'algo':'LinearRegression', \n",
    "#           'ratioTest':0.3, 'predictFromPast':True, 'withWeather':False, 'checkDockAvailable':True},\n",
    "          \n",
    "#           {'name':'Linear Regression with weather infos ', 'algo':'LinearRegression', \n",
    "#           'ratioTest':0.3, 'predictFromPast':True, 'withWeather':True, 'checkDockAvailable':True},\n",
    "          \n",
    "#           {'name':'Decision Tree', 'algo':'DecisionTreeRegressor',\n",
    "#           'ratioTest':0.3, 'predictFromPast':True, 'withWeather':True, 'checkDockAvailable':True},\n",
    "        \n",
    "          \n",
    "#          {'name':'Boosted Decision Tree', 'algo':'BoostedDecisionTreeRegressor',\n",
    "#           'ratioTest':0.3, 'predictFromPast':True, 'withWeather':True, 'checkDockAvailable':True},\n",
    "          \n",
    "#          {'name':'Gradient Boosting Regressor', 'algo':'GradientBoostingRegressor',\n",
    "#           'ratioTest':0.3, 'predictFromPast':True, 'withWeather':True, 'checkDockAvailable':True}]"
   ]
  },
  {
   "cell_type": "code",
   "execution_count": null,
   "metadata": {
    "collapsed": true
   },
   "outputs": [],
   "source": [
    "inputsSupply = [{\n",
    "                 'title':'Prediction of bike supply @ {stationName}'.format(stationName=stationName),\n",
    "                 'data' : cumulEndTrips, \n",
    "                 'freq_hour':freq_hour, 'supply_demand':'supply', 'checkDockAvailable':True,\n",
    "                 'withWeather': True,\n",
    "                 'label':'Linear Regression', 'algo':'LinearRegression',\n",
    "                 'ratioTest':0.3,\n",
    "                 },\n",
    "#                 {\n",
    "#                  'title':'Prediction of bike supply @ {stationName}'.format(stationName=stationName),\n",
    "#                  'data' : cumulEndTrips, \n",
    "#                  'freq_hour':freq_hour, 'supply_demand':'supply', 'checkDockAvailable':True,\n",
    "#                  'withWeather': True,\n",
    "#                  'label':'Random Forest', 'algo':'RandomForestRegressor',\n",
    "#                  'ratioTest':0.3, \n",
    "#                  },\n",
    "                ]"
   ]
  },
  {
   "cell_type": "code",
   "execution_count": null,
   "metadata": {
    "collapsed": true
   },
   "outputs": [],
   "source": [
    "offsetsTrip = [pd.DateOffset(**k) for k in [{'hours': 1*freq_hour},{'hours': 2*freq_hour},\\\n",
    "                                            {'hours': 3*freq_hour}, {'hours': 8*freq_hour},\\\n",
    "                                            {'days': 1}, {'days': 7}, {'days': 14},\\\n",
    "                                            {'days': 28}]]\n",
    "# weatherInfos['precipitation_mm'].index.asof(str(date(2013,8,29)))\n",
    "print date(2013,8,29)\n",
    "earliestTime =  date(2013,8,29) + offsetsTrip[-1]\n",
    "print \"earliestTime: \",earliestTime\n",
    "print [earliestTime-i for i in offsetsTrip]\n"
   ]
  },
  {
   "cell_type": "code",
   "execution_count": null,
   "metadata": {
    "collapsed": true
   },
   "outputs": [],
   "source": [
    "(X_full, y_full) = expAn.build_model_inputs(inputsSupply[0], weatherInfos)"
   ]
  },
  {
   "cell_type": "code",
   "execution_count": null,
   "metadata": {
    "collapsed": true
   },
   "outputs": [],
   "source": [
    "def build_split_train_predict(inputs, weatherInfos={}):\n",
    "    from sklearn import preprocessing\n",
    "    from sklearn.linear_model import LinearRegression\n",
    "    from sklearn.tree import DecisionTreeRegressor\n",
    "    from sklearn.ensemble import RandomForestRegressor, AdaBoostRegressor, GradientBoostingRegressor\n",
    "    outputs = []\n",
    "    for inp in inputs:\n",
    "        ## READ AND COMPLETE INPUTS WITH DEFAULT VALUES IF MISSING\n",
    "        inpDF = inp['data']\n",
    "        output = inp\n",
    "        if 'algo' not in inp.keys():\n",
    "            output['algo'] = 'LinearRegression'\n",
    "        if 'ratioTest' not in inp.keys():\n",
    "            output['ratioTest'] = 0.3\n",
    "        if 'withWeather' not in inp.keys():\n",
    "            output['withWeather'] = True\n",
    "        if 'checkDockAvailable' not in inp.keys():\n",
    "            output['checkDockAvailable'] = True\n",
    "        if 'checkBikeAvailable' not in inp.keys():\n",
    "            output['checkBikeAvailable'] = True\n",
    "        ## build the model\n",
    "        (X_full, y_full) = expAn.build_model_inputs(inp, weatherInfos)\n",
    "\n",
    "        # Split the data into training/testing sets\n",
    "        nTest = int(round(len(X_full)*output['ratioTest']))\n",
    "        X_trainingSet = X_full[:-nTest]\n",
    "        X_testingSet  = X_full[-nTest:]\n",
    "        # Split the targets into training/testing sets\n",
    "        y_train = y_full[:-nTest]\n",
    "        y_test  = y_full[-nTest:]\n",
    "        output['X_full'] = X_full\n",
    "        output['y_full'] = y_full\n",
    "        output['X_trainingSet'] = X_trainingSet\n",
    "        output['X_testingSet'] = X_testingSet\n",
    "        output['y_train'] = y_train\n",
    "        output['y_test'] = y_test\n",
    "        output['dates_train'] = inpDF.index[:-nTest]\n",
    "        output['dates_test'] = inpDF.index[-nTest:]\n",
    "        print inp['algo']\n",
    "\n",
    "        ## Normalizing the model coefficients for meaningful comparison\n",
    "        ## Standardization, or mean removal and variance scaling\n",
    "        ## (http://scikit-learn.org/stable/modules/preprocessing.html#preprocessing)\n",
    "        scaler = preprocessing.StandardScaler(copy=True, with_mean=True, with_std=True).fit(X_trainingSet)\n",
    "        X_trainingSet = scaler.transform(X_trainingSet)\n",
    "        X_testingSet = scaler.transform(X_testingSet)\n",
    "        \n",
    "        # Train the model using the training sets\n",
    "        print '\\nLabel: {}'.format(output['label'])\n",
    "        \n",
    "#         algo = {'LinearRegression':LinearRegression(),\n",
    "#                 'DecisionTreeRegressor':DecisionTreeRegressor(),\n",
    "#                 'RandomForestRegressor':RandomForestRegressor(n_estimators=150, min_samples_split=1),\n",
    "#                 'BoostedDecisionTreeRegressor':AdaBoostRegressor(DecisionTreeRegressor(max_depth=4),\n",
    "#                                                                  n_estimators=150).fit(X_trainingSet, y_train),\n",
    "#                 'GradientBoostingRegressor':GradientBoostingRegressor(alpha=0.9, init=None, learning_rate=0.1, loss='ls',\n",
    "#                                                                       max_depth=3, max_features=None,\n",
    "#                                                                       min_samples_leaf=1, min_samples_split=2,\n",
    "#                                                                       n_estimators=100,\n",
    "#                                                                       random_state=None, subsample=1.0, verbose=0)}[inp['algo']]\n",
    "\n",
    "\n",
    "        algo = {'LinearRegression':LinearRegression()}[inp['algo']]        \n",
    "        model = algo.fit(X_trainingSet, y_train)\n",
    "        output['model'] = model\n",
    "        \n",
    "        RSS = sum((y_train - model.predict(X_trainingSet))**2)  ## residual sum of squares (RSS) p.62\n",
    "        TSS = sum((y_train - np.mean(y_train))**2)\n",
    "        \n",
    "        ## The residual standard error (RSE) provides an absolute measure of lack of fit of the model to the data.\n",
    "        RSE = (RSS/(len(y_train)-2))**(0.5) ## residual standard error (RSE) p.69\n",
    "        \n",
    "        ## But since the RSE is measured in the units of Y , it is not always clear what constitutes a good RSE.\n",
    "        ## The R**2 statistic provides an alternative measure of fit. It takes the form of a proportion\n",
    "        ## — the proportion of variance explained — and so it always takes on a value between 0 and 1, and is \n",
    "        ## independent of the scale of Y. (p.69-70)\n",
    "        R2statistic = 1. - RSS/TSS\n",
    "        \n",
    "        # prediction\n",
    "        y_predict = model.predict(X_testingSet) # to compare to the real values: y_test\n",
    "        output['y_predict'] = y_predict\n",
    "\n",
    "        ### Explained variance score: 1 is perfect prediction\n",
    "        #if inp['algo'] != 'RandomForestRegressor':\n",
    "        scoreVarTrain = model.score(X_trainingSet, y_train)\n",
    "        scoreVarTest = model.score(X_testingSet, y_test)\n",
    "        sse = np.mean((y_predict - y_test) ** 2)\n",
    "        print(\"sum of squared errors of prediction (SSE): %.2f\" % sse)\n",
    "        print('Variance score on training set: %.2f' % scoreVarTrain)\n",
    "        print('Variance score on test set: %.2f' % scoreVarTest)\n",
    "        print('RSE: %.2f' % RSE)\n",
    "        print('R^2: %.2f' % R2statistic)\n",
    "        stats = {'scoreVarTrain':scoreVarTrain,\n",
    "                 'scoreVarTest':scoreVarTest, 'sse':sse,\n",
    "                 'RSS':RSS, 'TSS':TSS, 'RSE':RSE,\n",
    "                 'R2statistic':R2statistic}\n",
    "        output['stats'] = stats\n",
    "        outputs.append(output)\n",
    "    return outputs\n"
   ]
  },
  {
   "cell_type": "code",
   "execution_count": null,
   "metadata": {
    "collapsed": true
   },
   "outputs": [],
   "source": [
    "results_supply = build_split_train_predict(inputsSupply, weatherInfos)"
   ]
  },
  {
   "cell_type": "code",
   "execution_count": null,
   "metadata": {
    "collapsed": true
   },
   "outputs": [],
   "source": [
    "results_demand = build_split_train_predict(inputsDemand, weatherInfos)"
   ]
  },
  {
   "cell_type": "markdown",
   "metadata": {},
   "source": [
    "### Plot to compare the combinations of input parameters and AI algo."
   ]
  },
  {
   "cell_type": "code",
   "execution_count": null,
   "metadata": {
    "collapsed": true
   },
   "outputs": [],
   "source": [
    "from bokeh.io import push_notebook, show, output_notebook\n",
    "from bokeh.layouts import row\n",
    "from bokeh.plotting import figure\n",
    "output_notebook()"
   ]
  },
  {
   "cell_type": "code",
   "execution_count": null,
   "metadata": {
    "collapsed": true
   },
   "outputs": [],
   "source": [
    "def plot_prediction(outputs, title=\"\", weatherInfos={}):\n",
    "    timeUTC = outputs[0]['dates_test'].tolist()\n",
    "    timePST = [pytz.timezone('UTC').localize(x).astimezone(timezone('US/Pacific')) for x in timeUTC]\n",
    "    actual_data = outputs[0]['y_test']\n",
    "    temper = [weatherInfos['temperature_celcius'][weatherInfos['temperature_celcius'].index.asof(i)] for i in outputs[0]['data'].index]\n",
    "    precip = [weatherInfos['precipitation_mm'][weatherInfos['precipitation_mm'].index.asof(i)] for i in outputs[0]['data'].index]\n",
    "    \n",
    "    p = figure(title=\"Predictions\", #toolbar_location=None,\n",
    "               plot_width=800, plot_height=600, x_axis_type='datetime')\n",
    "    #p.grid.grid_line_color = None\n",
    "    p.background_fill_color = \"#eeeeee\"\n",
    "    for output in outputs:\n",
    "        p.line(timePST, np.array(output['y_predict']),\n",
    "               line_width=2, line_color=\"red\",\n",
    "               legend=output['label'])\n",
    "#     p.line(timePST, temper, line_width=2, legend='Temp. (C)')\n",
    "#     p.line(timePST, precip, line_width=2, legend='Rain (mm)')\n",
    "    p.line(timePST, actual_data, line_width=2, line_color=\"gray\", legend='Actual')\n",
    "    p.xaxis.axis_label = 'Time'\n",
    "    p.yaxis.axis_label = 'Bikes'\n",
    "    output_file(\"predictions.html\", title=\"Bay Area citybikes\")\n",
    "    show(p)"
   ]
  },
  {
   "cell_type": "code",
   "execution_count": null,
   "metadata": {
    "collapsed": true
   },
   "outputs": [],
   "source": [
    "plot_prediction(results_supply,\n",
    "                title='cityBikes/Prediction of bike supply @ {stationName}'.format(stationName=stationName),\n",
    "                weatherInfos=weatherInfos)"
   ]
  },
  {
   "cell_type": "code",
   "execution_count": null,
   "metadata": {
    "collapsed": true
   },
   "outputs": [],
   "source": []
  },
  {
   "cell_type": "code",
   "execution_count": null,
   "metadata": {
    "collapsed": true
   },
   "outputs": [],
   "source": []
  },
  {
   "cell_type": "code",
   "execution_count": null,
   "metadata": {
    "collapsed": true
   },
   "outputs": [],
   "source": []
  },
  {
   "cell_type": "code",
   "execution_count": null,
   "metadata": {
    "collapsed": true
   },
   "outputs": [],
   "source": []
  }
 ],
 "metadata": {
  "kernelspec": {
   "display_name": "Python 3",
   "language": "python",
   "name": "python3"
  },
  "language_info": {
   "codemirror_mode": {
    "name": "ipython",
    "version": 3
   },
   "file_extension": ".py",
   "mimetype": "text/x-python",
   "name": "python",
   "nbconvert_exporter": "python",
   "pygments_lexer": "ipython3",
   "version": "3.6.1"
  }
 },
 "nbformat": 4,
 "nbformat_minor": 2
}
