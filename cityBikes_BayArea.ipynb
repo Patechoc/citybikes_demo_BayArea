{
 "cells": [
  {
   "cell_type": "markdown",
   "metadata": {},
   "source": [
    "# Data Analysis of City Bikes in the Bay Area\n",
    "\n",
    "* http://www.bayareabikeshare.com\n",
    "* https://www.fordgobike.com/system-data"
   ]
  },
  {
   "cell_type": "code",
   "execution_count": 26,
   "metadata": {
    "collapsed": false
   },
   "outputs": [],
   "source": [
    "import pandas as pd\n",
    "import numpy as np\n",
    "from datetime import datetime, date\n",
    "import pytz\n",
    "from pytz import timezone\n",
    "\n",
    "## homemade\n",
    "import fetchData as fd\n",
    "import exploratoryAnalysis as expAn\n",
    "import distanceMatrix"
   ]
  },
  {
   "cell_type": "code",
   "execution_count": 2,
   "metadata": {
    "collapsed": true
   },
   "outputs": [],
   "source": [
    "stationName = 'San Francisco Caltrain (Townsend at 4th)'  \n",
    "#stationName = 'Market at Sansome' \n",
    "\n",
    "freq_hour = 1  ## sampling frequency to cumulate the nb. of bike trips\n",
    " \n",
    "paths = [r'../data/babs_open_data_year_2']"
   ]
  },
  {
   "cell_type": "markdown",
   "metadata": {},
   "source": [
    "## Get, Read and Clean raw data"
   ]
  },
  {
   "cell_type": "code",
   "execution_count": 3,
   "metadata": {
    "collapsed": false
   },
   "outputs": [],
   "source": [
    "!mkdir -p ../data\n",
    "directory = \"../data/\"\n",
    "\n",
    "links = [\"https://s3.amazonaws.com/babs-open-data/babs_open_data_year_1.zip\",\n",
    "         \"https://s3.amazonaws.com/babs-open-data/babs_open_data_year_2.zip\",\n",
    "         \"https://s3.amazonaws.com/babs-open-data/babs_open_data_year_3.zip\"]\n",
    "for url in links:\n",
    "   (filename, path_to_file) = fd.download_file_by_url(url, directory)\n",
    "   fd.unzip_file(filename, path_to_file)"
   ]
  },
  {
   "cell_type": "code",
   "execution_count": 4,
   "metadata": {
    "collapsed": false
   },
   "outputs": [
    {
     "name": "stdout",
     "output_type": "stream",
     "text": [
      "201608_station_data.csv  201608_trip_data.csv\t  babs_open_data_year_3.zip\r\n",
      "201608_status_data.csv\t 201608_weather_data.csv  README.txt\r\n"
     ]
    }
   ],
   "source": [
    "!ls ../data/babs_open_data_year_3/"
   ]
  },
  {
   "cell_type": "code",
   "execution_count": 5,
   "metadata": {
    "collapsed": false
   },
   "outputs": [
    {
     "name": "stdout",
     "output_type": "stream",
     "text": [
      "2015-09-01 08:26:00+02:00\n",
      "Now in Oslo (Norway):  2017-10-03 23:45:36.507932+02:00\n",
      "Now in San Francisco:  2017-10-03 14:45:36.508100-07:00\n"
     ]
    }
   ],
   "source": [
    "# Making sure we get the time from the right timezone \n",
    "from datetime import datetime, timedelta\n",
    "import pytz\n",
    "#print pytz.all_timezones\n",
    "parse = lambda x: pytz.timezone('US/Pacific').localize(datetime.strptime(x,'%m/%d/%Y %H:%M')) #.astimezone(pytz.timezone('US/Pacific'))\n",
    "print parse(\"8/31/2015 23:26\").astimezone(pytz.timezone('Europe/Paris'))\n",
    "\n",
    "print \"Now in Oslo (Norway): \", pytz.timezone('Europe/Oslo').localize(datetime.now())\n",
    "print \"Now in San Francisco: \", pytz.timezone('Europe/Oslo').localize(datetime.now()).astimezone(pytz.timezone('America/Los_Angeles'))"
   ]
  },
  {
   "cell_type": "markdown",
   "metadata": {},
   "source": [
    "## Trips data"
   ]
  },
  {
   "cell_type": "code",
   "execution_count": 6,
   "metadata": {
    "collapsed": true
   },
   "outputs": [],
   "source": [
    "## BikeTrips data (takes a few minutes!!)\n",
    "dataTrips       =  expAn.read_dataTrips_from_csv_files(paths=paths, asUTC=False)\n",
    "## SUPPLY & DEMAND: Count how many bikes are arriving/leaving per x hour at a given station\n",
    "cumulEndTrips   = expAn.count_bikes_arriving(dataTrips, stationName, freq_hour)\n",
    "cumulStartTrips = expAn.count_bikes_leaving(dataTrips, stationName, freq_hour)"
   ]
  },
  {
   "cell_type": "code",
   "execution_count": 7,
   "metadata": {
    "collapsed": false
   },
   "outputs": [
    {
     "data": {
      "text/plain": [
       "Trip ID                     int64\n",
       "Duration                    int64\n",
       "Start Date         datetime64[ns]\n",
       "Start Station              object\n",
       "Start Terminal              int64\n",
       "End Date           datetime64[ns]\n",
       "End Station                object\n",
       "End Terminal                int64\n",
       "Bike #                      int64\n",
       "Subscriber Type            object\n",
       "Zip Code                   object\n",
       "dtype: object"
      ]
     },
     "execution_count": 7,
     "metadata": {},
     "output_type": "execute_result"
    }
   ],
   "source": [
    "dataTrips.dtypes"
   ]
  },
  {
   "cell_type": "code",
   "execution_count": 8,
   "metadata": {
    "collapsed": false
   },
   "outputs": [
    {
     "data": {
      "text/html": [
       "<div>\n",
       "<table border=\"1\" class=\"dataframe\">\n",
       "  <thead>\n",
       "    <tr style=\"text-align: right;\">\n",
       "      <th></th>\n",
       "      <th>Trip ID</th>\n",
       "      <th>Duration</th>\n",
       "      <th>Start Date</th>\n",
       "      <th>Start Station</th>\n",
       "      <th>Start Terminal</th>\n",
       "      <th>End Date</th>\n",
       "      <th>End Station</th>\n",
       "      <th>End Terminal</th>\n",
       "      <th>Bike #</th>\n",
       "      <th>Subscriber Type</th>\n",
       "      <th>Zip Code</th>\n",
       "    </tr>\n",
       "  </thead>\n",
       "  <tbody>\n",
       "    <tr>\n",
       "      <th>0</th>\n",
       "      <td>913460</td>\n",
       "      <td>765</td>\n",
       "      <td>2015-08-31 23:26:00</td>\n",
       "      <td>Harry Bridges Plaza (Ferry Building)</td>\n",
       "      <td>50</td>\n",
       "      <td>2015-08-31 23:39:00</td>\n",
       "      <td>San Francisco Caltrain (Townsend at 4th)</td>\n",
       "      <td>70</td>\n",
       "      <td>288</td>\n",
       "      <td>Subscriber</td>\n",
       "      <td>2139</td>\n",
       "    </tr>\n",
       "    <tr>\n",
       "      <th>1</th>\n",
       "      <td>913459</td>\n",
       "      <td>1036</td>\n",
       "      <td>2015-08-31 23:11:00</td>\n",
       "      <td>San Antonio Shopping Center</td>\n",
       "      <td>31</td>\n",
       "      <td>2015-08-31 23:28:00</td>\n",
       "      <td>Mountain View City Hall</td>\n",
       "      <td>27</td>\n",
       "      <td>35</td>\n",
       "      <td>Subscriber</td>\n",
       "      <td>95032</td>\n",
       "    </tr>\n",
       "    <tr>\n",
       "      <th>2</th>\n",
       "      <td>913455</td>\n",
       "      <td>307</td>\n",
       "      <td>2015-08-31 23:13:00</td>\n",
       "      <td>Post at Kearny</td>\n",
       "      <td>47</td>\n",
       "      <td>2015-08-31 23:18:00</td>\n",
       "      <td>2nd at South Park</td>\n",
       "      <td>64</td>\n",
       "      <td>468</td>\n",
       "      <td>Subscriber</td>\n",
       "      <td>94107</td>\n",
       "    </tr>\n",
       "    <tr>\n",
       "      <th>3</th>\n",
       "      <td>913454</td>\n",
       "      <td>409</td>\n",
       "      <td>2015-08-31 23:10:00</td>\n",
       "      <td>San Jose City Hall</td>\n",
       "      <td>10</td>\n",
       "      <td>2015-08-31 23:17:00</td>\n",
       "      <td>San Salvador at 1st</td>\n",
       "      <td>8</td>\n",
       "      <td>68</td>\n",
       "      <td>Subscriber</td>\n",
       "      <td>95113</td>\n",
       "    </tr>\n",
       "    <tr>\n",
       "      <th>4</th>\n",
       "      <td>913453</td>\n",
       "      <td>789</td>\n",
       "      <td>2015-08-31 23:09:00</td>\n",
       "      <td>Embarcadero at Folsom</td>\n",
       "      <td>51</td>\n",
       "      <td>2015-08-31 23:22:00</td>\n",
       "      <td>Embarcadero at Sansome</td>\n",
       "      <td>60</td>\n",
       "      <td>487</td>\n",
       "      <td>Customer</td>\n",
       "      <td>9069</td>\n",
       "    </tr>\n",
       "  </tbody>\n",
       "</table>\n",
       "</div>"
      ],
      "text/plain": [
       "   Trip ID  Duration          Start Date  \\\n",
       "0   913460       765 2015-08-31 23:26:00   \n",
       "1   913459      1036 2015-08-31 23:11:00   \n",
       "2   913455       307 2015-08-31 23:13:00   \n",
       "3   913454       409 2015-08-31 23:10:00   \n",
       "4   913453       789 2015-08-31 23:09:00   \n",
       "\n",
       "                          Start Station  Start Terminal            End Date  \\\n",
       "0  Harry Bridges Plaza (Ferry Building)              50 2015-08-31 23:39:00   \n",
       "1           San Antonio Shopping Center              31 2015-08-31 23:28:00   \n",
       "2                        Post at Kearny              47 2015-08-31 23:18:00   \n",
       "3                    San Jose City Hall              10 2015-08-31 23:17:00   \n",
       "4                 Embarcadero at Folsom              51 2015-08-31 23:22:00   \n",
       "\n",
       "                                End Station  End Terminal  Bike #  \\\n",
       "0  San Francisco Caltrain (Townsend at 4th)            70     288   \n",
       "1                   Mountain View City Hall            27      35   \n",
       "2                         2nd at South Park            64     468   \n",
       "3                       San Salvador at 1st             8      68   \n",
       "4                    Embarcadero at Sansome            60     487   \n",
       "\n",
       "  Subscriber Type Zip Code  \n",
       "0      Subscriber     2139  \n",
       "1      Subscriber    95032  \n",
       "2      Subscriber    94107  \n",
       "3      Subscriber    95113  \n",
       "4        Customer     9069  "
      ]
     },
     "execution_count": 8,
     "metadata": {},
     "output_type": "execute_result"
    }
   ],
   "source": [
    "dataTrips.head()"
   ]
  },
  {
   "cell_type": "markdown",
   "metadata": {},
   "source": [
    "## Stations data"
   ]
  },
  {
   "cell_type": "code",
   "execution_count": 9,
   "metadata": {
    "collapsed": false
   },
   "outputs": [
    {
     "name": "stdout",
     "output_type": "stream",
     "text": [
      "IDs of neighbouring stations to San Francisco Caltrain (Townsend at 4th): [61 69]\n",
      "Names stations nearby San Francisco Caltrain (Townsend at 4th):\n",
      "['2nd at Townsend', 'San Francisco Caltrain 2 (330 Townsend)']\n"
     ]
    }
   ],
   "source": [
    "stationData  = expAn.read_dataStation_from_csv_files(paths)\n",
    "stationID    = expAn.get_stationID(stationName, stationData)\n",
    "stationDockcount = expAn.get_stationDockcount(stationName, stationData)\n",
    "(lat, lon)    = expAn.get_station_coordinates(stationName, stationData)\n",
    "neighboursIDs = expAn.get_neighbouring_stationIDs(stationData, stationName, radius=.65)\n",
    "print \"IDs of neighbouring stations to {statName}: {IDs}\".format(statName=stationName, IDs=neighboursIDs)\n",
    "print \"Names stations nearby {statName}:\\n{Names}\".format(statName=stationName,\n",
    "                                                                   Names=expAn.get_stationNames(neighboursIDs, stationData))"
   ]
  },
  {
   "cell_type": "code",
   "execution_count": 10,
   "metadata": {
    "collapsed": true
   },
   "outputs": [],
   "source": [
    "stationNames = list(stationData[\"name\"].unique()) \n",
    "freq = \"1\"\n",
    "#for stationName in stationNames:\n",
    "#    cumulEndTrips   = expAn.count_bikes_arriving(dataTrips, stationName, freq)\n",
    "cumulEndTrips   = expAn.count_bikes_arriving(dataTrips, stationNames[0], freq)"
   ]
  },
  {
   "cell_type": "markdown",
   "metadata": {},
   "source": [
    "## Weather data"
   ]
  },
  {
   "cell_type": "code",
   "execution_count": 11,
   "metadata": {
    "collapsed": true
   },
   "outputs": [],
   "source": [
    "dateparse = lambda x: pytz.timezone('US/Pacific').localize(datetime.strptime(x,'%m/%d/%Y')).astimezone(timezone('UTC'))"
   ]
  },
  {
   "cell_type": "code",
   "execution_count": 12,
   "metadata": {
    "collapsed": false
   },
   "outputs": [
    {
     "data": {
      "text/plain": [
       "datetime.datetime(2014, 9, 1, 7, 0, tzinfo=<UTC>)"
      ]
     },
     "execution_count": 12,
     "metadata": {},
     "output_type": "execute_result"
    }
   ],
   "source": [
    "dateparse('9/1/2014')"
   ]
  },
  {
   "cell_type": "code",
   "execution_count": 13,
   "metadata": {
    "collapsed": false
   },
   "outputs": [],
   "source": [
    "df = pd.read_csv('../data/babs_open_data_year_2/201508_weather_data.csv', index_col=0, date_parser=dateparse)"
   ]
  },
  {
   "cell_type": "code",
   "execution_count": 19,
   "metadata": {
    "collapsed": false
   },
   "outputs": [
    {
     "name": "stdout",
     "output_type": "stream",
     "text": [
      "postal codes available with weather forecast:  [94107 94063 94301 94041 95113]\n"
     ]
    }
   ],
   "source": [
    "weatherData = expAn.read_dataWeather_from_csv_files(paths=paths)\n",
    "print \"postal codes available with weather forecast: \", weatherData['Zip'].unique()\n",
    "(precipitation_mm, temperature_celcius) = expAn.get_weatherInfos(weatherData, stationData, stationName)\n",
    "weatherInfos = {}\n",
    "weatherInfos['precipitation_mm']    = precipitation_mm\n",
    "weatherInfos['temperature_celcius'] = temperature_celcius"
   ]
  },
  {
   "cell_type": "markdown",
   "metadata": {},
   "source": [
    "## Predictions for a given station:\n",
    "\n",
    "* Build a prediction model for the **supply** and **demand** of bikes which takes into account:\n",
    "    * earlier samples,\n",
    "    * the weather data,\n",
    "    * possibly information about neighbour stations\n"
   ]
  },
  {
   "cell_type": "markdown",
   "metadata": {},
   "source": [
    "### Predict the number of bikes arriving, and compare various algorithms\n",
    "\n",
    "* linear regression\n",
    "* decision tree regressor\n",
    "* Random Forest\n",
    "* Boosted decision tree\n"
   ]
  },
  {
   "cell_type": "code",
   "execution_count": 76,
   "metadata": {
    "collapsed": true
   },
   "outputs": [],
   "source": [
    "inputsDemand = [{'title':'Prediction of bike demand from {stationName}'.format(stationName=stationName),\n",
    "                 'data':cumulStartTrips,\n",
    "                 'freq_hour':freq_hour, 'supply_demand':'demand', 'checkDockAvailable':False,\n",
    "                 'withWeather':True,\n",
    "                 'label':'Linear Regression', 'algo':'LinearRegression',\n",
    "                 'ratioTest':0.3, },\n",
    "#                 {\n",
    "#                  'title':'Prediction of bike demand from {stationName}'.format(stationName=stationName),\n",
    "#                  'data' : cumulStartTrips, \n",
    "#                  'freq_hour':freq_hour, 'supply_demand':'demand', 'checkDockAvailable':False,\n",
    "#                  'withWeather':True,\n",
    "#                  'label':'Random Forest', 'algo':'RandomForestRegressor',\n",
    "#                  'ratioTest':0.3, \n",
    "#                  },\n",
    "                ]\n",
    "\n",
    "                \n",
    "#                 {'name':'Linear Regression (no weather)', 'algo':'LinearRegression', \n",
    "#           'ratioTest':0.3, 'predictFromPast':True, 'withWeather':False, 'checkDockAvailable':True},\n",
    "          \n",
    "#           {'name':'Linear Regression with weather infos ', 'algo':'LinearRegression', \n",
    "#           'ratioTest':0.3, 'predictFromPast':True, 'withWeather':True, 'checkDockAvailable':True},\n",
    "          \n",
    "#           {'name':'Decision Tree', 'algo':'DecisionTreeRegressor',\n",
    "#           'ratioTest':0.3, 'predictFromPast':True, 'withWeather':True, 'checkDockAvailable':True},\n",
    "        \n",
    "          \n",
    "#          {'name':'Boosted Decision Tree', 'algo':'BoostedDecisionTreeRegressor',\n",
    "#           'ratioTest':0.3, 'predictFromPast':True, 'withWeather':True, 'checkDockAvailable':True},\n",
    "          \n",
    "#          {'name':'Gradient Boosting Regressor', 'algo':'GradientBoostingRegressor',\n",
    "#           'ratioTest':0.3, 'predictFromPast':True, 'withWeather':True, 'checkDockAvailable':True}]"
   ]
  },
  {
   "cell_type": "code",
   "execution_count": 77,
   "metadata": {
    "collapsed": true
   },
   "outputs": [],
   "source": [
    "inputsSupply = [{\n",
    "                 'title':'Prediction of bike supply @ {stationName}'.format(stationName=stationName),\n",
    "                 'data' : cumulEndTrips, \n",
    "                 'freq_hour':freq_hour, 'supply_demand':'supply', 'checkDockAvailable':True,\n",
    "                 'withWeather': True,\n",
    "                 'label':'Linear Regression', 'algo':'LinearRegression',\n",
    "                 'ratioTest':0.3,\n",
    "                 },\n",
    "#                 {\n",
    "#                  'title':'Prediction of bike supply @ {stationName}'.format(stationName=stationName),\n",
    "#                  'data' : cumulEndTrips, \n",
    "#                  'freq_hour':freq_hour, 'supply_demand':'supply', 'checkDockAvailable':True,\n",
    "#                  'withWeather': True,\n",
    "#                  'label':'Random Forest', 'algo':'RandomForestRegressor',\n",
    "#                  'ratioTest':0.3, \n",
    "#                  },\n",
    "                ]"
   ]
  },
  {
   "cell_type": "code",
   "execution_count": 78,
   "metadata": {
    "collapsed": false
   },
   "outputs": [
    {
     "name": "stdout",
     "output_type": "stream",
     "text": [
      "2013-08-29\n",
      "earliestTime:  2013-09-26 00:00:00\n",
      "[Timestamp('2013-09-25 23:00:00'), Timestamp('2013-09-25 22:00:00'), Timestamp('2013-09-25 21:00:00'), Timestamp('2013-09-25 16:00:00'), Timestamp('2013-09-25 00:00:00'), Timestamp('2013-09-19 00:00:00'), Timestamp('2013-09-12 00:00:00'), Timestamp('2013-08-29 00:00:00')]\n"
     ]
    }
   ],
   "source": [
    "offsetsTrip = [pd.DateOffset(**k) for k in [{'hours': 1*freq_hour},{'hours': 2*freq_hour},\\\n",
    "                                            {'hours': 3*freq_hour}, {'hours': 8*freq_hour},\\\n",
    "                                            {'days': 1}, {'days': 7}, {'days': 14},\\\n",
    "                                            {'days': 28}]]\n",
    "# weatherInfos['precipitation_mm'].index.asof(str(date(2013,8,29)))\n",
    "print date(2013,8,29)\n",
    "earliestTime =  date(2013,8,29) + offsetsTrip[-1]\n",
    "print \"earliestTime: \",earliestTime\n",
    "print [earliestTime-i for i in offsetsTrip]\n"
   ]
  },
  {
   "cell_type": "code",
   "execution_count": 79,
   "metadata": {
    "collapsed": false
   },
   "outputs": [],
   "source": [
    "(X_full, y_full) = expAn.build_model_inputs(inputsSupply[0], weatherInfos)"
   ]
  },
  {
   "cell_type": "code",
   "execution_count": 80,
   "metadata": {
    "collapsed": false
   },
   "outputs": [],
   "source": [
    "def build_split_train_predict(inputs, weatherInfos={}):\n",
    "    from sklearn import preprocessing\n",
    "    from sklearn.linear_model import LinearRegression\n",
    "    from sklearn.tree import DecisionTreeRegressor\n",
    "    from sklearn.ensemble import RandomForestRegressor, AdaBoostRegressor, GradientBoostingRegressor\n",
    "    outputs = []\n",
    "    for inp in inputs:\n",
    "        ## READ AND COMPLETE INPUTS WITH DEFAULT VALUES IF MISSING\n",
    "        inpDF = inp['data']\n",
    "        output = inp\n",
    "        if 'algo' not in inp.keys():\n",
    "            output['algo'] = 'LinearRegression'\n",
    "        if 'ratioTest' not in inp.keys():\n",
    "            output['ratioTest'] = 0.3\n",
    "        if 'withWeather' not in inp.keys():\n",
    "            output['withWeather'] = True\n",
    "        if 'checkDockAvailable' not in inp.keys():\n",
    "            output['checkDockAvailable'] = True\n",
    "        if 'checkBikeAvailable' not in inp.keys():\n",
    "            output['checkBikeAvailable'] = True\n",
    "        ## build the model\n",
    "        (X_full, y_full) = expAn.build_model_inputs(inp, weatherInfos)\n",
    "\n",
    "        # Split the data into training/testing sets\n",
    "        nTest = int(round(len(X_full)*output['ratioTest']))\n",
    "        X_trainingSet = X_full[:-nTest]\n",
    "        X_testingSet  = X_full[-nTest:]\n",
    "        # Split the targets into training/testing sets\n",
    "        y_train = y_full[:-nTest]\n",
    "        y_test  = y_full[-nTest:]\n",
    "        output['X_full'] = X_full\n",
    "        output['y_full'] = y_full\n",
    "        output['X_trainingSet'] = X_trainingSet\n",
    "        output['X_testingSet'] = X_testingSet\n",
    "        output['y_train'] = y_train\n",
    "        output['y_test'] = y_test\n",
    "        output['dates_train'] = inpDF.index[:-nTest]\n",
    "        output['dates_test'] = inpDF.index[-nTest:]\n",
    "        print inp['algo']\n",
    "\n",
    "        ## Normalizing the model coefficients for meaningful comparison\n",
    "        ## Standardization, or mean removal and variance scaling\n",
    "        ## (http://scikit-learn.org/stable/modules/preprocessing.html#preprocessing)\n",
    "        scaler = preprocessing.StandardScaler(copy=True, with_mean=True, with_std=True).fit(X_trainingSet)\n",
    "        X_trainingSet = scaler.transform(X_trainingSet)\n",
    "        X_testingSet = scaler.transform(X_testingSet)\n",
    "        \n",
    "        # Train the model using the training sets\n",
    "        print '\\nLabel: {}'.format(output['label'])\n",
    "        \n",
    "#         algo = {'LinearRegression':LinearRegression(),\n",
    "#                 'DecisionTreeRegressor':DecisionTreeRegressor(),\n",
    "#                 'RandomForestRegressor':RandomForestRegressor(n_estimators=150, min_samples_split=1),\n",
    "#                 'BoostedDecisionTreeRegressor':AdaBoostRegressor(DecisionTreeRegressor(max_depth=4),\n",
    "#                                                                  n_estimators=150).fit(X_trainingSet, y_train),\n",
    "#                 'GradientBoostingRegressor':GradientBoostingRegressor(alpha=0.9, init=None, learning_rate=0.1, loss='ls',\n",
    "#                                                                       max_depth=3, max_features=None,\n",
    "#                                                                       min_samples_leaf=1, min_samples_split=2,\n",
    "#                                                                       n_estimators=100,\n",
    "#                                                                       random_state=None, subsample=1.0, verbose=0)}[inp['algo']]\n",
    "\n",
    "\n",
    "        algo = {'LinearRegression':LinearRegression()}[inp['algo']]        \n",
    "        model = algo.fit(X_trainingSet, y_train)\n",
    "        output['model'] = model\n",
    "        \n",
    "        RSS = sum((y_train - model.predict(X_trainingSet))**2)  ## residual sum of squares (RSS) p.62\n",
    "        TSS = sum((y_train - np.mean(y_train))**2)\n",
    "        \n",
    "        ## The residual standard error (RSE) provides an absolute measure of lack of fit of the model to the data.\n",
    "        RSE = (RSS/(len(y_train)-2))**(0.5) ## residual standard error (RSE) p.69\n",
    "        \n",
    "        ## But since the RSE is measured in the units of Y , it is not always clear what constitutes a good RSE.\n",
    "        ## The R**2 statistic provides an alternative measure of fit. It takes the form of a proportion\n",
    "        ## — the proportion of variance explained — and so it always takes on a value between 0 and 1, and is \n",
    "        ## independent of the scale of Y. (p.69-70)\n",
    "        R2statistic = 1. - RSS/TSS\n",
    "        \n",
    "        # prediction\n",
    "        y_predict = model.predict(X_testingSet) # to compare to the real values: y_test\n",
    "        output['y_predict'] = y_predict\n",
    "\n",
    "        ### Explained variance score: 1 is perfect prediction\n",
    "        #if inp['algo'] != 'RandomForestRegressor':\n",
    "        scoreVarTrain = model.score(X_trainingSet, y_train)\n",
    "        scoreVarTest = model.score(X_testingSet, y_test)\n",
    "        sse = np.mean((y_predict - y_test) ** 2)\n",
    "        print(\"sum of squared errors of prediction (SSE): %.2f\" % sse)\n",
    "        print('Variance score on training set: %.2f' % scoreVarTrain)\n",
    "        print('Variance score on test set: %.2f' % scoreVarTest)\n",
    "        print('RSE: %.2f' % RSE)\n",
    "        print('R^2: %.2f' % R2statistic)\n",
    "        stats = {'scoreVarTrain':scoreVarTrain,\n",
    "                 'scoreVarTest':scoreVarTest, 'sse':sse,\n",
    "                 'RSS':RSS, 'TSS':TSS, 'RSE':RSE,\n",
    "                 'R2statistic':R2statistic}\n",
    "        output['stats'] = stats\n",
    "        outputs.append(output)\n",
    "    return outputs\n"
   ]
  },
  {
   "cell_type": "code",
   "execution_count": 81,
   "metadata": {
    "collapsed": false
   },
   "outputs": [
    {
     "name": "stdout",
     "output_type": "stream",
     "text": [
      "LinearRegression\n",
      "\n",
      "Label: Linear Regression\n",
      "sum of squared errors of prediction (SSE): 0.52\n",
      "Variance score on training set: 0.65\n",
      "Variance score on test set: 0.68\n",
      "RSE: 0.79\n",
      "R^2: 0.65\n"
     ]
    }
   ],
   "source": [
    "results_supply = build_split_train_predict(inputsSupply, weatherInfos)"
   ]
  },
  {
   "cell_type": "code",
   "execution_count": 82,
   "metadata": {
    "collapsed": false
   },
   "outputs": [
    {
     "name": "stdout",
     "output_type": "stream",
     "text": [
      "LinearRegression\n",
      "\n",
      "Label: Linear Regression\n",
      "sum of squared errors of prediction (SSE): 5.30\n",
      "Variance score on training set: 0.80\n",
      "Variance score on test set: 0.82\n",
      "RSE: 2.75\n",
      "R^2: 0.80\n"
     ]
    }
   ],
   "source": [
    "results_demand = build_split_train_predict(inputsDemand, weatherInfos)"
   ]
  },
  {
   "cell_type": "markdown",
   "metadata": {},
   "source": [
    "### Plot to compare the combinations of input parameters and AI algo."
   ]
  },
  {
   "cell_type": "code",
   "execution_count": 96,
   "metadata": {
    "collapsed": false
   },
   "outputs": [
    {
     "data": {
      "text/html": [
       "\n",
       "    <div class=\"bk-root\">\n",
       "        <a href=\"http://bokeh.pydata.org\" target=\"_blank\" class=\"bk-logo bk-logo-small bk-logo-notebook\"></a>\n",
       "        <span id=\"634d9fc2-2285-48d0-bc20-4664c1c5887c\">Loading BokehJS ...</span>\n",
       "    </div>"
      ]
     },
     "metadata": {},
     "output_type": "display_data"
    },
    {
     "data": {
      "application/javascript": [
       "\n",
       "(function(global) {\n",
       "  function now() {\n",
       "    return new Date();\n",
       "  }\n",
       "\n",
       "  var force = true;\n",
       "\n",
       "  if (typeof (window._bokeh_onload_callbacks) === \"undefined\" || force === true) {\n",
       "    window._bokeh_onload_callbacks = [];\n",
       "    window._bokeh_is_loading = undefined;\n",
       "  }\n",
       "\n",
       "\n",
       "  \n",
       "  if (typeof (window._bokeh_timeout) === \"undefined\" || force === true) {\n",
       "    window._bokeh_timeout = Date.now() + 5000;\n",
       "    window._bokeh_failed_load = false;\n",
       "  }\n",
       "\n",
       "  var NB_LOAD_WARNING = {'data': {'text/html':\n",
       "     \"<div style='background-color: #fdd'>\\n\"+\n",
       "     \"<p>\\n\"+\n",
       "     \"BokehJS does not appear to have successfully loaded. If loading BokehJS from CDN, this \\n\"+\n",
       "     \"may be due to a slow or bad network connection. Possible fixes:\\n\"+\n",
       "     \"</p>\\n\"+\n",
       "     \"<ul>\\n\"+\n",
       "     \"<li>re-rerun `output_notebook()` to attempt to load from CDN again, or</li>\\n\"+\n",
       "     \"<li>use INLINE resources instead, as so:</li>\\n\"+\n",
       "     \"</ul>\\n\"+\n",
       "     \"<code>\\n\"+\n",
       "     \"from bokeh.resources import INLINE\\n\"+\n",
       "     \"output_notebook(resources=INLINE)\\n\"+\n",
       "     \"</code>\\n\"+\n",
       "     \"</div>\"}};\n",
       "\n",
       "  function display_loaded() {\n",
       "    if (window.Bokeh !== undefined) {\n",
       "      var el = document.getElementById(\"634d9fc2-2285-48d0-bc20-4664c1c5887c\");\n",
       "      el.textContent = \"BokehJS \" + Bokeh.version + \" successfully loaded.\";\n",
       "    } else if (Date.now() < window._bokeh_timeout) {\n",
       "      setTimeout(display_loaded, 100)\n",
       "    }\n",
       "  }\n",
       "\n",
       "  function run_callbacks() {\n",
       "    try {\n",
       "      window._bokeh_onload_callbacks.forEach(function(callback) { callback() });\n",
       "    }\n",
       "    finally {\n",
       "      delete window._bokeh_onload_callbacks\n",
       "    }\n",
       "    console.info(\"Bokeh: all callbacks have finished\");\n",
       "  }\n",
       "\n",
       "  function load_libs(js_urls, callback) {\n",
       "    window._bokeh_onload_callbacks.push(callback);\n",
       "    if (window._bokeh_is_loading > 0) {\n",
       "      console.log(\"Bokeh: BokehJS is being loaded, scheduling callback at\", now());\n",
       "      return null;\n",
       "    }\n",
       "    if (js_urls == null || js_urls.length === 0) {\n",
       "      run_callbacks();\n",
       "      return null;\n",
       "    }\n",
       "    console.log(\"Bokeh: BokehJS not loaded, scheduling load and callback at\", now());\n",
       "    window._bokeh_is_loading = js_urls.length;\n",
       "    for (var i = 0; i < js_urls.length; i++) {\n",
       "      var url = js_urls[i];\n",
       "      var s = document.createElement('script');\n",
       "      s.src = url;\n",
       "      s.async = false;\n",
       "      s.onreadystatechange = s.onload = function() {\n",
       "        window._bokeh_is_loading--;\n",
       "        if (window._bokeh_is_loading === 0) {\n",
       "          console.log(\"Bokeh: all BokehJS libraries loaded\");\n",
       "          run_callbacks()\n",
       "        }\n",
       "      };\n",
       "      s.onerror = function() {\n",
       "        console.warn(\"failed to load library \" + url);\n",
       "      };\n",
       "      console.log(\"Bokeh: injecting script tag for BokehJS library: \", url);\n",
       "      document.getElementsByTagName(\"head\")[0].appendChild(s);\n",
       "    }\n",
       "  };var element = document.getElementById(\"634d9fc2-2285-48d0-bc20-4664c1c5887c\");\n",
       "  if (element == null) {\n",
       "    console.log(\"Bokeh: ERROR: autoload.js configured with elementid '634d9fc2-2285-48d0-bc20-4664c1c5887c' but no matching script tag was found. \")\n",
       "    return false;\n",
       "  }\n",
       "\n",
       "  var js_urls = [\"https://cdn.pydata.org/bokeh/release/bokeh-0.12.6.min.js\", \"https://cdn.pydata.org/bokeh/release/bokeh-widgets-0.12.6.min.js\"];\n",
       "\n",
       "  var inline_js = [\n",
       "    function(Bokeh) {\n",
       "      Bokeh.set_log_level(\"info\");\n",
       "    },\n",
       "    \n",
       "    function(Bokeh) {\n",
       "      \n",
       "    },\n",
       "    \n",
       "    function(Bokeh) {\n",
       "      \n",
       "      document.getElementById(\"634d9fc2-2285-48d0-bc20-4664c1c5887c\").textContent = \"BokehJS is loading...\";\n",
       "    },\n",
       "    function(Bokeh) {\n",
       "      console.log(\"Bokeh: injecting CSS: https://cdn.pydata.org/bokeh/release/bokeh-0.12.6.min.css\");\n",
       "      Bokeh.embed.inject_css(\"https://cdn.pydata.org/bokeh/release/bokeh-0.12.6.min.css\");\n",
       "      console.log(\"Bokeh: injecting CSS: https://cdn.pydata.org/bokeh/release/bokeh-widgets-0.12.6.min.css\");\n",
       "      Bokeh.embed.inject_css(\"https://cdn.pydata.org/bokeh/release/bokeh-widgets-0.12.6.min.css\");\n",
       "    }\n",
       "  ];\n",
       "\n",
       "  function run_inline_js() {\n",
       "    \n",
       "    if ((window.Bokeh !== undefined) || (force === true)) {\n",
       "      for (var i = 0; i < inline_js.length; i++) {\n",
       "        inline_js[i](window.Bokeh);\n",
       "      }if (force === true) {\n",
       "        display_loaded();\n",
       "      }} else if (Date.now() < window._bokeh_timeout) {\n",
       "      setTimeout(run_inline_js, 100);\n",
       "    } else if (!window._bokeh_failed_load) {\n",
       "      console.log(\"Bokeh: BokehJS failed to load within specified timeout.\");\n",
       "      window._bokeh_failed_load = true;\n",
       "    } else if (force !== true) {\n",
       "      var cell = $(document.getElementById(\"634d9fc2-2285-48d0-bc20-4664c1c5887c\")).parents('.cell').data().cell;\n",
       "      cell.output_area.append_execute_result(NB_LOAD_WARNING)\n",
       "    }\n",
       "\n",
       "  }\n",
       "\n",
       "  if (window._bokeh_is_loading === 0) {\n",
       "    console.log(\"Bokeh: BokehJS loaded, going straight to plotting\");\n",
       "    run_inline_js();\n",
       "  } else {\n",
       "    load_libs(js_urls, function() {\n",
       "      console.log(\"Bokeh: BokehJS plotting callback run at\", now());\n",
       "      run_inline_js();\n",
       "    });\n",
       "  }\n",
       "}(this));"
      ]
     },
     "metadata": {},
     "output_type": "display_data"
    }
   ],
   "source": [
    "from bokeh.io import push_notebook, show, output_notebook\n",
    "from bokeh.layouts import row\n",
    "from bokeh.plotting import figure\n",
    "output_notebook()"
   ]
  },
  {
   "cell_type": "code",
   "execution_count": 119,
   "metadata": {
    "collapsed": true
   },
   "outputs": [],
   "source": [
    "def plot_prediction(outputs, title=\"\", weatherInfos={}):\n",
    "    timeUTC = outputs[0]['dates_test'].tolist()\n",
    "    timePST = [pytz.timezone('UTC').localize(x).astimezone(timezone('US/Pacific')) for x in timeUTC]\n",
    "    actual_data = outputs[0]['y_test']\n",
    "    temper = [weatherInfos['temperature_celcius'][weatherInfos['temperature_celcius'].index.asof(i)] for i in outputs[0]['data'].index]\n",
    "    precip = [weatherInfos['precipitation_mm'][weatherInfos['precipitation_mm'].index.asof(i)] for i in outputs[0]['data'].index]\n",
    "    \n",
    "    p = figure(title=\"Predictions\", #toolbar_location=None,\n",
    "               plot_width=800, plot_height=600, x_axis_type='datetime')\n",
    "    #p.grid.grid_line_color = None\n",
    "    p.background_fill_color = \"#eeeeee\"\n",
    "    for output in outputs:\n",
    "        p.line(timePST, np.array(output['y_predict']),\n",
    "               line_width=2, line_color=\"red\",\n",
    "               legend=output['label'])\n",
    "#     p.line(timePST, temper, line_width=2, legend='Temp. (C)')\n",
    "#     p.line(timePST, precip, line_width=2, legend='Rain (mm)')\n",
    "    p.line(timePST, actual_data, line_width=2, line_color=\"gray\", legend='Actual')\n",
    "    p.xaxis.axis_label = 'Time'\n",
    "    p.yaxis.axis_label = 'Bikes'\n",
    "    output_file(\"predictions.html\", title=\"Bay Area citybikes\")\n",
    "    show(p)"
   ]
  },
  {
   "cell_type": "code",
   "execution_count": 120,
   "metadata": {
    "collapsed": false
   },
   "outputs": [
    {
     "data": {
      "text/html": [
       "\n",
       "\n",
       "    <div class=\"bk-root\">\n",
       "        <div class=\"bk-plotdiv\" id=\"a5a5e22c-e4ad-4a5b-ba11-abb0d8603ec4\"></div>\n",
       "    </div>\n",
       "<script type=\"text/javascript\">\n",
       "  \n",
       "  (function(global) {\n",
       "    function now() {\n",
       "      return new Date();\n",
       "    }\n",
       "  \n",
       "    var force = false;\n",
       "  \n",
       "    if (typeof (window._bokeh_onload_callbacks) === \"undefined\" || force === true) {\n",
       "      window._bokeh_onload_callbacks = [];\n",
       "      window._bokeh_is_loading = undefined;\n",
       "    }\n",
       "  \n",
       "  \n",
       "    \n",
       "    if (typeof (window._bokeh_timeout) === \"undefined\" || force === true) {\n",
       "      window._bokeh_timeout = Date.now() + 0;\n",
       "      window._bokeh_failed_load = false;\n",
       "    }\n",
       "  \n",
       "    var NB_LOAD_WARNING = {'data': {'text/html':\n",
       "       \"<div style='background-color: #fdd'>\\n\"+\n",
       "       \"<p>\\n\"+\n",
       "       \"BokehJS does not appear to have successfully loaded. If loading BokehJS from CDN, this \\n\"+\n",
       "       \"may be due to a slow or bad network connection. Possible fixes:\\n\"+\n",
       "       \"</p>\\n\"+\n",
       "       \"<ul>\\n\"+\n",
       "       \"<li>re-rerun `output_notebook()` to attempt to load from CDN again, or</li>\\n\"+\n",
       "       \"<li>use INLINE resources instead, as so:</li>\\n\"+\n",
       "       \"</ul>\\n\"+\n",
       "       \"<code>\\n\"+\n",
       "       \"from bokeh.resources import INLINE\\n\"+\n",
       "       \"output_notebook(resources=INLINE)\\n\"+\n",
       "       \"</code>\\n\"+\n",
       "       \"</div>\"}};\n",
       "  \n",
       "    function display_loaded() {\n",
       "      if (window.Bokeh !== undefined) {\n",
       "        var el = document.getElementById(\"a5a5e22c-e4ad-4a5b-ba11-abb0d8603ec4\");\n",
       "        el.textContent = \"BokehJS \" + Bokeh.version + \" successfully loaded.\";\n",
       "      } else if (Date.now() < window._bokeh_timeout) {\n",
       "        setTimeout(display_loaded, 100)\n",
       "      }\n",
       "    }\n",
       "  \n",
       "    function run_callbacks() {\n",
       "      try {\n",
       "        window._bokeh_onload_callbacks.forEach(function(callback) { callback() });\n",
       "      }\n",
       "      finally {\n",
       "        delete window._bokeh_onload_callbacks\n",
       "      }\n",
       "      console.info(\"Bokeh: all callbacks have finished\");\n",
       "    }\n",
       "  \n",
       "    function load_libs(js_urls, callback) {\n",
       "      window._bokeh_onload_callbacks.push(callback);\n",
       "      if (window._bokeh_is_loading > 0) {\n",
       "        console.log(\"Bokeh: BokehJS is being loaded, scheduling callback at\", now());\n",
       "        return null;\n",
       "      }\n",
       "      if (js_urls == null || js_urls.length === 0) {\n",
       "        run_callbacks();\n",
       "        return null;\n",
       "      }\n",
       "      console.log(\"Bokeh: BokehJS not loaded, scheduling load and callback at\", now());\n",
       "      window._bokeh_is_loading = js_urls.length;\n",
       "      for (var i = 0; i < js_urls.length; i++) {\n",
       "        var url = js_urls[i];\n",
       "        var s = document.createElement('script');\n",
       "        s.src = url;\n",
       "        s.async = false;\n",
       "        s.onreadystatechange = s.onload = function() {\n",
       "          window._bokeh_is_loading--;\n",
       "          if (window._bokeh_is_loading === 0) {\n",
       "            console.log(\"Bokeh: all BokehJS libraries loaded\");\n",
       "            run_callbacks()\n",
       "          }\n",
       "        };\n",
       "        s.onerror = function() {\n",
       "          console.warn(\"failed to load library \" + url);\n",
       "        };\n",
       "        console.log(\"Bokeh: injecting script tag for BokehJS library: \", url);\n",
       "        document.getElementsByTagName(\"head\")[0].appendChild(s);\n",
       "      }\n",
       "    };var element = document.getElementById(\"a5a5e22c-e4ad-4a5b-ba11-abb0d8603ec4\");\n",
       "    if (element == null) {\n",
       "      console.log(\"Bokeh: ERROR: autoload.js configured with elementid 'a5a5e22c-e4ad-4a5b-ba11-abb0d8603ec4' but no matching script tag was found. \")\n",
       "      return false;\n",
       "    }\n",
       "  \n",
       "    var js_urls = [];\n",
       "  \n",
       "    var inline_js = [\n",
       "      function(Bokeh) {\n",
       "        (function() {\n",
       "          var fn = function() {\n",
       "            var docs_json = {\"ea61cb7b-c93c-4dda-a957-9915ce2e1a5a\":{\"roots\":{\"references\":[{\"attributes\":{\"base\":60,\"mantissas\":[1,2,5,10,15,20,30],\"max_interval\":1800000.0,\"min_interval\":1000.0,\"num_minor_ticks\":0},\"id\":\"35349af0-4ebc-4d54-8681-eee3b9a0f877\",\"type\":\"AdaptiveTicker\"},{\"attributes\":{\"plot\":{\"id\":\"63f41589-f45d-4643-8cab-302c645ebc81\",\"subtype\":\"Figure\",\"type\":\"Plot\"},\"ticker\":{\"id\":\"45f8eef0-a883-4a0a-b90b-b2f6621f2003\",\"type\":\"DatetimeTicker\"}},\"id\":\"a28d49a5-42e7-40fd-8d28-dc193634b76c\",\"type\":\"Grid\"},{\"attributes\":{\"plot\":{\"id\":\"63f41589-f45d-4643-8cab-302c645ebc81\",\"subtype\":\"Figure\",\"type\":\"Plot\"}},\"id\":\"5d662409-88d9-48d5-97b7-a3d7cdb0fad0\",\"type\":\"PanTool\"},{\"attributes\":{\"months\":[0,1,2,3,4,5,6,7,8,9,10,11]},\"id\":\"355f7c34-765b-4720-9217-4bc3040a1688\",\"type\":\"MonthsTicker\"},{\"attributes\":{\"plot\":{\"id\":\"63f41589-f45d-4643-8cab-302c645ebc81\",\"subtype\":\"Figure\",\"type\":\"Plot\"}},\"id\":\"2406f541-d23a-469d-830c-2e2de1abb8cf\",\"type\":\"WheelZoomTool\"},{\"attributes\":{\"base\":24,\"mantissas\":[1,2,4,6,8,12],\"max_interval\":43200000.0,\"min_interval\":3600000.0,\"num_minor_ticks\":0},\"id\":\"0e08df30-e78c-40de-b8f0-51d615f77d98\",\"type\":\"AdaptiveTicker\"},{\"attributes\":{\"callback\":null,\"column_names\":[\"x\",\"y\"],\"data\":{\"x\":[1432335600000.0,1432339200000.0,1432342800000.0,1432346400000.0,1432350000000.0,1432353600000.0,1432357200000.0,1432360800000.0,1432364400000.0,1432368000000.0,1432371600000.0,1432375200000.0,1432378800000.0,1432382400000.0,1432386000000.0,1432389600000.0,1432393200000.0,1432396800000.0,1432400400000.0,1432404000000.0,1432407600000.0,1432411200000.0,1432414800000.0,1432418400000.0,1432422000000.0,1432425600000.0,1432429200000.0,1432432800000.0,1432436400000.0,1432440000000.0,1432443600000.0,1432447200000.0,1432450800000.0,1432454400000.0,1432458000000.0,1432461600000.0,1432465200000.0,1432468800000.0,1432472400000.0,1432476000000.0,1432479600000.0,1432483200000.0,1432486800000.0,1432490400000.0,1432494000000.0,1432497600000.0,1432501200000.0,1432504800000.0,1432508400000.0,1432512000000.0,1432515600000.0,1432519200000.0,1432522800000.0,1432526400000.0,1432530000000.0,1432533600000.0,1432537200000.0,1432540800000.0,1432544400000.0,1432548000000.0,1432551600000.0,1432555200000.0,1432558800000.0,1432562400000.0,1432566000000.0,1432569600000.0,1432573200000.0,1432576800000.0,1432580400000.0,1432584000000.0,1432587600000.0,1432591200000.0,1432594800000.0,1432598400000.0,1432602000000.0,1432605600000.0,1432609200000.0,1432612800000.0,1432616400000.0,1432620000000.0,1432623600000.0,1432627200000.0,1432630800000.0,1432634400000.0,1432638000000.0,1432641600000.0,1432645200000.0,1432648800000.0,1432652400000.0,1432656000000.0,1432659600000.0,1432663200000.0,1432666800000.0,1432670400000.0,1432674000000.0,1432677600000.0,1432681200000.0,1432684800000.0,1432688400000.0,1432692000000.0,1432695600000.0,1432699200000.0,1432702800000.0,1432706400000.0,1432710000000.0,1432713600000.0,1432717200000.0,1432720800000.0,1432724400000.0,1432728000000.0,1432731600000.0,1432735200000.0,1432738800000.0,1432742400000.0,1432746000000.0,1432749600000.0,1432753200000.0,1432756800000.0,1432760400000.0,1432764000000.0,1432767600000.0,1432771200000.0,1432774800000.0,1432778400000.0,1432782000000.0,1432785600000.0,1432789200000.0,1432792800000.0,1432796400000.0,1432800000000.0,1432803600000.0,1432807200000.0,1432810800000.0,1432814400000.0,1432818000000.0,1432821600000.0,1432825200000.0,1432828800000.0,1432832400000.0,1432836000000.0,1432839600000.0,1432843200000.0,1432846800000.0,1432850400000.0,1432854000000.0,1432857600000.0,1432861200000.0,1432864800000.0,1432868400000.0,1432872000000.0,1432875600000.0,1432879200000.0,1432882800000.0,1432886400000.0,1432890000000.0,1432893600000.0,1432897200000.0,1432900800000.0,1432904400000.0,1432908000000.0,1432911600000.0,1432915200000.0,1432918800000.0,1432922400000.0,1432926000000.0,1432929600000.0,1432933200000.0,1432936800000.0,1432940400000.0,1432944000000.0,1432947600000.0,1432951200000.0,1432954800000.0,1432958400000.0,1432962000000.0,1432965600000.0,1432969200000.0,1432972800000.0,1432976400000.0,1432980000000.0,1432983600000.0,1432987200000.0,1432990800000.0,1432994400000.0,1432998000000.0,1433001600000.0,1433005200000.0,1433008800000.0,1433012400000.0,1433016000000.0,1433019600000.0,1433023200000.0,1433026800000.0,1433030400000.0,1433034000000.0,1433037600000.0,1433041200000.0,1433044800000.0,1433048400000.0,1433052000000.0,1433055600000.0,1433059200000.0,1433062800000.0,1433066400000.0,1433070000000.0,1433073600000.0,1433077200000.0,1433080800000.0,1433084400000.0,1433088000000.0,1433091600000.0,1433095200000.0,1433098800000.0,1433102400000.0,1433106000000.0,1433109600000.0,1433113200000.0,1433116800000.0,1433120400000.0,1433124000000.0,1433127600000.0,1433131200000.0,1433134800000.0,1433138400000.0,1433142000000.0,1433145600000.0,1433149200000.0,1433152800000.0,1433156400000.0,1433160000000.0,1433163600000.0,1433167200000.0,1433170800000.0,1433174400000.0,1433178000000.0,1433181600000.0,1433185200000.0,1433188800000.0,1433192400000.0,1433196000000.0,1433199600000.0,1433203200000.0,1433206800000.0,1433210400000.0,1433214000000.0,1433217600000.0,1433221200000.0,1433224800000.0,1433228400000.0,1433232000000.0,1433235600000.0,1433239200000.0,1433242800000.0,1433246400000.0,1433250000000.0,1433253600000.0,1433257200000.0,1433260800000.0,1433264400000.0,1433268000000.0,1433271600000.0,1433275200000.0,1433278800000.0,1433282400000.0,1433286000000.0,1433289600000.0,1433293200000.0,1433296800000.0,1433300400000.0,1433304000000.0,1433307600000.0,1433311200000.0,1433314800000.0,1433318400000.0,1433322000000.0,1433325600000.0,1433329200000.0,1433332800000.0,1433336400000.0,1433340000000.0,1433343600000.0,1433347200000.0,1433350800000.0,1433354400000.0,1433358000000.0,1433361600000.0,1433365200000.0,1433368800000.0,1433372400000.0,1433376000000.0,1433379600000.0,1433383200000.0,1433386800000.0,1433390400000.0,1433394000000.0,1433397600000.0,1433401200000.0,1433404800000.0,1433408400000.0,1433412000000.0,1433415600000.0,1433419200000.0,1433422800000.0,1433426400000.0,1433430000000.0,1433433600000.0,1433437200000.0,1433440800000.0,1433444400000.0,1433448000000.0,1433451600000.0,1433455200000.0,1433458800000.0,1433462400000.0,1433466000000.0,1433469600000.0,1433473200000.0,1433476800000.0,1433480400000.0,1433484000000.0,1433487600000.0,1433491200000.0,1433494800000.0,1433498400000.0,1433502000000.0,1433505600000.0,1433509200000.0,1433512800000.0,1433516400000.0,1433520000000.0,1433523600000.0,1433527200000.0,1433530800000.0,1433534400000.0,1433538000000.0,1433541600000.0,1433545200000.0,1433548800000.0,1433552400000.0,1433556000000.0,1433559600000.0,1433563200000.0,1433566800000.0,1433570400000.0,1433574000000.0,1433577600000.0,1433581200000.0,1433584800000.0,1433588400000.0,1433592000000.0,1433595600000.0,1433599200000.0,1433602800000.0,1433606400000.0,1433610000000.0,1433613600000.0,1433617200000.0,1433620800000.0,1433624400000.0,1433628000000.0,1433631600000.0,1433635200000.0,1433638800000.0,1433642400000.0,1433646000000.0,1433649600000.0,1433653200000.0,1433656800000.0,1433660400000.0,1433664000000.0,1433667600000.0,1433671200000.0,1433674800000.0,1433678400000.0,1433682000000.0,1433685600000.0,1433689200000.0,1433692800000.0,1433696400000.0,1433700000000.0,1433703600000.0,1433707200000.0,1433710800000.0,1433714400000.0,1433718000000.0,1433721600000.0,1433725200000.0,1433728800000.0,1433732400000.0,1433736000000.0,1433739600000.0,1433743200000.0,1433746800000.0,1433750400000.0,1433754000000.0,1433757600000.0,1433761200000.0,1433764800000.0,1433768400000.0,1433772000000.0,1433775600000.0,1433779200000.0,1433782800000.0,1433786400000.0,1433790000000.0,1433793600000.0,1433797200000.0,1433800800000.0,1433804400000.0,1433808000000.0,1433811600000.0,1433815200000.0,1433818800000.0,1433822400000.0,1433826000000.0,1433829600000.0,1433833200000.0,1433836800000.0,1433840400000.0,1433844000000.0,1433847600000.0,1433851200000.0,1433854800000.0,1433858400000.0,1433862000000.0,1433865600000.0,1433869200000.0,1433872800000.0,1433876400000.0,1433880000000.0,1433883600000.0,1433887200000.0,1433890800000.0,1433894400000.0,1433898000000.0,1433901600000.0,1433905200000.0,1433908800000.0,1433912400000.0,1433916000000.0,1433919600000.0,1433923200000.0,1433926800000.0,1433930400000.0,1433934000000.0,1433937600000.0,1433941200000.0,1433944800000.0,1433948400000.0,1433952000000.0,1433955600000.0,1433959200000.0,1433962800000.0,1433966400000.0,1433970000000.0,1433973600000.0,1433977200000.0,1433980800000.0,1433984400000.0,1433988000000.0,1433991600000.0,1433995200000.0,1433998800000.0,1434002400000.0,1434006000000.0,1434009600000.0,1434013200000.0,1434016800000.0,1434020400000.0,1434024000000.0,1434027600000.0,1434031200000.0,1434034800000.0,1434038400000.0,1434042000000.0,1434045600000.0,1434049200000.0,1434052800000.0,1434056400000.0,1434060000000.0,1434063600000.0,1434067200000.0,1434070800000.0,1434074400000.0,1434078000000.0,1434081600000.0,1434085200000.0,1434088800000.0,1434092400000.0,1434096000000.0,1434099600000.0,1434103200000.0,1434106800000.0,1434110400000.0,1434114000000.0,1434117600000.0,1434121200000.0,1434124800000.0,1434128400000.0,1434132000000.0,1434135600000.0,1434139200000.0,1434142800000.0,1434146400000.0,1434150000000.0,1434153600000.0,1434157200000.0,1434160800000.0,1434164400000.0,1434168000000.0,1434171600000.0,1434175200000.0,1434178800000.0,1434182400000.0,1434186000000.0,1434189600000.0,1434193200000.0,1434196800000.0,1434200400000.0,1434204000000.0,1434207600000.0,1434211200000.0,1434214800000.0,1434218400000.0,1434222000000.0,1434225600000.0,1434229200000.0,1434232800000.0,1434236400000.0,1434240000000.0,1434243600000.0,1434247200000.0,1434250800000.0,1434254400000.0,1434258000000.0,1434261600000.0,1434265200000.0,1434268800000.0,1434272400000.0,1434276000000.0,1434279600000.0,1434283200000.0,1434286800000.0,1434290400000.0,1434294000000.0,1434297600000.0,1434301200000.0,1434304800000.0,1434308400000.0,1434312000000.0,1434315600000.0,1434319200000.0,1434322800000.0,1434326400000.0,1434330000000.0,1434333600000.0,1434337200000.0,1434340800000.0,1434344400000.0,1434348000000.0,1434351600000.0,1434355200000.0,1434358800000.0,1434362400000.0,1434366000000.0,1434369600000.0,1434373200000.0,1434376800000.0,1434380400000.0,1434384000000.0,1434387600000.0,1434391200000.0,1434394800000.0,1434398400000.0,1434402000000.0,1434405600000.0,1434409200000.0,1434412800000.0,1434416400000.0,1434420000000.0,1434423600000.0,1434427200000.0,1434430800000.0,1434434400000.0,1434438000000.0,1434441600000.0,1434445200000.0,1434448800000.0,1434452400000.0,1434456000000.0,1434459600000.0,1434463200000.0,1434466800000.0,1434470400000.0,1434474000000.0,1434477600000.0,1434481200000.0,1434484800000.0,1434488400000.0,1434492000000.0,1434495600000.0,1434499200000.0,1434502800000.0,1434506400000.0,1434510000000.0,1434513600000.0,1434517200000.0,1434520800000.0,1434524400000.0,1434528000000.0,1434531600000.0,1434535200000.0,1434538800000.0,1434542400000.0,1434546000000.0,1434549600000.0,1434553200000.0,1434556800000.0,1434560400000.0,1434564000000.0,1434567600000.0,1434571200000.0,1434574800000.0,1434578400000.0,1434582000000.0,1434585600000.0,1434589200000.0,1434592800000.0,1434596400000.0,1434600000000.0,1434603600000.0,1434607200000.0,1434610800000.0,1434614400000.0,1434618000000.0,1434621600000.0,1434625200000.0,1434628800000.0,1434632400000.0,1434636000000.0,1434639600000.0,1434643200000.0,1434646800000.0,1434650400000.0,1434654000000.0,1434657600000.0,1434661200000.0,1434664800000.0,1434668400000.0,1434672000000.0,1434675600000.0,1434679200000.0,1434682800000.0,1434686400000.0,1434690000000.0,1434693600000.0,1434697200000.0,1434700800000.0,1434704400000.0,1434708000000.0,1434711600000.0,1434715200000.0,1434718800000.0,1434722400000.0,1434726000000.0,1434729600000.0,1434733200000.0,1434736800000.0,1434740400000.0,1434744000000.0,1434747600000.0,1434751200000.0,1434754800000.0,1434758400000.0,1434762000000.0,1434765600000.0,1434769200000.0,1434772800000.0,1434776400000.0,1434780000000.0,1434783600000.0,1434787200000.0,1434790800000.0,1434794400000.0,1434798000000.0,1434801600000.0,1434805200000.0,1434808800000.0,1434812400000.0,1434816000000.0,1434819600000.0,1434823200000.0,1434826800000.0,1434830400000.0,1434834000000.0,1434837600000.0,1434841200000.0,1434844800000.0,1434848400000.0,1434852000000.0,1434855600000.0,1434859200000.0,1434862800000.0,1434866400000.0,1434870000000.0,1434873600000.0,1434877200000.0,1434880800000.0,1434884400000.0,1434888000000.0,1434891600000.0,1434895200000.0,1434898800000.0,1434902400000.0,1434906000000.0,1434909600000.0,1434913200000.0,1434916800000.0,1434920400000.0,1434924000000.0,1434927600000.0,1434931200000.0,1434934800000.0,1434938400000.0,1434942000000.0,1434945600000.0,1434949200000.0,1434952800000.0,1434956400000.0,1434960000000.0,1434963600000.0,1434967200000.0,1434970800000.0,1434974400000.0,1434978000000.0,1434981600000.0,1434985200000.0,1434988800000.0,1434992400000.0,1434996000000.0,1434999600000.0,1435003200000.0,1435006800000.0,1435010400000.0,1435014000000.0,1435017600000.0,1435021200000.0,1435024800000.0,1435028400000.0,1435032000000.0,1435035600000.0,1435039200000.0,1435042800000.0,1435046400000.0,1435050000000.0,1435053600000.0,1435057200000.0,1435060800000.0,1435064400000.0,1435068000000.0,1435071600000.0,1435075200000.0,1435078800000.0,1435082400000.0,1435086000000.0,1435089600000.0,1435093200000.0,1435096800000.0,1435100400000.0,1435104000000.0,1435107600000.0,1435111200000.0,1435114800000.0,1435118400000.0,1435122000000.0,1435125600000.0,1435129200000.0,1435132800000.0,1435136400000.0,1435140000000.0,1435143600000.0,1435147200000.0,1435150800000.0,1435154400000.0,1435158000000.0,1435161600000.0,1435165200000.0,1435168800000.0,1435172400000.0,1435176000000.0,1435179600000.0,1435183200000.0,1435186800000.0,1435190400000.0,1435194000000.0,1435197600000.0,1435201200000.0,1435204800000.0,1435208400000.0,1435212000000.0,1435215600000.0,1435219200000.0,1435222800000.0,1435226400000.0,1435230000000.0,1435233600000.0,1435237200000.0,1435240800000.0,1435244400000.0,1435248000000.0,1435251600000.0,1435255200000.0,1435258800000.0,1435262400000.0,1435266000000.0,1435269600000.0,1435273200000.0,1435276800000.0,1435280400000.0,1435284000000.0,1435287600000.0,1435291200000.0,1435294800000.0,1435298400000.0,1435302000000.0,1435305600000.0,1435309200000.0,1435312800000.0,1435316400000.0,1435320000000.0,1435323600000.0,1435327200000.0,1435330800000.0,1435334400000.0,1435338000000.0,1435341600000.0,1435345200000.0,1435348800000.0,1435352400000.0,1435356000000.0,1435359600000.0,1435363200000.0,1435366800000.0,1435370400000.0,1435374000000.0,1435377600000.0,1435381200000.0,1435384800000.0,1435388400000.0,1435392000000.0,1435395600000.0,1435399200000.0,1435402800000.0,1435406400000.0,1435410000000.0,1435413600000.0,1435417200000.0,1435420800000.0,1435424400000.0,1435428000000.0,1435431600000.0,1435435200000.0,1435438800000.0,1435442400000.0,1435446000000.0,1435449600000.0,1435453200000.0,1435456800000.0,1435460400000.0,1435464000000.0,1435467600000.0,1435471200000.0,1435474800000.0,1435478400000.0,1435482000000.0,1435485600000.0,1435489200000.0,1435492800000.0,1435496400000.0,1435500000000.0,1435503600000.0,1435507200000.0,1435510800000.0,1435514400000.0,1435518000000.0,1435521600000.0,1435525200000.0,1435528800000.0,1435532400000.0,1435536000000.0,1435539600000.0,1435543200000.0,1435546800000.0,1435550400000.0,1435554000000.0,1435557600000.0,1435561200000.0,1435564800000.0,1435568400000.0,1435572000000.0,1435575600000.0,1435579200000.0,1435582800000.0,1435586400000.0,1435590000000.0,1435593600000.0,1435597200000.0,1435600800000.0,1435604400000.0,1435608000000.0,1435611600000.0,1435615200000.0,1435618800000.0,1435622400000.0,1435626000000.0,1435629600000.0,1435633200000.0,1435636800000.0,1435640400000.0,1435644000000.0,1435647600000.0,1435651200000.0,1435654800000.0,1435658400000.0,1435662000000.0,1435665600000.0,1435669200000.0,1435672800000.0,1435676400000.0,1435680000000.0,1435683600000.0,1435687200000.0,1435690800000.0,1435694400000.0,1435698000000.0,1435701600000.0,1435705200000.0,1435708800000.0,1435712400000.0,1435716000000.0,1435719600000.0,1435723200000.0,1435726800000.0,1435730400000.0,1435734000000.0,1435737600000.0,1435741200000.0,1435744800000.0,1435748400000.0,1435752000000.0,1435755600000.0,1435759200000.0,1435762800000.0,1435766400000.0,1435770000000.0,1435773600000.0,1435777200000.0,1435780800000.0,1435784400000.0,1435788000000.0,1435791600000.0,1435795200000.0,1435798800000.0,1435802400000.0,1435806000000.0,1435809600000.0,1435813200000.0,1435816800000.0,1435820400000.0,1435824000000.0,1435827600000.0,1435831200000.0,1435834800000.0,1435838400000.0,1435842000000.0,1435845600000.0,1435849200000.0,1435852800000.0,1435856400000.0,1435860000000.0,1435863600000.0,1435867200000.0,1435870800000.0,1435874400000.0,1435878000000.0,1435881600000.0,1435885200000.0,1435888800000.0,1435892400000.0,1435896000000.0,1435899600000.0,1435903200000.0,1435906800000.0,1435910400000.0,1435914000000.0,1435917600000.0,1435921200000.0,1435924800000.0,1435928400000.0,1435932000000.0,1435935600000.0,1435939200000.0,1435942800000.0,1435946400000.0,1435950000000.0,1435953600000.0,1435957200000.0,1435960800000.0,1435964400000.0,1435968000000.0,1435971600000.0,1435975200000.0,1435978800000.0,1435982400000.0,1435986000000.0,1435989600000.0,1435993200000.0,1435996800000.0,1436000400000.0,1436004000000.0,1436007600000.0,1436011200000.0,1436014800000.0,1436018400000.0,1436022000000.0,1436025600000.0,1436029200000.0,1436032800000.0,1436036400000.0,1436040000000.0,1436043600000.0,1436047200000.0,1436050800000.0,1436054400000.0,1436058000000.0,1436061600000.0,1436065200000.0,1436068800000.0,1436072400000.0,1436076000000.0,1436079600000.0,1436083200000.0,1436086800000.0,1436090400000.0,1436094000000.0,1436097600000.0,1436101200000.0,1436104800000.0,1436108400000.0,1436112000000.0,1436115600000.0,1436119200000.0,1436122800000.0,1436126400000.0,1436130000000.0,1436133600000.0,1436137200000.0,1436140800000.0,1436144400000.0,1436148000000.0,1436151600000.0,1436155200000.0,1436158800000.0,1436162400000.0,1436166000000.0,1436169600000.0,1436173200000.0,1436176800000.0,1436180400000.0,1436184000000.0,1436187600000.0,1436191200000.0,1436194800000.0,1436198400000.0,1436202000000.0,1436205600000.0,1436209200000.0,1436212800000.0,1436216400000.0,1436220000000.0,1436223600000.0,1436227200000.0,1436230800000.0,1436234400000.0,1436238000000.0,1436241600000.0,1436245200000.0,1436248800000.0,1436252400000.0,1436256000000.0,1436259600000.0,1436263200000.0,1436266800000.0,1436270400000.0,1436274000000.0,1436277600000.0,1436281200000.0,1436284800000.0,1436288400000.0,1436292000000.0,1436295600000.0,1436299200000.0,1436302800000.0,1436306400000.0,1436310000000.0,1436313600000.0,1436317200000.0,1436320800000.0,1436324400000.0,1436328000000.0,1436331600000.0,1436335200000.0,1436338800000.0,1436342400000.0,1436346000000.0,1436349600000.0,1436353200000.0,1436356800000.0,1436360400000.0,1436364000000.0,1436367600000.0,1436371200000.0,1436374800000.0,1436378400000.0,1436382000000.0,1436385600000.0,1436389200000.0,1436392800000.0,1436396400000.0,1436400000000.0,1436403600000.0,1436407200000.0,1436410800000.0,1436414400000.0,1436418000000.0,1436421600000.0,1436425200000.0,1436428800000.0,1436432400000.0,1436436000000.0,1436439600000.0,1436443200000.0,1436446800000.0,1436450400000.0,1436454000000.0,1436457600000.0,1436461200000.0,1436464800000.0,1436468400000.0,1436472000000.0,1436475600000.0,1436479200000.0,1436482800000.0,1436486400000.0,1436490000000.0,1436493600000.0,1436497200000.0,1436500800000.0,1436504400000.0,1436508000000.0,1436511600000.0,1436515200000.0,1436518800000.0,1436522400000.0,1436526000000.0,1436529600000.0,1436533200000.0,1436536800000.0,1436540400000.0,1436544000000.0,1436547600000.0,1436551200000.0,1436554800000.0,1436558400000.0,1436562000000.0,1436565600000.0,1436569200000.0,1436572800000.0,1436576400000.0,1436580000000.0,1436583600000.0,1436587200000.0,1436590800000.0,1436594400000.0,1436598000000.0,1436601600000.0,1436605200000.0,1436608800000.0,1436612400000.0,1436616000000.0,1436619600000.0,1436623200000.0,1436626800000.0,1436630400000.0,1436634000000.0,1436637600000.0,1436641200000.0,1436644800000.0,1436648400000.0,1436652000000.0,1436655600000.0,1436659200000.0,1436662800000.0,1436666400000.0,1436670000000.0,1436673600000.0,1436677200000.0,1436680800000.0,1436684400000.0,1436688000000.0,1436691600000.0,1436695200000.0,1436698800000.0,1436702400000.0,1436706000000.0,1436709600000.0,1436713200000.0,1436716800000.0,1436720400000.0,1436724000000.0,1436727600000.0,1436731200000.0,1436734800000.0,1436738400000.0,1436742000000.0,1436745600000.0,1436749200000.0,1436752800000.0,1436756400000.0,1436760000000.0,1436763600000.0,1436767200000.0,1436770800000.0,1436774400000.0,1436778000000.0,1436781600000.0,1436785200000.0,1436788800000.0,1436792400000.0,1436796000000.0,1436799600000.0,1436803200000.0,1436806800000.0,1436810400000.0,1436814000000.0,1436817600000.0,1436821200000.0,1436824800000.0,1436828400000.0,1436832000000.0,1436835600000.0,1436839200000.0,1436842800000.0,1436846400000.0,1436850000000.0,1436853600000.0,1436857200000.0,1436860800000.0,1436864400000.0,1436868000000.0,1436871600000.0,1436875200000.0,1436878800000.0,1436882400000.0,1436886000000.0,1436889600000.0,1436893200000.0,1436896800000.0,1436900400000.0,1436904000000.0,1436907600000.0,1436911200000.0,1436914800000.0,1436918400000.0,1436922000000.0,1436925600000.0,1436929200000.0,1436932800000.0,1436936400000.0,1436940000000.0,1436943600000.0,1436947200000.0,1436950800000.0,1436954400000.0,1436958000000.0,1436961600000.0,1436965200000.0,1436968800000.0,1436972400000.0,1436976000000.0,1436979600000.0,1436983200000.0,1436986800000.0,1436990400000.0,1436994000000.0,1436997600000.0,1437001200000.0,1437004800000.0,1437008400000.0,1437012000000.0,1437015600000.0,1437019200000.0,1437022800000.0,1437026400000.0,1437030000000.0,1437033600000.0,1437037200000.0,1437040800000.0,1437044400000.0,1437048000000.0,1437051600000.0,1437055200000.0,1437058800000.0,1437062400000.0,1437066000000.0,1437069600000.0,1437073200000.0,1437076800000.0,1437080400000.0,1437084000000.0,1437087600000.0,1437091200000.0,1437094800000.0,1437098400000.0,1437102000000.0,1437105600000.0,1437109200000.0,1437112800000.0,1437116400000.0,1437120000000.0,1437123600000.0,1437127200000.0,1437130800000.0,1437134400000.0,1437138000000.0,1437141600000.0,1437145200000.0,1437148800000.0,1437152400000.0,1437156000000.0,1437159600000.0,1437163200000.0,1437166800000.0,1437170400000.0,1437174000000.0,1437177600000.0,1437181200000.0,1437184800000.0,1437188400000.0,1437192000000.0,1437195600000.0,1437199200000.0,1437202800000.0,1437206400000.0,1437210000000.0,1437213600000.0,1437217200000.0,1437220800000.0,1437224400000.0,1437228000000.0,1437231600000.0,1437235200000.0,1437238800000.0,1437242400000.0,1437246000000.0,1437249600000.0,1437253200000.0,1437256800000.0,1437260400000.0,1437264000000.0,1437267600000.0,1437271200000.0,1437274800000.0,1437278400000.0,1437282000000.0,1437285600000.0,1437289200000.0,1437292800000.0,1437296400000.0,1437300000000.0,1437303600000.0,1437307200000.0,1437310800000.0,1437314400000.0,1437318000000.0,1437321600000.0,1437325200000.0,1437328800000.0,1437332400000.0,1437336000000.0,1437339600000.0,1437343200000.0,1437346800000.0,1437350400000.0,1437354000000.0,1437357600000.0,1437361200000.0,1437364800000.0,1437368400000.0,1437372000000.0,1437375600000.0,1437379200000.0,1437382800000.0,1437386400000.0,1437390000000.0,1437393600000.0,1437397200000.0,1437400800000.0,1437404400000.0,1437408000000.0,1437411600000.0,1437415200000.0,1437418800000.0,1437422400000.0,1437426000000.0,1437429600000.0,1437433200000.0,1437436800000.0,1437440400000.0,1437444000000.0,1437447600000.0,1437451200000.0,1437454800000.0,1437458400000.0,1437462000000.0,1437465600000.0,1437469200000.0,1437472800000.0,1437476400000.0,1437480000000.0,1437483600000.0,1437487200000.0,1437490800000.0,1437494400000.0,1437498000000.0,1437501600000.0,1437505200000.0,1437508800000.0,1437512400000.0,1437516000000.0,1437519600000.0,1437523200000.0,1437526800000.0,1437530400000.0,1437534000000.0,1437537600000.0,1437541200000.0,1437544800000.0,1437548400000.0,1437552000000.0,1437555600000.0,1437559200000.0,1437562800000.0,1437566400000.0,1437570000000.0,1437573600000.0,1437577200000.0,1437580800000.0,1437584400000.0,1437588000000.0,1437591600000.0,1437595200000.0,1437598800000.0,1437602400000.0,1437606000000.0,1437609600000.0,1437613200000.0,1437616800000.0,1437620400000.0,1437624000000.0,1437627600000.0,1437631200000.0,1437634800000.0,1437638400000.0,1437642000000.0,1437645600000.0,1437649200000.0,1437652800000.0,1437656400000.0,1437660000000.0,1437663600000.0,1437667200000.0,1437670800000.0,1437674400000.0,1437678000000.0,1437681600000.0,1437685200000.0,1437688800000.0,1437692400000.0,1437696000000.0,1437699600000.0,1437703200000.0,1437706800000.0,1437710400000.0,1437714000000.0,1437717600000.0,1437721200000.0,1437724800000.0,1437728400000.0,1437732000000.0,1437735600000.0,1437739200000.0,1437742800000.0,1437746400000.0,1437750000000.0,1437753600000.0,1437757200000.0,1437760800000.0,1437764400000.0,1437768000000.0,1437771600000.0,1437775200000.0,1437778800000.0,1437782400000.0,1437786000000.0,1437789600000.0,1437793200000.0,1437796800000.0,1437800400000.0,1437804000000.0,1437807600000.0,1437811200000.0,1437814800000.0,1437818400000.0,1437822000000.0,1437825600000.0,1437829200000.0,1437832800000.0,1437836400000.0,1437840000000.0,1437843600000.0,1437847200000.0,1437850800000.0,1437854400000.0,1437858000000.0,1437861600000.0,1437865200000.0,1437868800000.0,1437872400000.0,1437876000000.0,1437879600000.0,1437883200000.0,1437886800000.0,1437890400000.0,1437894000000.0,1437897600000.0,1437901200000.0,1437904800000.0,1437908400000.0,1437912000000.0,1437915600000.0,1437919200000.0,1437922800000.0,1437926400000.0,1437930000000.0,1437933600000.0,1437937200000.0,1437940800000.0,1437944400000.0,1437948000000.0,1437951600000.0,1437955200000.0,1437958800000.0,1437962400000.0,1437966000000.0,1437969600000.0,1437973200000.0,1437976800000.0,1437980400000.0,1437984000000.0,1437987600000.0,1437991200000.0,1437994800000.0,1437998400000.0,1438002000000.0,1438005600000.0,1438009200000.0,1438012800000.0,1438016400000.0,1438020000000.0,1438023600000.0,1438027200000.0,1438030800000.0,1438034400000.0,1438038000000.0,1438041600000.0,1438045200000.0,1438048800000.0,1438052400000.0,1438056000000.0,1438059600000.0,1438063200000.0,1438066800000.0,1438070400000.0,1438074000000.0,1438077600000.0,1438081200000.0,1438084800000.0,1438088400000.0,1438092000000.0,1438095600000.0,1438099200000.0,1438102800000.0,1438106400000.0,1438110000000.0,1438113600000.0,1438117200000.0,1438120800000.0,1438124400000.0,1438128000000.0,1438131600000.0,1438135200000.0,1438138800000.0,1438142400000.0,1438146000000.0,1438149600000.0,1438153200000.0,1438156800000.0,1438160400000.0,1438164000000.0,1438167600000.0,1438171200000.0,1438174800000.0,1438178400000.0,1438182000000.0,1438185600000.0,1438189200000.0,1438192800000.0,1438196400000.0,1438200000000.0,1438203600000.0,1438207200000.0,1438210800000.0,1438214400000.0,1438218000000.0,1438221600000.0,1438225200000.0,1438228800000.0,1438232400000.0,1438236000000.0,1438239600000.0,1438243200000.0,1438246800000.0,1438250400000.0,1438254000000.0,1438257600000.0,1438261200000.0,1438264800000.0,1438268400000.0,1438272000000.0,1438275600000.0,1438279200000.0,1438282800000.0,1438286400000.0,1438290000000.0,1438293600000.0,1438297200000.0,1438300800000.0,1438304400000.0,1438308000000.0,1438311600000.0,1438315200000.0,1438318800000.0,1438322400000.0,1438326000000.0,1438329600000.0,1438333200000.0,1438336800000.0,1438340400000.0,1438344000000.0,1438347600000.0,1438351200000.0,1438354800000.0,1438358400000.0,1438362000000.0,1438365600000.0,1438369200000.0,1438372800000.0,1438376400000.0,1438380000000.0,1438383600000.0,1438387200000.0,1438390800000.0,1438394400000.0,1438398000000.0,1438401600000.0,1438405200000.0,1438408800000.0,1438412400000.0,1438416000000.0,1438419600000.0,1438423200000.0,1438426800000.0,1438430400000.0,1438434000000.0,1438437600000.0,1438441200000.0,1438444800000.0,1438448400000.0,1438452000000.0,1438455600000.0,1438459200000.0,1438462800000.0,1438466400000.0,1438470000000.0,1438473600000.0,1438477200000.0,1438480800000.0,1438484400000.0,1438488000000.0,1438491600000.0,1438495200000.0,1438498800000.0,1438502400000.0,1438506000000.0,1438509600000.0,1438513200000.0,1438516800000.0,1438520400000.0,1438524000000.0,1438527600000.0,1438531200000.0,1438534800000.0,1438538400000.0,1438542000000.0,1438545600000.0,1438549200000.0,1438552800000.0,1438556400000.0,1438560000000.0,1438563600000.0,1438567200000.0,1438570800000.0,1438574400000.0,1438578000000.0,1438581600000.0,1438585200000.0,1438588800000.0,1438592400000.0,1438596000000.0,1438599600000.0,1438603200000.0,1438606800000.0,1438610400000.0,1438614000000.0,1438617600000.0,1438621200000.0,1438624800000.0,1438628400000.0,1438632000000.0,1438635600000.0,1438639200000.0,1438642800000.0,1438646400000.0,1438650000000.0,1438653600000.0,1438657200000.0,1438660800000.0,1438664400000.0,1438668000000.0,1438671600000.0,1438675200000.0,1438678800000.0,1438682400000.0,1438686000000.0,1438689600000.0,1438693200000.0,1438696800000.0,1438700400000.0,1438704000000.0,1438707600000.0,1438711200000.0,1438714800000.0,1438718400000.0,1438722000000.0,1438725600000.0,1438729200000.0,1438732800000.0,1438736400000.0,1438740000000.0,1438743600000.0,1438747200000.0,1438750800000.0,1438754400000.0,1438758000000.0,1438761600000.0,1438765200000.0,1438768800000.0,1438772400000.0,1438776000000.0,1438779600000.0,1438783200000.0,1438786800000.0,1438790400000.0,1438794000000.0,1438797600000.0,1438801200000.0,1438804800000.0,1438808400000.0,1438812000000.0,1438815600000.0,1438819200000.0,1438822800000.0,1438826400000.0,1438830000000.0,1438833600000.0,1438837200000.0,1438840800000.0,1438844400000.0,1438848000000.0,1438851600000.0,1438855200000.0,1438858800000.0,1438862400000.0,1438866000000.0,1438869600000.0,1438873200000.0,1438876800000.0,1438880400000.0,1438884000000.0,1438887600000.0,1438891200000.0,1438894800000.0,1438898400000.0,1438902000000.0,1438905600000.0,1438909200000.0,1438912800000.0,1438916400000.0,1438920000000.0,1438923600000.0,1438927200000.0,1438930800000.0,1438934400000.0,1438938000000.0,1438941600000.0,1438945200000.0,1438948800000.0,1438952400000.0,1438956000000.0,1438959600000.0,1438963200000.0,1438966800000.0,1438970400000.0,1438974000000.0,1438977600000.0,1438981200000.0,1438984800000.0,1438988400000.0,1438992000000.0,1438995600000.0,1438999200000.0,1439002800000.0,1439006400000.0,1439010000000.0,1439013600000.0,1439017200000.0,1439020800000.0,1439024400000.0,1439028000000.0,1439031600000.0,1439035200000.0,1439038800000.0,1439042400000.0,1439046000000.0,1439049600000.0,1439053200000.0,1439056800000.0,1439060400000.0,1439064000000.0,1439067600000.0,1439071200000.0,1439074800000.0,1439078400000.0,1439082000000.0,1439085600000.0,1439089200000.0,1439092800000.0,1439096400000.0,1439100000000.0,1439103600000.0,1439107200000.0,1439110800000.0,1439114400000.0,1439118000000.0,1439121600000.0,1439125200000.0,1439128800000.0,1439132400000.0,1439136000000.0,1439139600000.0,1439143200000.0,1439146800000.0,1439150400000.0,1439154000000.0,1439157600000.0,1439161200000.0,1439164800000.0,1439168400000.0,1439172000000.0,1439175600000.0,1439179200000.0,1439182800000.0,1439186400000.0,1439190000000.0,1439193600000.0,1439197200000.0,1439200800000.0,1439204400000.0,1439208000000.0,1439211600000.0,1439215200000.0,1439218800000.0,1439222400000.0,1439226000000.0,1439229600000.0,1439233200000.0,1439236800000.0,1439240400000.0,1439244000000.0,1439247600000.0,1439251200000.0,1439254800000.0,1439258400000.0,1439262000000.0,1439265600000.0,1439269200000.0,1439272800000.0,1439276400000.0,1439280000000.0,1439283600000.0,1439287200000.0,1439290800000.0,1439294400000.0,1439298000000.0,1439301600000.0,1439305200000.0,1439308800000.0,1439312400000.0,1439316000000.0,1439319600000.0,1439323200000.0,1439326800000.0,1439330400000.0,1439334000000.0,1439337600000.0,1439341200000.0,1439344800000.0,1439348400000.0,1439352000000.0,1439355600000.0,1439359200000.0,1439362800000.0,1439366400000.0,1439370000000.0,1439373600000.0,1439377200000.0,1439380800000.0,1439384400000.0,1439388000000.0,1439391600000.0,1439395200000.0,1439398800000.0,1439402400000.0,1439406000000.0,1439409600000.0,1439413200000.0,1439416800000.0,1439420400000.0,1439424000000.0,1439427600000.0,1439431200000.0,1439434800000.0,1439438400000.0,1439442000000.0,1439445600000.0,1439449200000.0,1439452800000.0,1439456400000.0,1439460000000.0,1439463600000.0,1439467200000.0,1439470800000.0,1439474400000.0,1439478000000.0,1439481600000.0,1439485200000.0,1439488800000.0,1439492400000.0,1439496000000.0,1439499600000.0,1439503200000.0,1439506800000.0,1439510400000.0,1439514000000.0,1439517600000.0,1439521200000.0,1439524800000.0,1439528400000.0,1439532000000.0,1439535600000.0,1439539200000.0,1439542800000.0,1439546400000.0,1439550000000.0,1439553600000.0,1439557200000.0,1439560800000.0,1439564400000.0,1439568000000.0,1439571600000.0,1439575200000.0,1439578800000.0,1439582400000.0,1439586000000.0,1439589600000.0,1439593200000.0,1439596800000.0,1439600400000.0,1439604000000.0,1439607600000.0,1439611200000.0,1439614800000.0,1439618400000.0,1439622000000.0,1439625600000.0,1439629200000.0,1439632800000.0,1439636400000.0,1439640000000.0,1439643600000.0,1439647200000.0,1439650800000.0,1439654400000.0,1439658000000.0,1439661600000.0,1439665200000.0,1439668800000.0,1439672400000.0,1439676000000.0,1439679600000.0,1439683200000.0,1439686800000.0,1439690400000.0,1439694000000.0,1439697600000.0,1439701200000.0,1439704800000.0,1439708400000.0,1439712000000.0,1439715600000.0,1439719200000.0,1439722800000.0,1439726400000.0,1439730000000.0,1439733600000.0,1439737200000.0,1439740800000.0,1439744400000.0,1439748000000.0,1439751600000.0,1439755200000.0,1439758800000.0,1439762400000.0,1439766000000.0,1439769600000.0,1439773200000.0,1439776800000.0,1439780400000.0,1439784000000.0,1439787600000.0,1439791200000.0,1439794800000.0,1439798400000.0,1439802000000.0,1439805600000.0,1439809200000.0,1439812800000.0,1439816400000.0,1439820000000.0,1439823600000.0,1439827200000.0,1439830800000.0,1439834400000.0,1439838000000.0,1439841600000.0,1439845200000.0,1439848800000.0,1439852400000.0,1439856000000.0,1439859600000.0,1439863200000.0,1439866800000.0,1439870400000.0,1439874000000.0,1439877600000.0,1439881200000.0,1439884800000.0,1439888400000.0,1439892000000.0,1439895600000.0,1439899200000.0,1439902800000.0,1439906400000.0,1439910000000.0,1439913600000.0,1439917200000.0,1439920800000.0,1439924400000.0,1439928000000.0,1439931600000.0,1439935200000.0,1439938800000.0,1439942400000.0,1439946000000.0,1439949600000.0,1439953200000.0,1439956800000.0,1439960400000.0,1439964000000.0,1439967600000.0,1439971200000.0,1439974800000.0,1439978400000.0,1439982000000.0,1439985600000.0,1439989200000.0,1439992800000.0,1439996400000.0,1440000000000.0,1440003600000.0,1440007200000.0,1440010800000.0,1440014400000.0,1440018000000.0,1440021600000.0,1440025200000.0,1440028800000.0,1440032400000.0,1440036000000.0,1440039600000.0,1440043200000.0,1440046800000.0,1440050400000.0,1440054000000.0,1440057600000.0,1440061200000.0,1440064800000.0,1440068400000.0,1440072000000.0,1440075600000.0,1440079200000.0,1440082800000.0,1440086400000.0,1440090000000.0,1440093600000.0,1440097200000.0,1440100800000.0,1440104400000.0,1440108000000.0,1440111600000.0,1440115200000.0,1440118800000.0,1440122400000.0,1440126000000.0,1440129600000.0,1440133200000.0,1440136800000.0,1440140400000.0,1440144000000.0,1440147600000.0,1440151200000.0,1440154800000.0,1440158400000.0,1440162000000.0,1440165600000.0,1440169200000.0,1440172800000.0,1440176400000.0,1440180000000.0,1440183600000.0,1440187200000.0,1440190800000.0,1440194400000.0,1440198000000.0,1440201600000.0,1440205200000.0,1440208800000.0,1440212400000.0,1440216000000.0,1440219600000.0,1440223200000.0,1440226800000.0,1440230400000.0,1440234000000.0,1440237600000.0,1440241200000.0,1440244800000.0,1440248400000.0,1440252000000.0,1440255600000.0,1440259200000.0,1440262800000.0,1440266400000.0,1440270000000.0,1440273600000.0,1440277200000.0,1440280800000.0,1440284400000.0,1440288000000.0,1440291600000.0,1440295200000.0,1440298800000.0,1440302400000.0,1440306000000.0,1440309600000.0,1440313200000.0,1440316800000.0,1440320400000.0,1440324000000.0,1440327600000.0,1440331200000.0,1440334800000.0,1440338400000.0,1440342000000.0,1440345600000.0,1440349200000.0,1440352800000.0,1440356400000.0,1440360000000.0,1440363600000.0,1440367200000.0,1440370800000.0,1440374400000.0,1440378000000.0,1440381600000.0,1440385200000.0,1440388800000.0,1440392400000.0,1440396000000.0,1440399600000.0,1440403200000.0,1440406800000.0,1440410400000.0,1440414000000.0,1440417600000.0,1440421200000.0,1440424800000.0,1440428400000.0,1440432000000.0,1440435600000.0,1440439200000.0,1440442800000.0,1440446400000.0,1440450000000.0,1440453600000.0,1440457200000.0,1440460800000.0,1440464400000.0,1440468000000.0,1440471600000.0,1440475200000.0,1440478800000.0,1440482400000.0,1440486000000.0,1440489600000.0,1440493200000.0,1440496800000.0,1440500400000.0,1440504000000.0,1440507600000.0,1440511200000.0,1440514800000.0,1440518400000.0,1440522000000.0,1440525600000.0,1440529200000.0,1440532800000.0,1440536400000.0,1440540000000.0,1440543600000.0,1440547200000.0,1440550800000.0,1440554400000.0,1440558000000.0,1440561600000.0,1440565200000.0,1440568800000.0,1440572400000.0,1440576000000.0,1440579600000.0,1440583200000.0,1440586800000.0,1440590400000.0,1440594000000.0,1440597600000.0,1440601200000.0,1440604800000.0,1440608400000.0,1440612000000.0,1440615600000.0,1440619200000.0,1440622800000.0,1440626400000.0,1440630000000.0,1440633600000.0,1440637200000.0,1440640800000.0,1440644400000.0,1440648000000.0,1440651600000.0,1440655200000.0,1440658800000.0,1440662400000.0,1440666000000.0,1440669600000.0,1440673200000.0,1440676800000.0,1440680400000.0,1440684000000.0,1440687600000.0,1440691200000.0,1440694800000.0,1440698400000.0,1440702000000.0,1440705600000.0,1440709200000.0,1440712800000.0,1440716400000.0,1440720000000.0,1440723600000.0,1440727200000.0,1440730800000.0,1440734400000.0,1440738000000.0,1440741600000.0,1440745200000.0,1440748800000.0,1440752400000.0,1440756000000.0,1440759600000.0,1440763200000.0,1440766800000.0,1440770400000.0,1440774000000.0,1440777600000.0,1440781200000.0,1440784800000.0,1440788400000.0,1440792000000.0,1440795600000.0,1440799200000.0,1440802800000.0,1440806400000.0,1440810000000.0,1440813600000.0,1440817200000.0,1440820800000.0,1440824400000.0,1440828000000.0,1440831600000.0,1440835200000.0,1440838800000.0,1440842400000.0,1440846000000.0,1440849600000.0,1440853200000.0,1440856800000.0,1440860400000.0,1440864000000.0,1440867600000.0,1440871200000.0,1440874800000.0,1440878400000.0,1440882000000.0,1440885600000.0,1440889200000.0,1440892800000.0,1440896400000.0,1440900000000.0,1440903600000.0,1440907200000.0,1440910800000.0,1440914400000.0,1440918000000.0,1440921600000.0,1440925200000.0,1440928800000.0,1440932400000.0,1440936000000.0,1440939600000.0,1440943200000.0,1440946800000.0,1440950400000.0,1440954000000.0,1440957600000.0,1440961200000.0,1440964800000.0,1440968400000.0,1440972000000.0,1440975600000.0,1440979200000.0,1440982800000.0,1440986400000.0,1440990000000.0,1440993600000.0,1440997200000.0,1441000800000.0,1441004400000.0,1441008000000.0,1441011600000.0,1441015200000.0,1441018800000.0,1441022400000.0,1441026000000.0,1441029600000.0,1441033200000.0,1441036800000.0,1441040400000.0,1441044000000.0],\"y\":{\"__ndarray__\":\"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\",\"dtype\":\"float64\",\"shape\":[2420]}}},\"id\":\"d17d3d66-9bea-4ea0-894d-9ec1b15ae3f5\",\"type\":\"ColumnDataSource\"},{\"attributes\":{},\"id\":\"a8c301c6-3085-411c-a7e4-c889ef372ff8\",\"type\":\"BasicTickFormatter\"},{\"attributes\":{},\"id\":\"c981d8a0-18c1-441d-83b0-2ca82cf8d7cc\",\"type\":\"BasicTicker\"},{\"attributes\":{\"data_source\":{\"id\":\"d17d3d66-9bea-4ea0-894d-9ec1b15ae3f5\",\"type\":\"ColumnDataSource\"},\"glyph\":{\"id\":\"8a7e56ef-fe32-4606-ad17-086f426205ea\",\"type\":\"Line\"},\"hover_glyph\":null,\"muted_glyph\":null,\"nonselection_glyph\":{\"id\":\"df010949-407f-4273-a9d8-5511b1638c22\",\"type\":\"Line\"},\"selection_glyph\":null},\"id\":\"d7f0364e-31aa-4188-bc4b-b69c7e710d7b\",\"type\":\"GlyphRenderer\"},{\"attributes\":{\"plot\":null,\"text\":\"Predictions\"},\"id\":\"1ac1dfa7-9e73-466c-ba2b-e6d46b332903\",\"type\":\"Title\"},{\"attributes\":{\"plot\":{\"id\":\"63f41589-f45d-4643-8cab-302c645ebc81\",\"subtype\":\"Figure\",\"type\":\"Plot\"}},\"id\":\"cca9544b-c5a0-4cde-9f8b-ddc03f333148\",\"type\":\"ResetTool\"},{\"attributes\":{\"line_alpha\":{\"value\":0.1},\"line_color\":{\"value\":\"#1f77b4\"},\"line_width\":{\"value\":2},\"x\":{\"field\":\"x\"},\"y\":{\"field\":\"y\"}},\"id\":\"0c66849a-ba32-4298-8a6d-4248adabd541\",\"type\":\"Line\"},{\"attributes\":{\"months\":[0,6]},\"id\":\"602d9c4e-75ea-443c-a1c4-64e67f82c7e9\",\"type\":\"MonthsTicker\"},{\"attributes\":{\"months\":[0,2,4,6,8,10]},\"id\":\"2fafbc98-91cf-401e-aca0-52f63272cc50\",\"type\":\"MonthsTicker\"},{\"attributes\":{\"dimension\":1,\"plot\":{\"id\":\"63f41589-f45d-4643-8cab-302c645ebc81\",\"subtype\":\"Figure\",\"type\":\"Plot\"},\"ticker\":{\"id\":\"c981d8a0-18c1-441d-83b0-2ca82cf8d7cc\",\"type\":\"BasicTicker\"}},\"id\":\"bce97fc5-68a3-47c7-9ae2-7af73d522810\",\"type\":\"Grid\"},{\"attributes\":{\"items\":[{\"id\":\"ef21496e-e606-4ae8-9e1b-5d97c4b639f7\",\"type\":\"LegendItem\"},{\"id\":\"84601a69-ee2c-4b0c-8262-55147b22343a\",\"type\":\"LegendItem\"}],\"plot\":{\"id\":\"63f41589-f45d-4643-8cab-302c645ebc81\",\"subtype\":\"Figure\",\"type\":\"Plot\"}},\"id\":\"f58517b1-2f38-4e58-95e1-0c413ccb1531\",\"type\":\"Legend\"},{\"attributes\":{\"max_interval\":500.0,\"num_minor_ticks\":0},\"id\":\"90d77bd4-0966-46c3-8d20-dec2a1087ef4\",\"type\":\"AdaptiveTicker\"},{\"attributes\":{\"label\":{\"value\":\"Linear Regression\"},\"renderers\":[{\"id\":\"d7f0364e-31aa-4188-bc4b-b69c7e710d7b\",\"type\":\"GlyphRenderer\"}]},\"id\":\"ef21496e-e606-4ae8-9e1b-5d97c4b639f7\",\"type\":\"LegendItem\"},{\"attributes\":{},\"id\":\"f2ed52e7-7efe-4c8c-97c6-0fc706419c05\",\"type\":\"DatetimeTickFormatter\"},{\"attributes\":{\"days\":[1,8,15,22]},\"id\":\"be2ffd29-de27-48f7-be46-3628c082a1fd\",\"type\":\"DaysTicker\"},{\"attributes\":{\"line_color\":{\"value\":\"red\"},\"line_width\":{\"value\":2},\"x\":{\"field\":\"x\"},\"y\":{\"field\":\"y\"}},\"id\":\"8a7e56ef-fe32-4606-ad17-086f426205ea\",\"type\":\"Line\"},{\"attributes\":{\"callback\":null,\"column_names\":[\"x\",\"y\"],\"data\":{\"x\":[1432335600000.0,1432339200000.0,1432342800000.0,1432346400000.0,1432350000000.0,1432353600000.0,1432357200000.0,1432360800000.0,1432364400000.0,1432368000000.0,1432371600000.0,1432375200000.0,1432378800000.0,1432382400000.0,1432386000000.0,1432389600000.0,1432393200000.0,1432396800000.0,1432400400000.0,1432404000000.0,1432407600000.0,1432411200000.0,1432414800000.0,1432418400000.0,1432422000000.0,1432425600000.0,1432429200000.0,1432432800000.0,1432436400000.0,1432440000000.0,1432443600000.0,1432447200000.0,1432450800000.0,1432454400000.0,1432458000000.0,1432461600000.0,1432465200000.0,1432468800000.0,1432472400000.0,1432476000000.0,1432479600000.0,1432483200000.0,1432486800000.0,1432490400000.0,1432494000000.0,1432497600000.0,1432501200000.0,1432504800000.0,1432508400000.0,1432512000000.0,1432515600000.0,1432519200000.0,1432522800000.0,1432526400000.0,1432530000000.0,1432533600000.0,1432537200000.0,1432540800000.0,1432544400000.0,1432548000000.0,1432551600000.0,1432555200000.0,1432558800000.0,1432562400000.0,1432566000000.0,1432569600000.0,1432573200000.0,1432576800000.0,1432580400000.0,1432584000000.0,1432587600000.0,1432591200000.0,1432594800000.0,1432598400000.0,1432602000000.0,1432605600000.0,1432609200000.0,1432612800000.0,1432616400000.0,1432620000000.0,1432623600000.0,1432627200000.0,1432630800000.0,1432634400000.0,1432638000000.0,1432641600000.0,1432645200000.0,1432648800000.0,1432652400000.0,1432656000000.0,1432659600000.0,1432663200000.0,1432666800000.0,1432670400000.0,1432674000000.0,1432677600000.0,1432681200000.0,1432684800000.0,1432688400000.0,1432692000000.0,1432695600000.0,1432699200000.0,1432702800000.0,1432706400000.0,1432710000000.0,1432713600000.0,1432717200000.0,1432720800000.0,1432724400000.0,1432728000000.0,1432731600000.0,1432735200000.0,1432738800000.0,1432742400000.0,1432746000000.0,1432749600000.0,1432753200000.0,1432756800000.0,1432760400000.0,1432764000000.0,1432767600000.0,1432771200000.0,1432774800000.0,1432778400000.0,1432782000000.0,1432785600000.0,1432789200000.0,1432792800000.0,1432796400000.0,1432800000000.0,1432803600000.0,1432807200000.0,1432810800000.0,1432814400000.0,1432818000000.0,1432821600000.0,1432825200000.0,1432828800000.0,1432832400000.0,1432836000000.0,1432839600000.0,1432843200000.0,1432846800000.0,1432850400000.0,1432854000000.0,1432857600000.0,1432861200000.0,1432864800000.0,1432868400000.0,1432872000000.0,1432875600000.0,1432879200000.0,1432882800000.0,1432886400000.0,1432890000000.0,1432893600000.0,1432897200000.0,1432900800000.0,1432904400000.0,1432908000000.0,1432911600000.0,1432915200000.0,1432918800000.0,1432922400000.0,1432926000000.0,1432929600000.0,1432933200000.0,1432936800000.0,1432940400000.0,1432944000000.0,1432947600000.0,1432951200000.0,1432954800000.0,1432958400000.0,1432962000000.0,1432965600000.0,1432969200000.0,1432972800000.0,1432976400000.0,1432980000000.0,1432983600000.0,1432987200000.0,1432990800000.0,1432994400000.0,1432998000000.0,1433001600000.0,1433005200000.0,1433008800000.0,1433012400000.0,1433016000000.0,1433019600000.0,1433023200000.0,1433026800000.0,1433030400000.0,1433034000000.0,1433037600000.0,1433041200000.0,1433044800000.0,1433048400000.0,1433052000000.0,1433055600000.0,1433059200000.0,1433062800000.0,1433066400000.0,1433070000000.0,1433073600000.0,1433077200000.0,1433080800000.0,1433084400000.0,1433088000000.0,1433091600000.0,1433095200000.0,1433098800000.0,1433102400000.0,1433106000000.0,1433109600000.0,1433113200000.0,1433116800000.0,1433120400000.0,1433124000000.0,1433127600000.0,1433131200000.0,1433134800000.0,1433138400000.0,1433142000000.0,1433145600000.0,1433149200000.0,1433152800000.0,1433156400000.0,1433160000000.0,1433163600000.0,1433167200000.0,1433170800000.0,1433174400000.0,1433178000000.0,1433181600000.0,1433185200000.0,1433188800000.0,1433192400000.0,1433196000000.0,1433199600000.0,1433203200000.0,1433206800000.0,1433210400000.0,1433214000000.0,1433217600000.0,1433221200000.0,1433224800000.0,1433228400000.0,1433232000000.0,1433235600000.0,1433239200000.0,1433242800000.0,1433246400000.0,1433250000000.0,1433253600000.0,1433257200000.0,1433260800000.0,1433264400000.0,1433268000000.0,1433271600000.0,1433275200000.0,1433278800000.0,1433282400000.0,1433286000000.0,1433289600000.0,1433293200000.0,1433296800000.0,1433300400000.0,1433304000000.0,1433307600000.0,1433311200000.0,1433314800000.0,1433318400000.0,1433322000000.0,1433325600000.0,1433329200000.0,1433332800000.0,1433336400000.0,1433340000000.0,1433343600000.0,1433347200000.0,1433350800000.0,1433354400000.0,1433358000000.0,1433361600000.0,1433365200000.0,1433368800000.0,1433372400000.0,1433376000000.0,1433379600000.0,1433383200000.0,1433386800000.0,1433390400000.0,1433394000000.0,1433397600000.0,1433401200000.0,1433404800000.0,1433408400000.0,1433412000000.0,1433415600000.0,1433419200000.0,1433422800000.0,1433426400000.0,1433430000000.0,1433433600000.0,1433437200000.0,1433440800000.0,1433444400000.0,1433448000000.0,1433451600000.0,1433455200000.0,1433458800000.0,1433462400000.0,1433466000000.0,1433469600000.0,1433473200000.0,1433476800000.0,1433480400000.0,1433484000000.0,1433487600000.0,1433491200000.0,1433494800000.0,1433498400000.0,1433502000000.0,1433505600000.0,1433509200000.0,1433512800000.0,1433516400000.0,1433520000000.0,1433523600000.0,1433527200000.0,1433530800000.0,1433534400000.0,1433538000000.0,1433541600000.0,1433545200000.0,1433548800000.0,1433552400000.0,1433556000000.0,1433559600000.0,1433563200000.0,1433566800000.0,1433570400000.0,1433574000000.0,1433577600000.0,1433581200000.0,1433584800000.0,1433588400000.0,1433592000000.0,1433595600000.0,1433599200000.0,1433602800000.0,1433606400000.0,1433610000000.0,1433613600000.0,1433617200000.0,1433620800000.0,1433624400000.0,1433628000000.0,1433631600000.0,1433635200000.0,1433638800000.0,1433642400000.0,1433646000000.0,1433649600000.0,1433653200000.0,1433656800000.0,1433660400000.0,1433664000000.0,1433667600000.0,1433671200000.0,1433674800000.0,1433678400000.0,1433682000000.0,1433685600000.0,1433689200000.0,1433692800000.0,1433696400000.0,1433700000000.0,1433703600000.0,1433707200000.0,1433710800000.0,1433714400000.0,1433718000000.0,1433721600000.0,1433725200000.0,1433728800000.0,1433732400000.0,1433736000000.0,1433739600000.0,1433743200000.0,1433746800000.0,1433750400000.0,1433754000000.0,1433757600000.0,1433761200000.0,1433764800000.0,1433768400000.0,1433772000000.0,1433775600000.0,1433779200000.0,1433782800000.0,1433786400000.0,1433790000000.0,1433793600000.0,1433797200000.0,1433800800000.0,1433804400000.0,1433808000000.0,1433811600000.0,1433815200000.0,1433818800000.0,1433822400000.0,1433826000000.0,1433829600000.0,1433833200000.0,1433836800000.0,1433840400000.0,1433844000000.0,1433847600000.0,1433851200000.0,1433854800000.0,1433858400000.0,1433862000000.0,1433865600000.0,1433869200000.0,1433872800000.0,1433876400000.0,1433880000000.0,1433883600000.0,1433887200000.0,1433890800000.0,1433894400000.0,1433898000000.0,1433901600000.0,1433905200000.0,1433908800000.0,1433912400000.0,1433916000000.0,1433919600000.0,1433923200000.0,1433926800000.0,1433930400000.0,1433934000000.0,1433937600000.0,1433941200000.0,1433944800000.0,1433948400000.0,1433952000000.0,1433955600000.0,1433959200000.0,1433962800000.0,1433966400000.0,1433970000000.0,1433973600000.0,1433977200000.0,1433980800000.0,1433984400000.0,1433988000000.0,1433991600000.0,1433995200000.0,1433998800000.0,1434002400000.0,1434006000000.0,1434009600000.0,1434013200000.0,1434016800000.0,1434020400000.0,1434024000000.0,1434027600000.0,1434031200000.0,1434034800000.0,1434038400000.0,1434042000000.0,1434045600000.0,1434049200000.0,1434052800000.0,1434056400000.0,1434060000000.0,1434063600000.0,1434067200000.0,1434070800000.0,1434074400000.0,1434078000000.0,1434081600000.0,1434085200000.0,1434088800000.0,1434092400000.0,1434096000000.0,1434099600000.0,1434103200000.0,1434106800000.0,1434110400000.0,1434114000000.0,1434117600000.0,1434121200000.0,1434124800000.0,1434128400000.0,1434132000000.0,1434135600000.0,1434139200000.0,1434142800000.0,1434146400000.0,1434150000000.0,1434153600000.0,1434157200000.0,1434160800000.0,1434164400000.0,1434168000000.0,1434171600000.0,1434175200000.0,1434178800000.0,1434182400000.0,1434186000000.0,1434189600000.0,1434193200000.0,1434196800000.0,1434200400000.0,1434204000000.0,1434207600000.0,1434211200000.0,1434214800000.0,1434218400000.0,1434222000000.0,1434225600000.0,1434229200000.0,1434232800000.0,1434236400000.0,1434240000000.0,1434243600000.0,1434247200000.0,1434250800000.0,1434254400000.0,1434258000000.0,1434261600000.0,1434265200000.0,1434268800000.0,1434272400000.0,1434276000000.0,1434279600000.0,1434283200000.0,1434286800000.0,1434290400000.0,1434294000000.0,1434297600000.0,1434301200000.0,1434304800000.0,1434308400000.0,1434312000000.0,1434315600000.0,1434319200000.0,1434322800000.0,1434326400000.0,1434330000000.0,1434333600000.0,1434337200000.0,1434340800000.0,1434344400000.0,1434348000000.0,1434351600000.0,1434355200000.0,1434358800000.0,1434362400000.0,1434366000000.0,1434369600000.0,1434373200000.0,1434376800000.0,1434380400000.0,1434384000000.0,1434387600000.0,1434391200000.0,1434394800000.0,1434398400000.0,1434402000000.0,1434405600000.0,1434409200000.0,1434412800000.0,1434416400000.0,1434420000000.0,1434423600000.0,1434427200000.0,1434430800000.0,1434434400000.0,1434438000000.0,1434441600000.0,1434445200000.0,1434448800000.0,1434452400000.0,1434456000000.0,1434459600000.0,1434463200000.0,1434466800000.0,1434470400000.0,1434474000000.0,1434477600000.0,1434481200000.0,1434484800000.0,1434488400000.0,1434492000000.0,1434495600000.0,1434499200000.0,1434502800000.0,1434506400000.0,1434510000000.0,1434513600000.0,1434517200000.0,1434520800000.0,1434524400000.0,1434528000000.0,1434531600000.0,1434535200000.0,1434538800000.0,1434542400000.0,1434546000000.0,1434549600000.0,1434553200000.0,1434556800000.0,1434560400000.0,1434564000000.0,1434567600000.0,1434571200000.0,1434574800000.0,1434578400000.0,1434582000000.0,1434585600000.0,1434589200000.0,1434592800000.0,1434596400000.0,1434600000000.0,1434603600000.0,1434607200000.0,1434610800000.0,1434614400000.0,1434618000000.0,1434621600000.0,1434625200000.0,1434628800000.0,1434632400000.0,1434636000000.0,1434639600000.0,1434643200000.0,1434646800000.0,1434650400000.0,1434654000000.0,1434657600000.0,1434661200000.0,1434664800000.0,1434668400000.0,1434672000000.0,1434675600000.0,1434679200000.0,1434682800000.0,1434686400000.0,1434690000000.0,1434693600000.0,1434697200000.0,1434700800000.0,1434704400000.0,1434708000000.0,1434711600000.0,1434715200000.0,1434718800000.0,1434722400000.0,1434726000000.0,1434729600000.0,1434733200000.0,1434736800000.0,1434740400000.0,1434744000000.0,1434747600000.0,1434751200000.0,1434754800000.0,1434758400000.0,1434762000000.0,1434765600000.0,1434769200000.0,1434772800000.0,1434776400000.0,1434780000000.0,1434783600000.0,1434787200000.0,1434790800000.0,1434794400000.0,1434798000000.0,1434801600000.0,1434805200000.0,1434808800000.0,1434812400000.0,1434816000000.0,1434819600000.0,1434823200000.0,1434826800000.0,1434830400000.0,1434834000000.0,1434837600000.0,1434841200000.0,1434844800000.0,1434848400000.0,1434852000000.0,1434855600000.0,1434859200000.0,1434862800000.0,1434866400000.0,1434870000000.0,1434873600000.0,1434877200000.0,1434880800000.0,1434884400000.0,1434888000000.0,1434891600000.0,1434895200000.0,1434898800000.0,1434902400000.0,1434906000000.0,1434909600000.0,1434913200000.0,1434916800000.0,1434920400000.0,1434924000000.0,1434927600000.0,1434931200000.0,1434934800000.0,1434938400000.0,1434942000000.0,1434945600000.0,1434949200000.0,1434952800000.0,1434956400000.0,1434960000000.0,1434963600000.0,1434967200000.0,1434970800000.0,1434974400000.0,1434978000000.0,1434981600000.0,1434985200000.0,1434988800000.0,1434992400000.0,1434996000000.0,1434999600000.0,1435003200000.0,1435006800000.0,1435010400000.0,1435014000000.0,1435017600000.0,1435021200000.0,1435024800000.0,1435028400000.0,1435032000000.0,1435035600000.0,1435039200000.0,1435042800000.0,1435046400000.0,1435050000000.0,1435053600000.0,1435057200000.0,1435060800000.0,1435064400000.0,1435068000000.0,1435071600000.0,1435075200000.0,1435078800000.0,1435082400000.0,1435086000000.0,1435089600000.0,1435093200000.0,1435096800000.0,1435100400000.0,1435104000000.0,1435107600000.0,1435111200000.0,1435114800000.0,1435118400000.0,1435122000000.0,1435125600000.0,1435129200000.0,1435132800000.0,1435136400000.0,1435140000000.0,1435143600000.0,1435147200000.0,1435150800000.0,1435154400000.0,1435158000000.0,1435161600000.0,1435165200000.0,1435168800000.0,1435172400000.0,1435176000000.0,1435179600000.0,1435183200000.0,1435186800000.0,1435190400000.0,1435194000000.0,1435197600000.0,1435201200000.0,1435204800000.0,1435208400000.0,1435212000000.0,1435215600000.0,1435219200000.0,1435222800000.0,1435226400000.0,1435230000000.0,1435233600000.0,1435237200000.0,1435240800000.0,1435244400000.0,1435248000000.0,1435251600000.0,1435255200000.0,1435258800000.0,1435262400000.0,1435266000000.0,1435269600000.0,1435273200000.0,1435276800000.0,1435280400000.0,1435284000000.0,1435287600000.0,1435291200000.0,1435294800000.0,1435298400000.0,1435302000000.0,1435305600000.0,1435309200000.0,1435312800000.0,1435316400000.0,1435320000000.0,1435323600000.0,1435327200000.0,1435330800000.0,1435334400000.0,1435338000000.0,1435341600000.0,1435345200000.0,1435348800000.0,1435352400000.0,1435356000000.0,1435359600000.0,1435363200000.0,1435366800000.0,1435370400000.0,1435374000000.0,1435377600000.0,1435381200000.0,1435384800000.0,1435388400000.0,1435392000000.0,1435395600000.0,1435399200000.0,1435402800000.0,1435406400000.0,1435410000000.0,1435413600000.0,1435417200000.0,1435420800000.0,1435424400000.0,1435428000000.0,1435431600000.0,1435435200000.0,1435438800000.0,1435442400000.0,1435446000000.0,1435449600000.0,1435453200000.0,1435456800000.0,1435460400000.0,1435464000000.0,1435467600000.0,1435471200000.0,1435474800000.0,1435478400000.0,1435482000000.0,1435485600000.0,1435489200000.0,1435492800000.0,1435496400000.0,1435500000000.0,1435503600000.0,1435507200000.0,1435510800000.0,1435514400000.0,1435518000000.0,1435521600000.0,1435525200000.0,1435528800000.0,1435532400000.0,1435536000000.0,1435539600000.0,1435543200000.0,1435546800000.0,1435550400000.0,1435554000000.0,1435557600000.0,1435561200000.0,1435564800000.0,1435568400000.0,1435572000000.0,1435575600000.0,1435579200000.0,1435582800000.0,1435586400000.0,1435590000000.0,1435593600000.0,1435597200000.0,1435600800000.0,1435604400000.0,1435608000000.0,1435611600000.0,1435615200000.0,1435618800000.0,1435622400000.0,1435626000000.0,1435629600000.0,1435633200000.0,1435636800000.0,1435640400000.0,1435644000000.0,1435647600000.0,1435651200000.0,1435654800000.0,1435658400000.0,1435662000000.0,1435665600000.0,1435669200000.0,1435672800000.0,1435676400000.0,1435680000000.0,1435683600000.0,1435687200000.0,1435690800000.0,1435694400000.0,1435698000000.0,1435701600000.0,1435705200000.0,1435708800000.0,1435712400000.0,1435716000000.0,1435719600000.0,1435723200000.0,1435726800000.0,1435730400000.0,1435734000000.0,1435737600000.0,1435741200000.0,1435744800000.0,1435748400000.0,1435752000000.0,1435755600000.0,1435759200000.0,1435762800000.0,1435766400000.0,1435770000000.0,1435773600000.0,1435777200000.0,1435780800000.0,1435784400000.0,1435788000000.0,1435791600000.0,1435795200000.0,1435798800000.0,1435802400000.0,1435806000000.0,1435809600000.0,1435813200000.0,1435816800000.0,1435820400000.0,1435824000000.0,1435827600000.0,1435831200000.0,1435834800000.0,1435838400000.0,1435842000000.0,1435845600000.0,1435849200000.0,1435852800000.0,1435856400000.0,1435860000000.0,1435863600000.0,1435867200000.0,1435870800000.0,1435874400000.0,1435878000000.0,1435881600000.0,1435885200000.0,1435888800000.0,1435892400000.0,1435896000000.0,1435899600000.0,1435903200000.0,1435906800000.0,1435910400000.0,1435914000000.0,1435917600000.0,1435921200000.0,1435924800000.0,1435928400000.0,1435932000000.0,1435935600000.0,1435939200000.0,1435942800000.0,1435946400000.0,1435950000000.0,1435953600000.0,1435957200000.0,1435960800000.0,1435964400000.0,1435968000000.0,1435971600000.0,1435975200000.0,1435978800000.0,1435982400000.0,1435986000000.0,1435989600000.0,1435993200000.0,1435996800000.0,1436000400000.0,1436004000000.0,1436007600000.0,1436011200000.0,1436014800000.0,1436018400000.0,1436022000000.0,1436025600000.0,1436029200000.0,1436032800000.0,1436036400000.0,1436040000000.0,1436043600000.0,1436047200000.0,1436050800000.0,1436054400000.0,1436058000000.0,1436061600000.0,1436065200000.0,1436068800000.0,1436072400000.0,1436076000000.0,1436079600000.0,1436083200000.0,1436086800000.0,1436090400000.0,1436094000000.0,1436097600000.0,1436101200000.0,1436104800000.0,1436108400000.0,1436112000000.0,1436115600000.0,1436119200000.0,1436122800000.0,1436126400000.0,1436130000000.0,1436133600000.0,1436137200000.0,1436140800000.0,1436144400000.0,1436148000000.0,1436151600000.0,1436155200000.0,1436158800000.0,1436162400000.0,1436166000000.0,1436169600000.0,1436173200000.0,1436176800000.0,1436180400000.0,1436184000000.0,1436187600000.0,1436191200000.0,1436194800000.0,1436198400000.0,1436202000000.0,1436205600000.0,1436209200000.0,1436212800000.0,1436216400000.0,1436220000000.0,1436223600000.0,1436227200000.0,1436230800000.0,1436234400000.0,1436238000000.0,1436241600000.0,1436245200000.0,1436248800000.0,1436252400000.0,1436256000000.0,1436259600000.0,1436263200000.0,1436266800000.0,1436270400000.0,1436274000000.0,1436277600000.0,1436281200000.0,1436284800000.0,1436288400000.0,1436292000000.0,1436295600000.0,1436299200000.0,1436302800000.0,1436306400000.0,1436310000000.0,1436313600000.0,1436317200000.0,1436320800000.0,1436324400000.0,1436328000000.0,1436331600000.0,1436335200000.0,1436338800000.0,1436342400000.0,1436346000000.0,1436349600000.0,1436353200000.0,1436356800000.0,1436360400000.0,1436364000000.0,1436367600000.0,1436371200000.0,1436374800000.0,1436378400000.0,1436382000000.0,1436385600000.0,1436389200000.0,1436392800000.0,1436396400000.0,1436400000000.0,1436403600000.0,1436407200000.0,1436410800000.0,1436414400000.0,1436418000000.0,1436421600000.0,1436425200000.0,1436428800000.0,1436432400000.0,1436436000000.0,1436439600000.0,1436443200000.0,1436446800000.0,1436450400000.0,1436454000000.0,1436457600000.0,1436461200000.0,1436464800000.0,1436468400000.0,1436472000000.0,1436475600000.0,1436479200000.0,1436482800000.0,1436486400000.0,1436490000000.0,1436493600000.0,1436497200000.0,1436500800000.0,1436504400000.0,1436508000000.0,1436511600000.0,1436515200000.0,1436518800000.0,1436522400000.0,1436526000000.0,1436529600000.0,1436533200000.0,1436536800000.0,1436540400000.0,1436544000000.0,1436547600000.0,1436551200000.0,1436554800000.0,1436558400000.0,1436562000000.0,1436565600000.0,1436569200000.0,1436572800000.0,1436576400000.0,1436580000000.0,1436583600000.0,1436587200000.0,1436590800000.0,1436594400000.0,1436598000000.0,1436601600000.0,1436605200000.0,1436608800000.0,1436612400000.0,1436616000000.0,1436619600000.0,1436623200000.0,1436626800000.0,1436630400000.0,1436634000000.0,1436637600000.0,1436641200000.0,1436644800000.0,1436648400000.0,1436652000000.0,1436655600000.0,1436659200000.0,1436662800000.0,1436666400000.0,1436670000000.0,1436673600000.0,1436677200000.0,1436680800000.0,1436684400000.0,1436688000000.0,1436691600000.0,1436695200000.0,1436698800000.0,1436702400000.0,1436706000000.0,1436709600000.0,1436713200000.0,1436716800000.0,1436720400000.0,1436724000000.0,1436727600000.0,1436731200000.0,1436734800000.0,1436738400000.0,1436742000000.0,1436745600000.0,1436749200000.0,1436752800000.0,1436756400000.0,1436760000000.0,1436763600000.0,1436767200000.0,1436770800000.0,1436774400000.0,1436778000000.0,1436781600000.0,1436785200000.0,1436788800000.0,1436792400000.0,1436796000000.0,1436799600000.0,1436803200000.0,1436806800000.0,1436810400000.0,1436814000000.0,1436817600000.0,1436821200000.0,1436824800000.0,1436828400000.0,1436832000000.0,1436835600000.0,1436839200000.0,1436842800000.0,1436846400000.0,1436850000000.0,1436853600000.0,1436857200000.0,1436860800000.0,1436864400000.0,1436868000000.0,1436871600000.0,1436875200000.0,1436878800000.0,1436882400000.0,1436886000000.0,1436889600000.0,1436893200000.0,1436896800000.0,1436900400000.0,1436904000000.0,1436907600000.0,1436911200000.0,1436914800000.0,1436918400000.0,1436922000000.0,1436925600000.0,1436929200000.0,1436932800000.0,1436936400000.0,1436940000000.0,1436943600000.0,1436947200000.0,1436950800000.0,1436954400000.0,1436958000000.0,1436961600000.0,1436965200000.0,1436968800000.0,1436972400000.0,1436976000000.0,1436979600000.0,1436983200000.0,1436986800000.0,1436990400000.0,1436994000000.0,1436997600000.0,1437001200000.0,1437004800000.0,1437008400000.0,1437012000000.0,1437015600000.0,1437019200000.0,1437022800000.0,1437026400000.0,1437030000000.0,1437033600000.0,1437037200000.0,1437040800000.0,1437044400000.0,1437048000000.0,1437051600000.0,1437055200000.0,1437058800000.0,1437062400000.0,1437066000000.0,1437069600000.0,1437073200000.0,1437076800000.0,1437080400000.0,1437084000000.0,1437087600000.0,1437091200000.0,1437094800000.0,1437098400000.0,1437102000000.0,1437105600000.0,1437109200000.0,1437112800000.0,1437116400000.0,1437120000000.0,1437123600000.0,1437127200000.0,1437130800000.0,1437134400000.0,1437138000000.0,1437141600000.0,1437145200000.0,1437148800000.0,1437152400000.0,1437156000000.0,1437159600000.0,1437163200000.0,1437166800000.0,1437170400000.0,1437174000000.0,1437177600000.0,1437181200000.0,1437184800000.0,1437188400000.0,1437192000000.0,1437195600000.0,1437199200000.0,1437202800000.0,1437206400000.0,1437210000000.0,1437213600000.0,1437217200000.0,1437220800000.0,1437224400000.0,1437228000000.0,1437231600000.0,1437235200000.0,1437238800000.0,1437242400000.0,1437246000000.0,1437249600000.0,1437253200000.0,1437256800000.0,1437260400000.0,1437264000000.0,1437267600000.0,1437271200000.0,1437274800000.0,1437278400000.0,1437282000000.0,1437285600000.0,1437289200000.0,1437292800000.0,1437296400000.0,1437300000000.0,1437303600000.0,1437307200000.0,1437310800000.0,1437314400000.0,1437318000000.0,1437321600000.0,1437325200000.0,1437328800000.0,1437332400000.0,1437336000000.0,1437339600000.0,1437343200000.0,1437346800000.0,1437350400000.0,1437354000000.0,1437357600000.0,1437361200000.0,1437364800000.0,1437368400000.0,1437372000000.0,1437375600000.0,1437379200000.0,1437382800000.0,1437386400000.0,1437390000000.0,1437393600000.0,1437397200000.0,1437400800000.0,1437404400000.0,1437408000000.0,1437411600000.0,1437415200000.0,1437418800000.0,1437422400000.0,1437426000000.0,1437429600000.0,1437433200000.0,1437436800000.0,1437440400000.0,1437444000000.0,1437447600000.0,1437451200000.0,1437454800000.0,1437458400000.0,1437462000000.0,1437465600000.0,1437469200000.0,1437472800000.0,1437476400000.0,1437480000000.0,1437483600000.0,1437487200000.0,1437490800000.0,1437494400000.0,1437498000000.0,1437501600000.0,1437505200000.0,1437508800000.0,1437512400000.0,1437516000000.0,1437519600000.0,1437523200000.0,1437526800000.0,1437530400000.0,1437534000000.0,1437537600000.0,1437541200000.0,1437544800000.0,1437548400000.0,1437552000000.0,1437555600000.0,1437559200000.0,1437562800000.0,1437566400000.0,1437570000000.0,1437573600000.0,1437577200000.0,1437580800000.0,1437584400000.0,1437588000000.0,1437591600000.0,1437595200000.0,1437598800000.0,1437602400000.0,1437606000000.0,1437609600000.0,1437613200000.0,1437616800000.0,1437620400000.0,1437624000000.0,1437627600000.0,1437631200000.0,1437634800000.0,1437638400000.0,1437642000000.0,1437645600000.0,1437649200000.0,1437652800000.0,1437656400000.0,1437660000000.0,1437663600000.0,1437667200000.0,1437670800000.0,1437674400000.0,1437678000000.0,1437681600000.0,1437685200000.0,1437688800000.0,1437692400000.0,1437696000000.0,1437699600000.0,1437703200000.0,1437706800000.0,1437710400000.0,1437714000000.0,1437717600000.0,1437721200000.0,1437724800000.0,1437728400000.0,1437732000000.0,1437735600000.0,1437739200000.0,1437742800000.0,1437746400000.0,1437750000000.0,1437753600000.0,1437757200000.0,1437760800000.0,1437764400000.0,1437768000000.0,1437771600000.0,1437775200000.0,1437778800000.0,1437782400000.0,1437786000000.0,1437789600000.0,1437793200000.0,1437796800000.0,1437800400000.0,1437804000000.0,1437807600000.0,1437811200000.0,1437814800000.0,1437818400000.0,1437822000000.0,1437825600000.0,1437829200000.0,1437832800000.0,1437836400000.0,1437840000000.0,1437843600000.0,1437847200000.0,1437850800000.0,1437854400000.0,1437858000000.0,1437861600000.0,1437865200000.0,1437868800000.0,1437872400000.0,1437876000000.0,1437879600000.0,1437883200000.0,1437886800000.0,1437890400000.0,1437894000000.0,1437897600000.0,1437901200000.0,1437904800000.0,1437908400000.0,1437912000000.0,1437915600000.0,1437919200000.0,1437922800000.0,1437926400000.0,1437930000000.0,1437933600000.0,1437937200000.0,1437940800000.0,1437944400000.0,1437948000000.0,1437951600000.0,1437955200000.0,1437958800000.0,1437962400000.0,1437966000000.0,1437969600000.0,1437973200000.0,1437976800000.0,1437980400000.0,1437984000000.0,1437987600000.0,1437991200000.0,1437994800000.0,1437998400000.0,1438002000000.0,1438005600000.0,1438009200000.0,1438012800000.0,1438016400000.0,1438020000000.0,1438023600000.0,1438027200000.0,1438030800000.0,1438034400000.0,1438038000000.0,1438041600000.0,1438045200000.0,1438048800000.0,1438052400000.0,1438056000000.0,1438059600000.0,1438063200000.0,1438066800000.0,1438070400000.0,1438074000000.0,1438077600000.0,1438081200000.0,1438084800000.0,1438088400000.0,1438092000000.0,1438095600000.0,1438099200000.0,1438102800000.0,1438106400000.0,1438110000000.0,1438113600000.0,1438117200000.0,1438120800000.0,1438124400000.0,1438128000000.0,1438131600000.0,1438135200000.0,1438138800000.0,1438142400000.0,1438146000000.0,1438149600000.0,1438153200000.0,1438156800000.0,1438160400000.0,1438164000000.0,1438167600000.0,1438171200000.0,1438174800000.0,1438178400000.0,1438182000000.0,1438185600000.0,1438189200000.0,1438192800000.0,1438196400000.0,1438200000000.0,1438203600000.0,1438207200000.0,1438210800000.0,1438214400000.0,1438218000000.0,1438221600000.0,1438225200000.0,1438228800000.0,1438232400000.0,1438236000000.0,1438239600000.0,1438243200000.0,1438246800000.0,1438250400000.0,1438254000000.0,1438257600000.0,1438261200000.0,1438264800000.0,1438268400000.0,1438272000000.0,1438275600000.0,1438279200000.0,1438282800000.0,1438286400000.0,1438290000000.0,1438293600000.0,1438297200000.0,1438300800000.0,1438304400000.0,1438308000000.0,1438311600000.0,1438315200000.0,1438318800000.0,1438322400000.0,1438326000000.0,1438329600000.0,1438333200000.0,1438336800000.0,1438340400000.0,1438344000000.0,1438347600000.0,1438351200000.0,1438354800000.0,1438358400000.0,1438362000000.0,1438365600000.0,1438369200000.0,1438372800000.0,1438376400000.0,1438380000000.0,1438383600000.0,1438387200000.0,1438390800000.0,1438394400000.0,1438398000000.0,1438401600000.0,1438405200000.0,1438408800000.0,1438412400000.0,1438416000000.0,1438419600000.0,1438423200000.0,1438426800000.0,1438430400000.0,1438434000000.0,1438437600000.0,1438441200000.0,1438444800000.0,1438448400000.0,1438452000000.0,1438455600000.0,1438459200000.0,1438462800000.0,1438466400000.0,1438470000000.0,1438473600000.0,1438477200000.0,1438480800000.0,1438484400000.0,1438488000000.0,1438491600000.0,1438495200000.0,1438498800000.0,1438502400000.0,1438506000000.0,1438509600000.0,1438513200000.0,1438516800000.0,1438520400000.0,1438524000000.0,1438527600000.0,1438531200000.0,1438534800000.0,1438538400000.0,1438542000000.0,1438545600000.0,1438549200000.0,1438552800000.0,1438556400000.0,1438560000000.0,1438563600000.0,1438567200000.0,1438570800000.0,1438574400000.0,1438578000000.0,1438581600000.0,1438585200000.0,1438588800000.0,1438592400000.0,1438596000000.0,1438599600000.0,1438603200000.0,1438606800000.0,1438610400000.0,1438614000000.0,1438617600000.0,1438621200000.0,1438624800000.0,1438628400000.0,1438632000000.0,1438635600000.0,1438639200000.0,1438642800000.0,1438646400000.0,1438650000000.0,1438653600000.0,1438657200000.0,1438660800000.0,1438664400000.0,1438668000000.0,1438671600000.0,1438675200000.0,1438678800000.0,1438682400000.0,1438686000000.0,1438689600000.0,1438693200000.0,1438696800000.0,1438700400000.0,1438704000000.0,1438707600000.0,1438711200000.0,1438714800000.0,1438718400000.0,1438722000000.0,1438725600000.0,1438729200000.0,1438732800000.0,1438736400000.0,1438740000000.0,1438743600000.0,1438747200000.0,1438750800000.0,1438754400000.0,1438758000000.0,1438761600000.0,1438765200000.0,1438768800000.0,1438772400000.0,1438776000000.0,1438779600000.0,1438783200000.0,1438786800000.0,1438790400000.0,1438794000000.0,1438797600000.0,1438801200000.0,1438804800000.0,1438808400000.0,1438812000000.0,1438815600000.0,1438819200000.0,1438822800000.0,1438826400000.0,1438830000000.0,1438833600000.0,1438837200000.0,1438840800000.0,1438844400000.0,1438848000000.0,1438851600000.0,1438855200000.0,1438858800000.0,1438862400000.0,1438866000000.0,1438869600000.0,1438873200000.0,1438876800000.0,1438880400000.0,1438884000000.0,1438887600000.0,1438891200000.0,1438894800000.0,1438898400000.0,1438902000000.0,1438905600000.0,1438909200000.0,1438912800000.0,1438916400000.0,1438920000000.0,1438923600000.0,1438927200000.0,1438930800000.0,1438934400000.0,1438938000000.0,1438941600000.0,1438945200000.0,1438948800000.0,1438952400000.0,1438956000000.0,1438959600000.0,1438963200000.0,1438966800000.0,1438970400000.0,1438974000000.0,1438977600000.0,1438981200000.0,1438984800000.0,1438988400000.0,1438992000000.0,1438995600000.0,1438999200000.0,1439002800000.0,1439006400000.0,1439010000000.0,1439013600000.0,1439017200000.0,1439020800000.0,1439024400000.0,1439028000000.0,1439031600000.0,1439035200000.0,1439038800000.0,1439042400000.0,1439046000000.0,1439049600000.0,1439053200000.0,1439056800000.0,1439060400000.0,1439064000000.0,1439067600000.0,1439071200000.0,1439074800000.0,1439078400000.0,1439082000000.0,1439085600000.0,1439089200000.0,1439092800000.0,1439096400000.0,1439100000000.0,1439103600000.0,1439107200000.0,1439110800000.0,1439114400000.0,1439118000000.0,1439121600000.0,1439125200000.0,1439128800000.0,1439132400000.0,1439136000000.0,1439139600000.0,1439143200000.0,1439146800000.0,1439150400000.0,1439154000000.0,1439157600000.0,1439161200000.0,1439164800000.0,1439168400000.0,1439172000000.0,1439175600000.0,1439179200000.0,1439182800000.0,1439186400000.0,1439190000000.0,1439193600000.0,1439197200000.0,1439200800000.0,1439204400000.0,1439208000000.0,1439211600000.0,1439215200000.0,1439218800000.0,1439222400000.0,1439226000000.0,1439229600000.0,1439233200000.0,1439236800000.0,1439240400000.0,1439244000000.0,1439247600000.0,1439251200000.0,1439254800000.0,1439258400000.0,1439262000000.0,1439265600000.0,1439269200000.0,1439272800000.0,1439276400000.0,1439280000000.0,1439283600000.0,1439287200000.0,1439290800000.0,1439294400000.0,1439298000000.0,1439301600000.0,1439305200000.0,1439308800000.0,1439312400000.0,1439316000000.0,1439319600000.0,1439323200000.0,1439326800000.0,1439330400000.0,1439334000000.0,1439337600000.0,1439341200000.0,1439344800000.0,1439348400000.0,1439352000000.0,1439355600000.0,1439359200000.0,1439362800000.0,1439366400000.0,1439370000000.0,1439373600000.0,1439377200000.0,1439380800000.0,1439384400000.0,1439388000000.0,1439391600000.0,1439395200000.0,1439398800000.0,1439402400000.0,1439406000000.0,1439409600000.0,1439413200000.0,1439416800000.0,1439420400000.0,1439424000000.0,1439427600000.0,1439431200000.0,1439434800000.0,1439438400000.0,1439442000000.0,1439445600000.0,1439449200000.0,1439452800000.0,1439456400000.0,1439460000000.0,1439463600000.0,1439467200000.0,1439470800000.0,1439474400000.0,1439478000000.0,1439481600000.0,1439485200000.0,1439488800000.0,1439492400000.0,1439496000000.0,1439499600000.0,1439503200000.0,1439506800000.0,1439510400000.0,1439514000000.0,1439517600000.0,1439521200000.0,1439524800000.0,1439528400000.0,1439532000000.0,1439535600000.0,1439539200000.0,1439542800000.0,1439546400000.0,1439550000000.0,1439553600000.0,1439557200000.0,1439560800000.0,1439564400000.0,1439568000000.0,1439571600000.0,1439575200000.0,1439578800000.0,1439582400000.0,1439586000000.0,1439589600000.0,1439593200000.0,1439596800000.0,1439600400000.0,1439604000000.0,1439607600000.0,1439611200000.0,1439614800000.0,1439618400000.0,1439622000000.0,1439625600000.0,1439629200000.0,1439632800000.0,1439636400000.0,1439640000000.0,1439643600000.0,1439647200000.0,1439650800000.0,1439654400000.0,1439658000000.0,1439661600000.0,1439665200000.0,1439668800000.0,1439672400000.0,1439676000000.0,1439679600000.0,1439683200000.0,1439686800000.0,1439690400000.0,1439694000000.0,1439697600000.0,1439701200000.0,1439704800000.0,1439708400000.0,1439712000000.0,1439715600000.0,1439719200000.0,1439722800000.0,1439726400000.0,1439730000000.0,1439733600000.0,1439737200000.0,1439740800000.0,1439744400000.0,1439748000000.0,1439751600000.0,1439755200000.0,1439758800000.0,1439762400000.0,1439766000000.0,1439769600000.0,1439773200000.0,1439776800000.0,1439780400000.0,1439784000000.0,1439787600000.0,1439791200000.0,1439794800000.0,1439798400000.0,1439802000000.0,1439805600000.0,1439809200000.0,1439812800000.0,1439816400000.0,1439820000000.0,1439823600000.0,1439827200000.0,1439830800000.0,1439834400000.0,1439838000000.0,1439841600000.0,1439845200000.0,1439848800000.0,1439852400000.0,1439856000000.0,1439859600000.0,1439863200000.0,1439866800000.0,1439870400000.0,1439874000000.0,1439877600000.0,1439881200000.0,1439884800000.0,1439888400000.0,1439892000000.0,1439895600000.0,1439899200000.0,1439902800000.0,1439906400000.0,1439910000000.0,1439913600000.0,1439917200000.0,1439920800000.0,1439924400000.0,1439928000000.0,1439931600000.0,1439935200000.0,1439938800000.0,1439942400000.0,1439946000000.0,1439949600000.0,1439953200000.0,1439956800000.0,1439960400000.0,1439964000000.0,1439967600000.0,1439971200000.0,1439974800000.0,1439978400000.0,1439982000000.0,1439985600000.0,1439989200000.0,1439992800000.0,1439996400000.0,1440000000000.0,1440003600000.0,1440007200000.0,1440010800000.0,1440014400000.0,1440018000000.0,1440021600000.0,1440025200000.0,1440028800000.0,1440032400000.0,1440036000000.0,1440039600000.0,1440043200000.0,1440046800000.0,1440050400000.0,1440054000000.0,1440057600000.0,1440061200000.0,1440064800000.0,1440068400000.0,1440072000000.0,1440075600000.0,1440079200000.0,1440082800000.0,1440086400000.0,1440090000000.0,1440093600000.0,1440097200000.0,1440100800000.0,1440104400000.0,1440108000000.0,1440111600000.0,1440115200000.0,1440118800000.0,1440122400000.0,1440126000000.0,1440129600000.0,1440133200000.0,1440136800000.0,1440140400000.0,1440144000000.0,1440147600000.0,1440151200000.0,1440154800000.0,1440158400000.0,1440162000000.0,1440165600000.0,1440169200000.0,1440172800000.0,1440176400000.0,1440180000000.0,1440183600000.0,1440187200000.0,1440190800000.0,1440194400000.0,1440198000000.0,1440201600000.0,1440205200000.0,1440208800000.0,1440212400000.0,1440216000000.0,1440219600000.0,1440223200000.0,1440226800000.0,1440230400000.0,1440234000000.0,1440237600000.0,1440241200000.0,1440244800000.0,1440248400000.0,1440252000000.0,1440255600000.0,1440259200000.0,1440262800000.0,1440266400000.0,1440270000000.0,1440273600000.0,1440277200000.0,1440280800000.0,1440284400000.0,1440288000000.0,1440291600000.0,1440295200000.0,1440298800000.0,1440302400000.0,1440306000000.0,1440309600000.0,1440313200000.0,1440316800000.0,1440320400000.0,1440324000000.0,1440327600000.0,1440331200000.0,1440334800000.0,1440338400000.0,1440342000000.0,1440345600000.0,1440349200000.0,1440352800000.0,1440356400000.0,1440360000000.0,1440363600000.0,1440367200000.0,1440370800000.0,1440374400000.0,1440378000000.0,1440381600000.0,1440385200000.0,1440388800000.0,1440392400000.0,1440396000000.0,1440399600000.0,1440403200000.0,1440406800000.0,1440410400000.0,1440414000000.0,1440417600000.0,1440421200000.0,1440424800000.0,1440428400000.0,1440432000000.0,1440435600000.0,1440439200000.0,1440442800000.0,1440446400000.0,1440450000000.0,1440453600000.0,1440457200000.0,1440460800000.0,1440464400000.0,1440468000000.0,1440471600000.0,1440475200000.0,1440478800000.0,1440482400000.0,1440486000000.0,1440489600000.0,1440493200000.0,1440496800000.0,1440500400000.0,1440504000000.0,1440507600000.0,1440511200000.0,1440514800000.0,1440518400000.0,1440522000000.0,1440525600000.0,1440529200000.0,1440532800000.0,1440536400000.0,1440540000000.0,1440543600000.0,1440547200000.0,1440550800000.0,1440554400000.0,1440558000000.0,1440561600000.0,1440565200000.0,1440568800000.0,1440572400000.0,1440576000000.0,1440579600000.0,1440583200000.0,1440586800000.0,1440590400000.0,1440594000000.0,1440597600000.0,1440601200000.0,1440604800000.0,1440608400000.0,1440612000000.0,1440615600000.0,1440619200000.0,1440622800000.0,1440626400000.0,1440630000000.0,1440633600000.0,1440637200000.0,1440640800000.0,1440644400000.0,1440648000000.0,1440651600000.0,1440655200000.0,1440658800000.0,1440662400000.0,1440666000000.0,1440669600000.0,1440673200000.0,1440676800000.0,1440680400000.0,1440684000000.0,1440687600000.0,1440691200000.0,1440694800000.0,1440698400000.0,1440702000000.0,1440705600000.0,1440709200000.0,1440712800000.0,1440716400000.0,1440720000000.0,1440723600000.0,1440727200000.0,1440730800000.0,1440734400000.0,1440738000000.0,1440741600000.0,1440745200000.0,1440748800000.0,1440752400000.0,1440756000000.0,1440759600000.0,1440763200000.0,1440766800000.0,1440770400000.0,1440774000000.0,1440777600000.0,1440781200000.0,1440784800000.0,1440788400000.0,1440792000000.0,1440795600000.0,1440799200000.0,1440802800000.0,1440806400000.0,1440810000000.0,1440813600000.0,1440817200000.0,1440820800000.0,1440824400000.0,1440828000000.0,1440831600000.0,1440835200000.0,1440838800000.0,1440842400000.0,1440846000000.0,1440849600000.0,1440853200000.0,1440856800000.0,1440860400000.0,1440864000000.0,1440867600000.0,1440871200000.0,1440874800000.0,1440878400000.0,1440882000000.0,1440885600000.0,1440889200000.0,1440892800000.0,1440896400000.0,1440900000000.0,1440903600000.0,1440907200000.0,1440910800000.0,1440914400000.0,1440918000000.0,1440921600000.0,1440925200000.0,1440928800000.0,1440932400000.0,1440936000000.0,1440939600000.0,1440943200000.0,1440946800000.0,1440950400000.0,1440954000000.0,1440957600000.0,1440961200000.0,1440964800000.0,1440968400000.0,1440972000000.0,1440975600000.0,1440979200000.0,1440982800000.0,1440986400000.0,1440990000000.0,1440993600000.0,1440997200000.0,1441000800000.0,1441004400000.0,1441008000000.0,1441011600000.0,1441015200000.0,1441018800000.0,1441022400000.0,1441026000000.0,1441029600000.0,1441033200000.0,1441036800000.0,1441040400000.0,1441044000000.0],\"y\":[0,0,0,0,0,0,0,0,0,0,0,1,1,0,0,0,1,0,0,0,0,0,0,0,0,0,0,1,0,0,0,0,0,0,0,0,0,1,0,0,0,0,0,0,0,0,0,0,0,0,0,0,0,0,0,0,1,0,0,0,1,0,0,0,1,0,0,0,0,0,0,0,0,0,0,0,0,0,0,2,2,1,2,0,0,1,0,0,0,6,8,0,1,0,0,0,0,0,0,0,0,0,0,2,3,1,1,0,0,0,0,0,0,3,3,2,0,1,1,0,0,0,0,0,0,0,0,2,3,1,1,0,0,0,0,2,1,6,3,5,0,0,0,2,0,0,0,0,0,0,0,1,4,1,1,0,0,0,0,0,1,6,3,0,0,0,0,0,0,0,0,0,0,0,0,0,0,0,0,0,0,0,0,0,0,0,0,0,0,0,0,0,0,0,0,0,0,0,0,0,0,0,0,0,0,0,1,0,0,0,0,0,0,0,0,0,0,0,0,0,0,0,0,3,3,0,1,0,0,0,0,0,0,3,4,2,0,1,0,0,0,0,0,0,0,0,0,0,0,0,0,0,0,0,0,0,0,6,6,1,0,0,0,0,0,0,0,0,0,0,0,2,3,1,0,0,0,1,0,2,0,5,6,1,0,0,0,0,0,0,0,0,0,0,0,1,6,1,0,1,0,0,0,0,0,7,2,1,0,0,1,1,0,0,0,0,0,0,0,1,4,0,0,1,0,0,1,0,0,6,4,0,0,0,0,0,0,0,0,0,0,0,0,0,0,0,0,0,0,0,0,0,0,0,0,0,0,0,0,0,0,0,0,0,0,0,0,0,0,0,0,0,0,0,0,0,0,0,1,0,0,0,0,0,0,0,0,0,0,0,0,2,6,1,2,0,0,0,0,0,0,2,0,0,0,0,0,0,0,0,0,0,0,0,0,0,7,0,1,0,0,0,0,0,0,4,6,1,0,0,0,0,0,0,0,0,0,0,0,1,4,1,0,0,0,0,0,1,0,3,2,3,0,0,2,0,0,0,0,0,0,0,0,1,4,0,2,0,0,0,1,0,0,7,1,3,0,0,0,0,0,0,0,0,0,0,0,2,2,0,0,0,0,1,1,1,0,4,3,1,1,0,1,1,0,0,0,0,0,0,0,0,0,0,0,0,0,0,0,0,0,0,0,0,0,0,0,1,0,0,0,0,0,0,0,0,0,0,0,0,0,0,0,0,1,0,0,1,0,0,0,0,0,0,0,0,0,0,0,3,6,1,1,0,0,0,0,1,0,3,4,1,1,0,1,0,0,0,0,0,0,0,0,1,7,1,0,1,0,0,0,0,0,5,3,1,1,0,0,1,0,0,0,0,0,0,0,2,4,2,1,0,0,0,0,1,0,4,3,1,0,0,0,1,0,0,0,0,0,0,1,1,4,0,2,0,0,0,1,0,0,6,3,0,0,0,0,0,0,0,0,0,0,0,0,0,3,1,1,0,0,0,1,1,0,4,3,0,1,2,0,0,0,0,0,0,0,0,0,0,0,0,0,1,0,1,0,0,0,0,2,0,0,0,0,0,0,0,0,0,0,0,0,0,0,0,0,0,0,0,0,0,0,0,0,0,0,0,0,0,0,0,0,0,0,0,0,2,5,1,1,0,0,1,0,0,0,4,5,0,1,0,0,0,0,0,0,0,0,0,0,4,4,2,1,0,0,0,0,0,2,4,5,1,0,1,0,0,0,0,0,0,0,0,0,2,4,1,1,0,0,0,0,0,1,3,5,2,0,1,0,0,0,0,0,0,0,0,1,2,7,1,1,0,0,2,0,0,1,3,3,0,0,0,0,0,0,0,0,0,0,0,0,3,2,0,1,0,0,0,0,2,1,1,2,1,0,0,0,0,0,0,0,0,0,0,0,0,0,0,0,0,0,0,0,0,0,0,0,2,1,0,0,0,0,0,0,0,0,0,0,0,0,0,0,2,1,0,0,1,0,1,0,0,0,0,0,0,0,0,0,0,0,0,0,3,4,0,0,0,0,0,0,2,0,2,3,1,0,0,0,0,0,0,0,0,0,0,0,3,3,1,0,0,0,0,0,0,0,2,3,1,1,0,2,0,0,0,0,0,0,0,0,2,4,1,2,0,1,0,0,0,0,1,4,1,0,0,0,0,0,0,0,0,0,0,0,1,3,0,1,2,0,0,0,1,0,2,3,0,0,0,0,0,0,0,0,0,0,0,0,0,0,0,1,0,0,0,0,0,0,0,0,0,0,1,0,0,0,0,0,0,0,0,0,0,0,0,0,1,0,0,0,0,1,0,0,0,0,0,0,0,2,0,0,0,0,0,0,0,0,0,0,0,0,0,0,1,0,0,0,0,1,0,0,0,0,0,0,0,0,0,0,2,3,1,1,1,0,1,0,0,1,4,4,0,0,0,0,0,0,0,0,0,0,0,0,1,5,1,1,0,0,0,1,0,0,5,2,2,0,1,0,0,0,0,0,0,0,0,0,2,3,1,1,0,0,0,0,0,0,4,5,1,0,1,0,0,0,0,0,0,0,0,0,1,4,2,2,0,0,0,0,0,0,6,2,2,0,1,0,0,1,0,0,0,0,0,0,1,2,0,1,0,0,0,0,1,1,1,5,1,1,1,0,1,0,0,0,0,0,0,0,1,0,0,0,1,0,0,0,0,2,1,0,0,0,1,0,1,0,0,0,0,0,0,0,0,0,0,0,1,1,0,0,0,0,0,0,0,0,0,0,0,0,0,0,0,0,0,0,2,4,0,1,0,0,0,0,0,0,2,5,1,0,1,0,0,0,0,0,0,0,0,2,2,5,0,2,0,0,0,0,0,0,4,4,1,0,0,0,0,0,0,0,0,0,0,0,2,5,0,2,0,0,0,0,1,0,4,5,1,0,0,0,0,0,0,0,0,0,0,0,2,7,1,1,0,0,0,0,0,0,3,4,1,0,0,0,0,0,0,0,0,0,0,0,1,4,1,1,0,0,0,0,0,0,6,2,1,0,0,0,1,0,0,0,0,0,0,0,0,0,0,0,0,0,0,0,0,1,1,0,0,0,0,0,1,0,0,0,0,0,0,0,0,0,1,0,0,0,0,0,0,1,0,0,0,0,0,0,0,0,0,0,0,0,0,0,3,5,1,1,0,0,0,0,0,1,4,4,1,0,0,0,0,0,0,0,0,0,0,0,4,6,1,2,0,0,0,0,0,0,8,2,1,0,0,0,0,0,0,0,0,0,0,0,2,4,0,1,0,0,0,0,0,1,5,2,1,0,0,0,0,0,0,0,0,0,0,0,2,4,1,1,0,0,0,1,0,0,3,2,1,0,1,0,0,0,0,0,0,0,0,0,3,3,0,1,0,0,0,0,1,0,4,1,2,0,0,0,0,0,0,0,0,0,0,0,0,0,0,0,0,0,0,0,0,1,1,0,0,1,0,0,0,0,0,1,0,0,0,0,0,0,0,0,0,0,0,0,0,0,1,0,0,1,1,0,0,0,0,0,0,0,0,0,6,5,1,1,1,1,0,0,0,0,2,5,2,0,0,0,0,0,0,0,0,0,0,0,4,7,1,1,0,0,0,0,1,0,4,3,4,0,0,0,1,0,0,0,0,0,0,0,2,5,1,2,1,1,1,0,0,0,4,1,0,2,0,2,0,0,0,0,0,0,0,0,1,6,0,2,0,0,1,0,0,0,5,1,1,0,0,0,0,1,0,0,0,0,0,0,2,5,2,1,0,0,0,0,1,1,4,2,0,0,0,0,0,0,0,0,0,0,0,0,0,0,0,0,1,0,0,0,0,0,0,0,0,0,0,0,0,0,0,0,0,0,0,0,0,0,0,1,0,0,0,0,0,0,0,0,0,0,0,0,0,0,0,0,0,0,0,0,2,6,3,0,0,0,0,0,0,1,3,5,1,0,0,0,0,0,0,0,0,0,0,0,2,6,1,2,0,0,0,0,0,0,2,3,0,0,0,0,0,0,0,0,0,0,0,0,2,4,1,1,0,0,0,0,0,1,3,3,0,0,0,0,0,0,0,0,0,0,0,1,2,5,1,2,0,0,0,0,0,0,4,3,0,0,0,0,0,1,0,0,0,0,0,0,3,3,1,1,1,0,0,0,0,0,3,3,1,0,0,0,0,0,0,0,0,0,0,0,0,0,0,0,0,0,0,0,0,0,0,0,0,0,0,0,0,0,0,0,0,0,0,0,0,0,0,0,0,0,0,0,0,0,1,0,0,0,1,0,0,0,0,0,0,0,0,0,3,6,2,1,0,0,0,0,1,0,5,3,1,0,0,0,0,0,0,0,0,0,0,0,1,5,0,1,1,0,0,0,0,0,5,3,4,0,0,0,0,0,0,0,0,0,0,0,2,3,3,3,0,1,0,0,0,0,4,4,2,0,1,0,0,0,0,0,0,0,0,0,1,4,0,2,0,0,1,1,0,0,2,3,2,1,0,0,0,0,0,0,0,0,0,0,1,5,1,3,0,0,0,0,0,0,3,0,0,0,0,0,0,0,0,0,0,0,0,0,0,0,0,0,0,0,0,0,1,0,0,2,0,0,0,0,0,0,0,0,0,0,0,0,0,0,0,0,0,0,0,0,0,0,0,0,0,0,0,0,0,0,0,0,0,0,0,0,4,3,2,2,0,0,0,0,0,0,6,2,3,0,2,0,1,0,0,0,0,0,0,1,2,4,2,2,1,0,0,1,0,0,3,5,2,0,0,0,0,0,0,0,0,0,0,0,0,4,2,3,0,0,0,0,0,0,5,3,3,0,0,0,0,0,0,0,0,0,0,0,3,4,1,2,0,0,0,0,0,1,1,8,1,0,1,0,0,0,0,0,0,0,0,1,2,4,0,2,0,0,0,3,0,1,1,2,1,0,0,0,0,0,1,0,0,0,0,0,0,0,0,0,0,0,0,0,0,0,1,0,0,0,0,0,0,0,0,0,0,0,0,0,0,0,0,0,2,0,0,0,0,0,0,0,0,0,0,0,0,0,0,0,0,0,0,0,4,4,0,4,0,0,0,0,0,1,4,4,1,0,0,0,0,0,0,0,0,0,0,0,3,7,0,0,0,0,0,0,0,0,7,6,1,1,0,0,0,0,0,0,0,0,0,0,2,8,0,1,1,0,1,0,0,1,4,5,2,0,0,0,0,0,0,0,0,0,0,0,1,5,2,2,0,0,0,0,0,0,6,1,3,1,0,1,0,1,0,0,0,0,0,0,1,5,1,1,0,0,0,0,0,1,2,1,2,0,0,0,0,0,0,0,0,0,0,0,0,0,1,0,0,1,0,0,0,0,0,0,0,0,0,0,0,0,0,0,0,0,0,0,0,0,0,0,0,0,0,0,0,0,0,2,0,0,0,0,0,0,0,0,0,0,0,0,4,4,0,1,0,0,0,0,0,0,4,2,3]}},\"id\":\"8ccf9910-b88a-4db4-9be6-9d6c0856b9b1\",\"type\":\"ColumnDataSource\"},{\"attributes\":{\"axis_label\":\"Bikes\",\"formatter\":{\"id\":\"a8c301c6-3085-411c-a7e4-c889ef372ff8\",\"type\":\"BasicTickFormatter\"},\"plot\":{\"id\":\"63f41589-f45d-4643-8cab-302c645ebc81\",\"subtype\":\"Figure\",\"type\":\"Plot\"},\"ticker\":{\"id\":\"c981d8a0-18c1-441d-83b0-2ca82cf8d7cc\",\"type\":\"BasicTicker\"}},\"id\":\"7f89741a-2a35-4cc1-9f96-47e49e9325fc\",\"type\":\"LinearAxis\"},{\"attributes\":{\"data_source\":{\"id\":\"8ccf9910-b88a-4db4-9be6-9d6c0856b9b1\",\"type\":\"ColumnDataSource\"},\"glyph\":{\"id\":\"70971175-2ffc-4b45-b554-727c34b90238\",\"type\":\"Line\"},\"hover_glyph\":null,\"muted_glyph\":null,\"nonselection_glyph\":{\"id\":\"0c66849a-ba32-4298-8a6d-4248adabd541\",\"type\":\"Line\"},\"selection_glyph\":null},\"id\":\"027323d4-3124-48e5-9abe-e012bfc2eb8c\",\"type\":\"GlyphRenderer\"},{\"attributes\":{\"plot\":{\"id\":\"63f41589-f45d-4643-8cab-302c645ebc81\",\"subtype\":\"Figure\",\"type\":\"Plot\"}},\"id\":\"6bf531b9-cb8a-4b30-ab67-29bb2cbb892f\",\"type\":\"SaveTool\"},{\"attributes\":{\"active_drag\":\"auto\",\"active_inspect\":\"auto\",\"active_scroll\":\"auto\",\"active_tap\":\"auto\",\"tools\":[{\"id\":\"5d662409-88d9-48d5-97b7-a3d7cdb0fad0\",\"type\":\"PanTool\"},{\"id\":\"2406f541-d23a-469d-830c-2e2de1abb8cf\",\"type\":\"WheelZoomTool\"},{\"id\":\"21c33e5f-678e-4b9c-b637-605e84e8645e\",\"type\":\"BoxZoomTool\"},{\"id\":\"6bf531b9-cb8a-4b30-ab67-29bb2cbb892f\",\"type\":\"SaveTool\"},{\"id\":\"cca9544b-c5a0-4cde-9f8b-ddc03f333148\",\"type\":\"ResetTool\"},{\"id\":\"45db891c-25f4-4c47-a655-07ba0a75448f\",\"type\":\"HelpTool\"}]},\"id\":\"3e6571b3-ef3d-4dcc-9266-ff4e627627b1\",\"type\":\"Toolbar\"},{\"attributes\":{\"plot\":{\"id\":\"63f41589-f45d-4643-8cab-302c645ebc81\",\"subtype\":\"Figure\",\"type\":\"Plot\"}},\"id\":\"45db891c-25f4-4c47-a655-07ba0a75448f\",\"type\":\"HelpTool\"},{\"attributes\":{\"callback\":null},\"id\":\"ada0d551-d567-45df-a8e7-65025c808fdf\",\"type\":\"DataRange1d\"},{\"attributes\":{\"days\":[1,2,3,4,5,6,7,8,9,10,11,12,13,14,15,16,17,18,19,20,21,22,23,24,25,26,27,28,29,30,31]},\"id\":\"043f74af-1b61-47a0-8fb4-b9a0ef7b2eda\",\"type\":\"DaysTicker\"},{\"attributes\":{\"callback\":null},\"id\":\"c1221f84-0f35-4bfa-869f-ba4b0f6803c6\",\"type\":\"DataRange1d\"},{\"attributes\":{},\"id\":\"ace9be61-746d-427f-8a58-e6377ba2e5e3\",\"type\":\"LinearScale\"},{\"attributes\":{\"line_alpha\":{\"value\":0.1},\"line_color\":{\"value\":\"#1f77b4\"},\"line_width\":{\"value\":2},\"x\":{\"field\":\"x\"},\"y\":{\"field\":\"y\"}},\"id\":\"df010949-407f-4273-a9d8-5511b1638c22\",\"type\":\"Line\"},{\"attributes\":{\"days\":[1,15]},\"id\":\"55dfe790-b650-43ec-916a-08b47387811d\",\"type\":\"DaysTicker\"},{\"attributes\":{\"days\":[1,4,7,10,13,16,19,22,25,28]},\"id\":\"c1d854e7-990f-4312-9608-c228ded037b7\",\"type\":\"DaysTicker\"},{\"attributes\":{},\"id\":\"533c778d-8b4e-4c3a-9bfd-43c62749f500\",\"type\":\"LinearScale\"},{\"attributes\":{\"label\":{\"value\":\"Actual\"},\"renderers\":[{\"id\":\"027323d4-3124-48e5-9abe-e012bfc2eb8c\",\"type\":\"GlyphRenderer\"}]},\"id\":\"84601a69-ee2c-4b0c-8262-55147b22343a\",\"type\":\"LegendItem\"},{\"attributes\":{\"overlay\":{\"id\":\"6488e763-9eb8-415a-ad3a-95a93523f5ca\",\"type\":\"BoxAnnotation\"},\"plot\":{\"id\":\"63f41589-f45d-4643-8cab-302c645ebc81\",\"subtype\":\"Figure\",\"type\":\"Plot\"}},\"id\":\"21c33e5f-678e-4b9c-b637-605e84e8645e\",\"type\":\"BoxZoomTool\"},{\"attributes\":{\"num_minor_ticks\":5},\"id\":\"45f8eef0-a883-4a0a-b90b-b2f6621f2003\",\"type\":\"DatetimeTicker\"},{\"attributes\":{},\"id\":\"948fd343-2a99-423f-a9c7-cdcec59348ed\",\"type\":\"YearsTicker\"},{\"attributes\":{\"axis_label\":\"Time\",\"formatter\":{\"id\":\"f2ed52e7-7efe-4c8c-97c6-0fc706419c05\",\"type\":\"DatetimeTickFormatter\"},\"plot\":{\"id\":\"63f41589-f45d-4643-8cab-302c645ebc81\",\"subtype\":\"Figure\",\"type\":\"Plot\"},\"ticker\":{\"id\":\"45f8eef0-a883-4a0a-b90b-b2f6621f2003\",\"type\":\"DatetimeTicker\"}},\"id\":\"b0a5210f-3004-43fc-9410-75911d0cad57\",\"type\":\"DatetimeAxis\"},{\"attributes\":{\"line_color\":{\"value\":\"gray\"},\"line_width\":{\"value\":2},\"x\":{\"field\":\"x\"},\"y\":{\"field\":\"y\"}},\"id\":\"70971175-2ffc-4b45-b554-727c34b90238\",\"type\":\"Line\"},{\"attributes\":{},\"id\":\"3ab7c314-7f03-49a9-a740-cbd3515a28bc\",\"type\":\"ToolEvents\"},{\"attributes\":{\"bottom_units\":\"screen\",\"fill_alpha\":{\"value\":0.5},\"fill_color\":{\"value\":\"lightgrey\"},\"left_units\":\"screen\",\"level\":\"overlay\",\"line_alpha\":{\"value\":1.0},\"line_color\":{\"value\":\"black\"},\"line_dash\":[4,4],\"line_width\":{\"value\":2},\"plot\":null,\"render_mode\":\"css\",\"right_units\":\"screen\",\"top_units\":\"screen\"},\"id\":\"6488e763-9eb8-415a-ad3a-95a93523f5ca\",\"type\":\"BoxAnnotation\"},{\"attributes\":{\"months\":[0,4,8]},\"id\":\"29af0da5-a9f6-478f-bc8b-e99cae54d4f5\",\"type\":\"MonthsTicker\"},{\"attributes\":{\"background_fill_color\":{\"value\":\"#eeeeee\"},\"below\":[{\"id\":\"b0a5210f-3004-43fc-9410-75911d0cad57\",\"type\":\"DatetimeAxis\"}],\"left\":[{\"id\":\"7f89741a-2a35-4cc1-9f96-47e49e9325fc\",\"type\":\"LinearAxis\"}],\"plot_width\":800,\"renderers\":[{\"id\":\"b0a5210f-3004-43fc-9410-75911d0cad57\",\"type\":\"DatetimeAxis\"},{\"id\":\"a28d49a5-42e7-40fd-8d28-dc193634b76c\",\"type\":\"Grid\"},{\"id\":\"7f89741a-2a35-4cc1-9f96-47e49e9325fc\",\"type\":\"LinearAxis\"},{\"id\":\"bce97fc5-68a3-47c7-9ae2-7af73d522810\",\"type\":\"Grid\"},{\"id\":\"6488e763-9eb8-415a-ad3a-95a93523f5ca\",\"type\":\"BoxAnnotation\"},{\"id\":\"f58517b1-2f38-4e58-95e1-0c413ccb1531\",\"type\":\"Legend\"},{\"id\":\"d7f0364e-31aa-4188-bc4b-b69c7e710d7b\",\"type\":\"GlyphRenderer\"},{\"id\":\"027323d4-3124-48e5-9abe-e012bfc2eb8c\",\"type\":\"GlyphRenderer\"}],\"title\":{\"id\":\"1ac1dfa7-9e73-466c-ba2b-e6d46b332903\",\"type\":\"Title\"},\"tool_events\":{\"id\":\"3ab7c314-7f03-49a9-a740-cbd3515a28bc\",\"type\":\"ToolEvents\"},\"toolbar\":{\"id\":\"3e6571b3-ef3d-4dcc-9266-ff4e627627b1\",\"type\":\"Toolbar\"},\"x_range\":{\"id\":\"ada0d551-d567-45df-a8e7-65025c808fdf\",\"type\":\"DataRange1d\"},\"x_scale\":{\"id\":\"533c778d-8b4e-4c3a-9bfd-43c62749f500\",\"type\":\"LinearScale\"},\"y_range\":{\"id\":\"c1221f84-0f35-4bfa-869f-ba4b0f6803c6\",\"type\":\"DataRange1d\"},\"y_scale\":{\"id\":\"ace9be61-746d-427f-8a58-e6377ba2e5e3\",\"type\":\"LinearScale\"}},\"id\":\"63f41589-f45d-4643-8cab-302c645ebc81\",\"subtype\":\"Figure\",\"type\":\"Plot\"}],\"root_ids\":[\"63f41589-f45d-4643-8cab-302c645ebc81\"]},\"title\":\"Bokeh Application\",\"version\":\"0.12.6\"}};\n",
       "            var render_items = [{\"docid\":\"ea61cb7b-c93c-4dda-a957-9915ce2e1a5a\",\"elementid\":\"a5a5e22c-e4ad-4a5b-ba11-abb0d8603ec4\",\"modelid\":\"63f41589-f45d-4643-8cab-302c645ebc81\"}];\n",
       "            \n",
       "            Bokeh.embed.embed_items(docs_json, render_items);\n",
       "          };\n",
       "          if (document.readyState != \"loading\") fn();\n",
       "          else document.addEventListener(\"DOMContentLoaded\", fn);\n",
       "        })();\n",
       "      },\n",
       "      function(Bokeh) {\n",
       "      }\n",
       "    ];\n",
       "  \n",
       "    function run_inline_js() {\n",
       "      \n",
       "      if ((window.Bokeh !== undefined) || (force === true)) {\n",
       "        for (var i = 0; i < inline_js.length; i++) {\n",
       "          inline_js[i](window.Bokeh);\n",
       "        }if (force === true) {\n",
       "          display_loaded();\n",
       "        }} else if (Date.now() < window._bokeh_timeout) {\n",
       "        setTimeout(run_inline_js, 100);\n",
       "      } else if (!window._bokeh_failed_load) {\n",
       "        console.log(\"Bokeh: BokehJS failed to load within specified timeout.\");\n",
       "        window._bokeh_failed_load = true;\n",
       "      } else if (force !== true) {\n",
       "        var cell = $(document.getElementById(\"a5a5e22c-e4ad-4a5b-ba11-abb0d8603ec4\")).parents('.cell').data().cell;\n",
       "        cell.output_area.append_execute_result(NB_LOAD_WARNING)\n",
       "      }\n",
       "  \n",
       "    }\n",
       "  \n",
       "    if (window._bokeh_is_loading === 0) {\n",
       "      console.log(\"Bokeh: BokehJS loaded, going straight to plotting\");\n",
       "      run_inline_js();\n",
       "    } else {\n",
       "      load_libs(js_urls, function() {\n",
       "        console.log(\"Bokeh: BokehJS plotting callback run at\", now());\n",
       "        run_inline_js();\n",
       "      });\n",
       "    }\n",
       "  }(this));\n",
       "</script>"
      ]
     },
     "metadata": {},
     "output_type": "display_data"
    }
   ],
   "source": [
    "plot_prediction(results_supply,\n",
    "                title='cityBikes/Prediction of bike supply @ {stationName}'.format(stationName=stationName),\n",
    "                weatherInfos=weatherInfos)"
   ]
  },
  {
   "cell_type": "code",
   "execution_count": null,
   "metadata": {
    "collapsed": true
   },
   "outputs": [],
   "source": []
  }
 ],
 "metadata": {
  "kernelspec": {
   "display_name": "Python 2",
   "language": "python",
   "name": "python2"
  },
  "language_info": {
   "codemirror_mode": {
    "name": "ipython",
    "version": 2
   },
   "file_extension": ".py",
   "mimetype": "text/x-python",
   "name": "python",
   "nbconvert_exporter": "python",
   "pygments_lexer": "ipython2",
   "version": "2.7.12"
  }
 },
 "nbformat": 4,
 "nbformat_minor": 2
}
